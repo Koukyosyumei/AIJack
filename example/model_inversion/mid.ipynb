{
 "cells": [
  {
   "cell_type": "code",
   "execution_count": 1,
   "id": "driving-blake",
   "metadata": {},
   "outputs": [],
   "source": [
    "import torch \n",
    "from torch import nn\n",
    "from torch import optim\n",
    "from torchvision.datasets import MNIST\n",
    "from torch.utils.data import  TensorDataset, Dataset, DataLoader\n",
    "\n",
    "from tqdm.notebook import tqdm\n",
    "import numpy as np"
   ]
  },
  {
   "cell_type": "code",
   "execution_count": 2,
   "id": "transparent-edmonton",
   "metadata": {},
   "outputs": [],
   "source": [
    "from aijack.defense import VIB, KL_between_normals, mib_loss"
   ]
  },
  {
   "cell_type": "code",
   "execution_count": 3,
   "id": "difficult-tamil",
   "metadata": {},
   "outputs": [],
   "source": [
    "dim_z = 256\n",
    "beta = 1e-3\n",
    "batch_size = 100\n",
    "samples_amount = 15\n",
    "num_epochs = 1"
   ]
  },
  {
   "cell_type": "code",
   "execution_count": 4,
   "id": "athletic-right",
   "metadata": {},
   "outputs": [
    {
     "name": "stdout",
     "output_type": "stream",
     "text": [
      "Files already downloaded\n",
      "Files already downloaded\n"
     ]
    }
   ],
   "source": [
    "train_data = MNIST('MNIST/.', download=True, train=True)\n",
    "train_dataset = TensorDataset(train_data.train_data.view(-1, 28 * 28).float() / 255, train_data.train_labels)\n",
    "train_loader = DataLoader(train_dataset, batch_size=batch_size)\n",
    "\n",
    "test_data = MNIST('MNIST/.', download=True, train=False)\n",
    "test_dataset = TensorDataset(test_data.test_data.view(-1, 28 * 28).float() / 255, test_data.test_labels)\n",
    "test_loader = DataLoader(test_dataset, batch_size=batch_size)"
   ]
  },
  {
   "cell_type": "code",
   "execution_count": 5,
   "id": "unnecessary-animal",
   "metadata": {},
   "outputs": [],
   "source": [
    "encoder = nn.Sequential(nn.Linear(in_features=784, out_features=1024),\n",
    "                                     nn.ReLU(),\n",
    "                                     nn.Linear(in_features=1024, out_features=1024),\n",
    "                                     nn.ReLU(),\n",
    "                                     nn.Linear(in_features=1024, out_features=2 * dim_z))\n",
    "decoder = nn.Linear(in_features=dim_z, out_features=10)"
   ]
  },
  {
   "cell_type": "code",
   "execution_count": 6,
   "id": "approved-salad",
   "metadata": {},
   "outputs": [],
   "source": [
    "net =  VIB(encoder, decoder, dim_z, num_samples=samples_amount)\n",
    "opt = torch.optim.Adam(net.parameters(), lr=1e-4)\n",
    "scheduler = torch.optim.lr_scheduler.ExponentialLR(opt, gamma=0.97)"
   ]
  },
  {
   "cell_type": "code",
   "execution_count": 7,
   "id": "involved-professor",
   "metadata": {},
   "outputs": [
    {
     "data": {
      "application/vnd.jupyter.widget-view+json": {
       "model_id": "75286135d8e24ec4acccb943ebc267f0",
       "version_major": 2,
       "version_minor": 0
      },
      "text/plain": [
       "  0%|          | 0/600 [00:00<?, ?it/s]"
      ]
     },
     "metadata": {},
     "output_type": "display_data"
    },
    {
     "name": "stderr",
     "output_type": "stream",
     "text": [
      "C:\\Users\\kanka\\AppData\\Local\\Programs\\Python\\Python39\\lib\\site-packages\\torch\\nn\\_reduction.py:42: UserWarning: size_average and reduce args will be deprecated, please use reduction='none' instead.\n",
      "  warnings.warn(warning.format(ret))\n"
     ]
    },
    {
     "data": {
      "application/vnd.jupyter.widget-view+json": {
       "model_id": "d0aed2f1c26b450b9abb70fd0b91c632",
       "version_major": 2,
       "version_minor": 0
      },
      "text/plain": [
       "  0%|          | 0/100 [00:00<?, ?it/s]"
      ]
     },
     "metadata": {},
     "output_type": "display_data"
    },
    {
     "name": "stdout",
     "output_type": "stream",
     "text": [
      "epoch 0 loss 0.3070547956228256 prediction 0.9376000058650971\n",
      "I_ZX_bound 70.41050785064698 I_ZY_bound 0.2366442843247205\n"
     ]
    }
   ],
   "source": [
    "import time\n",
    "\n",
    "for epoch in range(num_epochs):\n",
    "    loss_by_epoch = []\n",
    "    accuracy_by_epoch = []\n",
    "    I_ZX_bound_by_epoch = []\n",
    "    I_ZY_bound_by_epoch = []\n",
    "    \n",
    "    loss_by_epoch_test = []\n",
    "    accuracy_by_epoch_test = []\n",
    "    I_ZX_bound_by_epoch_test = []\n",
    "    I_ZY_bound_by_epoch_test = []\n",
    "    \n",
    "    if epoch % 2 == 0 and epoch > 0:\n",
    "        scheduler.step()\n",
    "    \n",
    "    for x_batch, y_batch in tqdm(train_loader):   \n",
    "        x_batch = x_batch\n",
    "        y_batch = y_batch\n",
    "        \n",
    "        y_pred, result_dict = net(x_batch)\n",
    "        sampled_y_pred = result_dict[\"sampled_decoded_outputs\"]\n",
    "        p_z_given_x_mu = result_dict[\"p_z_given_x_mu\"]\n",
    "        p_z_given_x_sigma = result_dict[\"p_z_given_x_sigma\"]\n",
    "\n",
    "        approximated_z_mean = torch.zeros_like(p_z_given_x_mu)\n",
    "        approximated_z_sigma = torch.ones_like(p_z_given_x_sigma)\n",
    "        \n",
    "        loss, I_ZY_bound, I_ZX_bound = mib_loss(\n",
    "                                                y_batch,\n",
    "                                                sampled_y_pred,\n",
    "                                                p_z_given_x_mu,\n",
    "                                                p_z_given_x_sigma,\n",
    "                                                approximated_z_mean,\n",
    "                                                approximated_z_sigma,\n",
    "                                                beta=beta,\n",
    "                                                )\n",
    "        \n",
    "        prediction = torch.max(y_pred, dim=1)[1]\n",
    "        accuracy = torch.mean((prediction == y_batch).float())\n",
    "\n",
    "\n",
    "        loss.backward()\n",
    "        opt.step()\n",
    "        opt.zero_grad()\n",
    "        \n",
    "        I_ZX_bound_by_epoch.append(I_ZX_bound.item())\n",
    "        I_ZY_bound_by_epoch.append(I_ZY_bound.item())\n",
    "        \n",
    "        loss_by_epoch.append(loss.item())\n",
    "        accuracy_by_epoch.append(accuracy.item())\n",
    "        \n",
    "        \n",
    "    for x_batch, y_batch in tqdm(test_loader):\n",
    "        x_batch = x_batch\n",
    "        y_batch = y_batch\n",
    "\n",
    "        y_pred, result_dict = net(x_batch)\n",
    "        sampled_y_pred = result_dict[\"sampled_decoded_outputs\"]\n",
    "        p_z_given_x_mu = result_dict[\"p_z_given_x_mu\"]\n",
    "        p_z_given_x_sigma = result_dict[\"p_z_given_x_sigma\"]\n",
    "        \n",
    "        approximated_z_mean = torch.zeros_like(p_z_given_x_mu)\n",
    "        approximated_z_sigma = torch.ones_like(p_z_given_x_sigma)\n",
    "\n",
    "        \n",
    "        loss, I_ZY_bound, I_ZX_bound = mib_loss(\n",
    "                                                y_batch,\n",
    "                                                sampled_y_pred,\n",
    "                                                p_z_given_x_mu,\n",
    "                                                p_z_given_x_sigma,\n",
    "                                                approximated_z_mean,\n",
    "                                                approximated_z_sigma,\n",
    "                                                beta=beta,\n",
    "                                                )\n",
    "        \n",
    "        prediction = torch.max(y_pred, dim=1)[1]\n",
    "        accuracy = torch.mean((prediction == y_batch).float())\n",
    "\n",
    "        \n",
    "        I_ZX_bound_by_epoch_test.append(I_ZX_bound.item())\n",
    "        I_ZY_bound_by_epoch_test.append(I_ZY_bound.item())\n",
    "        \n",
    "        loss_by_epoch_test.append(loss.item())\n",
    "        accuracy_by_epoch_test.append(accuracy.item())\n",
    "\n",
    "   \n",
    "    print('epoch', epoch, 'loss', np.mean(loss_by_epoch_test), \n",
    "          'prediction', np.mean(accuracy_by_epoch_test))\n",
    "          \n",
    "    print('I_ZX_bound', np.mean(I_ZX_bound_by_epoch_test), \n",
    "          'I_ZY_bound', np.mean(I_ZY_bound_by_epoch_test))"
   ]
  },
  {
   "cell_type": "code",
   "execution_count": 8,
   "id": "incorporate-radar",
   "metadata": {},
   "outputs": [],
   "source": [
    "from aijack.attack import GradientInversion_Attack"
   ]
  },
  {
   "cell_type": "code",
   "execution_count": 9,
   "id": "everyday-voltage",
   "metadata": {},
   "outputs": [
    {
     "name": "stderr",
     "output_type": "stream",
     "text": [
      "C:\\Users\\kanka\\AppData\\Local\\Programs\\Python\\Python39\\lib\\site-packages\\torch\\nn\\_reduction.py:42: UserWarning: size_average and reduce args will be deprecated, please use reduction='none' instead.\n",
      "  warnings.warn(warning.format(ret))\n"
     ]
    }
   ],
   "source": [
    "y_pred, result_dict = net(x_batch[:1])\n",
    "sampled_y_pred = result_dict[\"sampled_decoded_outputs\"]\n",
    "p_z_given_x_mu = result_dict[\"p_z_given_x_mu\"]\n",
    "p_z_given_x_sigma = result_dict[\"p_z_given_x_sigma\"]\n",
    "\n",
    "approximated_z_mean = torch.zeros_like(p_z_given_x_mu)\n",
    "approximated_z_sigma = torch.ones_like(p_z_given_x_sigma)\n",
    "\n",
    "\n",
    "loss, I_ZY_bound, I_ZX_bound = mib_loss(\n",
    "                                        y_batch[:1],\n",
    "                                        sampled_y_pred,\n",
    "                                        p_z_given_x_mu,\n",
    "                                        p_z_given_x_sigma,\n",
    "                                        approximated_z_mean,\n",
    "                                        approximated_z_sigma,\n",
    "                                        beta=beta,\n",
    "                                        )\n",
    "\n",
    "received_gradients = torch.autograd.grad(loss, net.parameters())\n",
    "received_gradients = [cg.detach() for cg in received_gradients]\n",
    "received_gradients = [cg for cg in received_gradients]"
   ]
  },
  {
   "cell_type": "code",
   "execution_count": 21,
   "id": "egyptian-gazette",
   "metadata": {},
   "outputs": [
    {
     "data": {
      "application/vnd.jupyter.widget-view+json": {
       "model_id": "47d9cfdaa1e44eab8ff7fde710d544ae",
       "version_major": 2,
       "version_minor": 0
      },
      "text/plain": [
       "  0%|          | 0/5 [00:00<?, ?it/s]"
      ]
     },
     "metadata": {},
     "output_type": "display_data"
    },
    {
     "name": "stdout",
     "output_type": "stream",
     "text": [
      "iter=50: 0.4189454913139343, (best_iter=46: 0.4070495367050171)\n",
      "iter=100: 0.4186374843120575, (best_iter=75: 0.402984082698822)\n",
      "iter=150: 0.4199479818344116, (best_iter=118: 0.3985668420791626)\n",
      "iter=200: 0.41982558369636536, (best_iter=118: 0.3985668420791626)\n",
      "iter=50: 0.42577487230300903, (best_iter=6: 0.3058890104293823)\n",
      "iter=100: 4.890474319458008, (best_iter=6: 0.3058890104293823)\n",
      "iter=50: 0.6188687682151794, (best_iter=16: 0.3128494918346405)\n",
      "iter=100: 1.8787391185760498, (best_iter=16: 0.3128494918346405)\n",
      "iter=150: 0.9903448820114136, (best_iter=16: 0.3128494918346405)\n",
      "iter=200: 1.6404682397842407, (best_iter=16: 0.3128494918346405)\n",
      "iter=50: 0.34697189927101135, (best_iter=8: 0.2554755210876465)\n",
      "iter=100: 0.3461870551109314, (best_iter=8: 0.2554755210876465)\n",
      "iter=150: 0.47268110513687134, (best_iter=8: 0.2554755210876465)\n",
      "iter=200: 0.36291733384132385, (best_iter=8: 0.2554755210876465)\n",
      "iter=50: 0.4203993082046509, (best_iter=2: 0.4203993082046509)\n",
      "iter=100: 0.4203993082046509, (best_iter=2: 0.4203993082046509)\n",
      "iter=150: 0.4203993082046509, (best_iter=2: 0.4203993082046509)\n",
      "iter=200: 0.4203993082046509, (best_iter=2: 0.4203993082046509)\n"
     ]
    },
    {
     "data": {
      "image/png": "[encoded data removed]",
      "text/plain": [
       "<Figure size 432x144 with 8 Axes>"
      ]
     },
     "metadata": {
      "needs_background": "light"
     },
     "output_type": "display_data"
    }
   ],
   "source": [
    "from matplotlib import pyplot as plt\n",
    "import cv2\n",
    "\n",
    "net.eval()\n",
    "cpl_attacker = GradientInversion_Attack(net, (784,), lr=0.3, log_interval=50,\n",
    "                                    optimizer_class=torch.optim.LBFGS,\n",
    "                                    distancename=\"l2\", optimize_label=False,\n",
    "                                    num_iteration=200)\n",
    "\n",
    "num_seeds=5\n",
    "fig = plt.figure(figsize=(6, 2))\n",
    "for s in tqdm(range(num_seeds)):\n",
    "    cpl_attacker.reset_seed(s)\n",
    "    try:\n",
    "        result = cpl_attacker.attack(received_gradients)\n",
    "        ax1 = fig.add_subplot(2, num_seeds, s+1)\n",
    "        ax1.imshow(result[0].cpu().detach().numpy()[0].reshape(28, 28), cmap=\"gray\")\n",
    "        ax1.axis(\"off\")\n",
    "        ax1.set_title(torch.argmax(result[1]).cpu().item())\n",
    "        ax2 = fig.add_subplot(2, num_seeds, num_seeds+s+1)\n",
    "        ax2.imshow(cv2.medianBlur(result[0].cpu().detach().numpy()[0].reshape(28, 28), 5), cmap=\"gray\")\n",
    "        ax2.axis(\"off\")\n",
    "    except:\n",
    "        pass\n",
    "plt.suptitle(\"Result of CPL\")\n",
    "plt.tight_layout()\n",
    "plt.show()"
   ]
  }
 ],
 "metadata": {
  "kernelspec": {
   "display_name": "Python 3",
   "language": "python",
   "name": "python3"
  },
  "language_info": {
   "codemirror_mode": {
    "name": "ipython",
    "version": 3
   },
   "file_extension": ".py",
   "mimetype": "text/x-python",
   "name": "python",
   "nbconvert_exporter": "python",
   "pygments_lexer": "ipython3",
   "version": "3.9.1"
  }
 },
 "nbformat": 4,
 "nbformat_minor": 5
}
