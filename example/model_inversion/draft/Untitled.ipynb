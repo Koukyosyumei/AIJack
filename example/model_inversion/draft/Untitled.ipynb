{
 "cells": [
  {
   "cell_type": "code",
   "execution_count": 1,
   "id": "honey-argument",
   "metadata": {},
   "outputs": [],
   "source": [
    "import numpy as np\n",
    "import pandas as pd\n",
    "%matplotlib inline\n",
    "from matplotlib import pyplot as plt\n",
    "import cv2\n",
    "\n",
    "import torch\n",
    "import torchvision\n",
    "import torchvision.transforms as transforms\n",
    "import torch.nn as nn\n",
    "import torch.nn.functional as F\n",
    "import torch.optim as optim\n",
    "\n",
    "from torch.utils.data.dataset import Dataset\n",
    "from torch.utils.data import DataLoader\n",
    "\n",
    "from sklearn.model_selection import train_test_split\n",
    "from sklearn.metrics import accuracy_score"
   ]
  },
  {
   "cell_type": "code",
   "execution_count": 2,
   "id": "expressed-trader",
   "metadata": {},
   "outputs": [
    {
     "name": "stdout",
     "output_type": "stream",
     "text": [
      "cpu\n"
     ]
    },
    {
     "name": "stderr",
     "output_type": "stream",
     "text": [
      "/opt/conda/lib/python3.8/site-packages/torch/cuda/__init__.py:52: UserWarning: CUDA initialization: Found no NVIDIA driver on your system. Please check that you have an NVIDIA GPU and installed a driver from http://www.nvidia.com/Download/index.aspx (Triggered internally at  /pytorch/c10/cuda/CUDAFunctions.cpp:100.)\n",
      "  return torch._C._cuda_getDeviceCount() > 0\n"
     ]
    }
   ],
   "source": [
    "device = torch.device('cuda:0' if torch.cuda.is_available() else 'cpu')\n",
    "print(device)"
   ]
  },
  {
   "cell_type": "code",
   "execution_count": 3,
   "id": "rising-tragedy",
   "metadata": {},
   "outputs": [],
   "source": [
    "# INPUT PATHS:\n",
    "BASE = 'data/'\n",
    "\n",
    "imgs = []\n",
    "labels = []\n",
    "for i in range(1, 41):\n",
    "    for j in range(1, 11):\n",
    "        img = cv2.imread(BASE + f's{i}/{j}.pgm', 0)\n",
    "        imgs.append(img)\n",
    "        labels.append(i-1)\n",
    "        \n",
    "X = np.stack(imgs)\n",
    "y = np.array(labels)"
   ]
  },
  {
   "cell_type": "code",
   "execution_count": 4,
   "id": "special-candle",
   "metadata": {},
   "outputs": [],
   "source": [
    "class DataSet(Dataset):\n",
    "    \"\"\"\n",
    "    This class allows you to convert numpy.array to torch.Dataset\n",
    "    \"\"\"\n",
    "\n",
    "    def __init__(self, x, y, transform=None):\n",
    "        \"\"\"\n",
    "        Attriutes\n",
    "            x (np.array) :\n",
    "            y (np.array) :\n",
    "            transform (torch.transform)\n",
    "        \"\"\"\n",
    "        self.x = x\n",
    "        self.y = y\n",
    "        self.transform = transform\n",
    "\n",
    "    def __getitem__(self, index):\n",
    "        x = self.x[index]\n",
    "        y = self.y[index]\n",
    "\n",
    "        if self.transform is not None:\n",
    "            x = self.transform(x)\n",
    "        return x, y\n",
    "\n",
    "    def __len__(self):\n",
    "        return len(self.x)"
   ]
  },
  {
   "cell_type": "code",
   "execution_count": 5,
   "id": "oriented-mobile",
   "metadata": {},
   "outputs": [],
   "source": [
    "# ToTensor：画像のグレースケール化（RGBの0~255を0~1の範囲に正規化）、Normalize：Z値化（RGBの平均と標準偏差を0.5で決め打ちして正規化）\n",
    "transform = transforms.Compose([transforms.ToTensor(),\n",
    "                                transforms.CenterCrop(64),\n",
    "                                transforms.Normalize((0.5, ), (0.5, ))])\n",
    "\n",
    "trainset = DataSet(X, y, transform=transform)\n",
    "trainloader = torch.utils.data.DataLoader(trainset, batch_size=4, shuffle=True, num_workers=2)"
   ]
  },
  {
   "cell_type": "code",
   "execution_count": 6,
   "id": "civilian-young",
   "metadata": {},
   "outputs": [],
   "source": [
    "class Net(nn.Module):\n",
    "    def __init__(self):\n",
    "        super(Net, self).__init__()\n",
    "        self.fla = nn.Flatten()\n",
    "        #self.fc = nn.Linear(112*92, 40)\n",
    "        self.fc = nn.Linear(64*64, 40)\n",
    "\n",
    "    def forward(self, x):\n",
    "        x = self.fla(x)\n",
    "        x = self.fc(x)\n",
    "        x = F.softmax(x, dim=1)\n",
    "        return x\n",
    "    \n",
    "net = Net()"
   ]
  },
  {
   "cell_type": "code",
   "execution_count": 7,
   "id": "wireless-nicholas",
   "metadata": {},
   "outputs": [
    {
     "name": "stdout",
     "output_type": "stream",
     "text": [
      "Finished Training\n",
      "0.875\n"
     ]
    }
   ],
   "source": [
    "criterion = nn.CrossEntropyLoss()\n",
    "optimizer = optim.SGD(net.parameters(), lr=0.005, momentum=0.9)\n",
    "\n",
    "for epoch in range(30):  # loop over the dataset multiple times\n",
    "\n",
    "    running_loss = 0.0\n",
    "    for i, data in enumerate(trainloader, 0):\n",
    "        # get the inputs; data is a list of [inputs, labels]\n",
    "        inputs, labels = data\n",
    "\n",
    "        # zero the parameter gradients\n",
    "        optimizer.zero_grad()\n",
    "\n",
    "        # forward + backward + optimize\n",
    "        outputs = net(inputs)\n",
    "        loss = criterion(outputs, labels)\n",
    "        loss.backward()\n",
    "        optimizer.step()\n",
    "\n",
    "        # print statistics\n",
    "        #train_loss = loss.item()\n",
    "        #print('[%d, %5d] loss: %.3f' %\n",
    "        #          (epoch + 1, i + 1, train_loss))\n",
    "\n",
    "print('Finished Training')\n",
    "\n",
    "\n",
    "in_preds = []\n",
    "in_label = []\n",
    "with torch.no_grad():\n",
    "        for data in trainloader:\n",
    "            inputs, labels = data\n",
    "            outputs = net(inputs)\n",
    "            in_preds.append(outputs)\n",
    "            in_label.append(labels)  \n",
    "        in_preds = torch.cat(in_preds)\n",
    "        in_label = torch.cat(in_label)  \n",
    "print(accuracy_score(np.array(torch.argmax(in_preds, axis=1)),\n",
    "                     np.array(in_label)))\n"
   ]
  },
  {
   "cell_type": "code",
   "execution_count": 22,
   "id": "urban-hands",
   "metadata": {},
   "outputs": [],
   "source": [
    "class Inversion(nn.Module):\n",
    "    def __init__(self, nc, ngf, nz, truncation, c):\n",
    "        super(Inversion, self).__init__()\n",
    "\n",
    "        self.nc = nc\n",
    "        self.ngf = ngf\n",
    "        self.nz = nz\n",
    "        self.truncation = truncation\n",
    "        self.c = c\n",
    "\n",
    "        self.decoder = nn.Sequential(\n",
    "            # input is Z\n",
    "            nn.ConvTranspose2d(nz, ngf * 8, 4, 1, 0),\n",
    "            nn.BatchNorm2d(ngf * 8),\n",
    "            nn.Tanh(),\n",
    "            # state size. (ngf*8) x 4 x 4\n",
    "            nn.ConvTranspose2d(ngf * 8, ngf * 4, 4, 2, 1),\n",
    "            nn.BatchNorm2d(ngf * 4),\n",
    "            nn.Tanh(),\n",
    "            # state size. (ngf*4) x 8 x 8\n",
    "            nn.ConvTranspose2d(ngf * 4, ngf * 2, 4, 2, 1),\n",
    "            nn.BatchNorm2d(ngf * 2),\n",
    "            nn.Tanh(),\n",
    "            # state size. (ngf*2) x 16 x 16\n",
    "            nn.ConvTranspose2d(ngf * 2, ngf, 4, 2, 1),\n",
    "            nn.BatchNorm2d(ngf),\n",
    "            nn.Tanh(),\n",
    "            # state size. (ngf) x 32 x 32\n",
    "            nn.ConvTranspose2d(ngf, nc, 4, 2, 1),\n",
    "            nn.Sigmoid()\n",
    "            # state size. (nc) x 64 x 64\n",
    "        )\n",
    "\n",
    "    def forward(self, x):\n",
    "        topk, indices = torch.topk(x, self.truncation)\n",
    "        topk = torch.clamp(torch.log(topk), min=-1000) + self.c\n",
    "        topk_min = topk.min(1, keepdim=True)[0]\n",
    "        topk = topk + F.relu(-topk_min)\n",
    "        x = torch.zeros(len(x), self.nz).scatter_(1, indices, topk)\n",
    "\n",
    "        x = x.view(-1, self.nz, 1, 1)\n",
    "        x = self.decoder(x)\n",
    "        x = x.view(-1, 1, 64, 64)\n",
    "        return x"
   ]
  },
  {
   "cell_type": "code",
   "execution_count": 23,
   "id": "smart-limitation",
   "metadata": {},
   "outputs": [],
   "source": [
    "inversion = Inversion(nc = 1, ngf = 128, nz = 530, truncation=40, c = 50)\n",
    "inversion = inversion.to(device)"
   ]
  },
  {
   "cell_type": "code",
   "execution_count": 24,
   "id": "positive-bargain",
   "metadata": {},
   "outputs": [
    {
     "name": "stdout",
     "output_type": "stream",
     "text": [
      "Train Epoch: 0 [0/400]\tLoss: 0.032053\n",
      "Train Epoch: 0 [40/400]\tLoss: 0.313676\n",
      "Train Epoch: 0 [80/400]\tLoss: 0.219721\n",
      "Train Epoch: 0 [120/400]\tLoss: 0.182759\n",
      "Train Epoch: 0 [160/400]\tLoss: 0.143073\n",
      "Train Epoch: 0 [200/400]\tLoss: 0.111714\n",
      "Train Epoch: 0 [240/400]\tLoss: 0.098561\n",
      "Train Epoch: 0 [280/400]\tLoss: 0.096145\n",
      "Train Epoch: 0 [320/400]\tLoss: 0.105255\n",
      "Train Epoch: 0 [360/400]\tLoss: 0.096342\n",
      "Train Epoch: 1 [0/400]\tLoss: 0.103319\n",
      "Train Epoch: 1 [40/400]\tLoss: 0.089734\n",
      "Train Epoch: 1 [80/400]\tLoss: 0.099844\n",
      "Train Epoch: 1 [120/400]\tLoss: 0.104202\n",
      "Train Epoch: 1 [160/400]\tLoss: 0.100004\n",
      "Train Epoch: 1 [200/400]\tLoss: 0.094829\n",
      "Train Epoch: 1 [240/400]\tLoss: 0.090334\n",
      "Train Epoch: 1 [280/400]\tLoss: 0.088040\n",
      "Train Epoch: 1 [320/400]\tLoss: 0.090768\n",
      "Train Epoch: 1 [360/400]\tLoss: 0.095160\n",
      "Train Epoch: 2 [0/400]\tLoss: 0.101506\n",
      "Train Epoch: 2 [40/400]\tLoss: 0.104767\n",
      "Train Epoch: 2 [80/400]\tLoss: 0.092210\n",
      "Train Epoch: 2 [120/400]\tLoss: 0.099180\n",
      "Train Epoch: 2 [160/400]\tLoss: 0.094561\n",
      "Train Epoch: 2 [200/400]\tLoss: 0.097055\n",
      "Train Epoch: 2 [240/400]\tLoss: 0.091028\n",
      "Train Epoch: 2 [280/400]\tLoss: 0.099514\n",
      "Train Epoch: 2 [320/400]\tLoss: 0.097247\n",
      "Train Epoch: 2 [360/400]\tLoss: 0.090073\n",
      "Train Epoch: 3 [0/400]\tLoss: 0.083386\n",
      "Train Epoch: 3 [40/400]\tLoss: 0.086164\n",
      "Train Epoch: 3 [80/400]\tLoss: 0.092577\n",
      "Train Epoch: 3 [120/400]\tLoss: 0.082252\n",
      "Train Epoch: 3 [160/400]\tLoss: 0.098729\n",
      "Train Epoch: 3 [200/400]\tLoss: 0.093650\n",
      "Train Epoch: 3 [240/400]\tLoss: 0.094870\n",
      "Train Epoch: 3 [280/400]\tLoss: 0.093616\n",
      "Train Epoch: 3 [320/400]\tLoss: 0.089943\n",
      "Train Epoch: 3 [360/400]\tLoss: 0.106548\n",
      "Train Epoch: 4 [0/400]\tLoss: 0.094231\n",
      "Train Epoch: 4 [40/400]\tLoss: 0.082826\n",
      "Train Epoch: 4 [80/400]\tLoss: 0.094612\n",
      "Train Epoch: 4 [120/400]\tLoss: 0.086747\n",
      "Train Epoch: 4 [160/400]\tLoss: 0.087950\n",
      "Train Epoch: 4 [200/400]\tLoss: 0.094303\n",
      "Train Epoch: 4 [240/400]\tLoss: 0.083932\n",
      "Train Epoch: 4 [280/400]\tLoss: 0.096738\n",
      "Train Epoch: 4 [320/400]\tLoss: 0.080801\n",
      "Train Epoch: 4 [360/400]\tLoss: 0.084902\n",
      "Train Epoch: 5 [0/400]\tLoss: 0.093480\n",
      "Train Epoch: 5 [40/400]\tLoss: 0.088182\n",
      "Train Epoch: 5 [80/400]\tLoss: 0.082184\n",
      "Train Epoch: 5 [120/400]\tLoss: 0.086717\n",
      "Train Epoch: 5 [160/400]\tLoss: 0.090771\n",
      "Train Epoch: 5 [200/400]\tLoss: 0.086079\n",
      "Train Epoch: 5 [240/400]\tLoss: 0.077680\n",
      "Train Epoch: 5 [280/400]\tLoss: 0.086707\n",
      "Train Epoch: 5 [320/400]\tLoss: 0.082293\n",
      "Train Epoch: 5 [360/400]\tLoss: 0.088523\n",
      "Train Epoch: 6 [0/400]\tLoss: 0.079295\n",
      "Train Epoch: 6 [40/400]\tLoss: 0.080899\n",
      "Train Epoch: 6 [80/400]\tLoss: 0.086160\n",
      "Train Epoch: 6 [120/400]\tLoss: 0.073478\n",
      "Train Epoch: 6 [160/400]\tLoss: 0.085476\n",
      "Train Epoch: 6 [200/400]\tLoss: 0.087640\n",
      "Train Epoch: 6 [240/400]\tLoss: 0.080493\n",
      "Train Epoch: 6 [280/400]\tLoss: 0.079942\n",
      "Train Epoch: 6 [320/400]\tLoss: 0.080765\n",
      "Train Epoch: 6 [360/400]\tLoss: 0.077460\n",
      "Train Epoch: 7 [0/400]\tLoss: 0.072863\n",
      "Train Epoch: 7 [40/400]\tLoss: 0.072371\n",
      "Train Epoch: 7 [80/400]\tLoss: 0.082631\n",
      "Train Epoch: 7 [120/400]\tLoss: 0.079499\n",
      "Train Epoch: 7 [160/400]\tLoss: 0.081800\n",
      "Train Epoch: 7 [200/400]\tLoss: 0.072946\n",
      "Train Epoch: 7 [240/400]\tLoss: 0.077328\n",
      "Train Epoch: 7 [280/400]\tLoss: 0.078485\n",
      "Train Epoch: 7 [320/400]\tLoss: 0.077191\n",
      "Train Epoch: 7 [360/400]\tLoss: 0.071797\n",
      "Train Epoch: 8 [0/400]\tLoss: 0.076536\n",
      "Train Epoch: 8 [40/400]\tLoss: 0.076093\n",
      "Train Epoch: 8 [80/400]\tLoss: 0.076074\n",
      "Train Epoch: 8 [120/400]\tLoss: 0.077665\n",
      "Train Epoch: 8 [160/400]\tLoss: 0.070050\n",
      "Train Epoch: 8 [200/400]\tLoss: 0.078502\n",
      "Train Epoch: 8 [240/400]\tLoss: 0.080488\n",
      "Train Epoch: 8 [280/400]\tLoss: 0.064822\n",
      "Train Epoch: 8 [320/400]\tLoss: 0.068416\n",
      "Train Epoch: 8 [360/400]\tLoss: 0.079607\n",
      "Train Epoch: 9 [0/400]\tLoss: 0.074589\n",
      "Train Epoch: 9 [40/400]\tLoss: 0.065025\n",
      "Train Epoch: 9 [80/400]\tLoss: 0.072193\n",
      "Train Epoch: 9 [120/400]\tLoss: 0.069708\n",
      "Train Epoch: 9 [160/400]\tLoss: 0.077513\n",
      "Train Epoch: 9 [200/400]\tLoss: 0.070969\n",
      "Train Epoch: 9 [240/400]\tLoss: 0.081216\n",
      "Train Epoch: 9 [280/400]\tLoss: 0.070210\n",
      "Train Epoch: 9 [320/400]\tLoss: 0.063838\n",
      "Train Epoch: 9 [360/400]\tLoss: 0.075834\n",
      "Train Epoch: 10 [0/400]\tLoss: 0.075954\n",
      "Train Epoch: 10 [40/400]\tLoss: 0.071612\n",
      "Train Epoch: 10 [80/400]\tLoss: 0.071760\n",
      "Train Epoch: 10 [120/400]\tLoss: 0.063925\n",
      "Train Epoch: 10 [160/400]\tLoss: 0.072343\n",
      "Train Epoch: 10 [200/400]\tLoss: 0.077538\n",
      "Train Epoch: 10 [240/400]\tLoss: 0.070359\n",
      "Train Epoch: 10 [280/400]\tLoss: 0.074312\n",
      "Train Epoch: 10 [320/400]\tLoss: 0.064516\n",
      "Train Epoch: 10 [360/400]\tLoss: 0.071400\n",
      "Train Epoch: 11 [0/400]\tLoss: 0.070218\n",
      "Train Epoch: 11 [40/400]\tLoss: 0.070782\n",
      "Train Epoch: 11 [80/400]\tLoss: 0.069672\n",
      "Train Epoch: 11 [120/400]\tLoss: 0.065034\n",
      "Train Epoch: 11 [160/400]\tLoss: 0.070240\n",
      "Train Epoch: 11 [200/400]\tLoss: 0.068380\n",
      "Train Epoch: 11 [240/400]\tLoss: 0.070336\n",
      "Train Epoch: 11 [280/400]\tLoss: 0.067269\n",
      "Train Epoch: 11 [320/400]\tLoss: 0.066972\n",
      "Train Epoch: 11 [360/400]\tLoss: 0.072996\n",
      "Train Epoch: 12 [0/400]\tLoss: 0.075785\n",
      "Train Epoch: 12 [40/400]\tLoss: 0.069931\n",
      "Train Epoch: 12 [80/400]\tLoss: 0.068495\n",
      "Train Epoch: 12 [120/400]\tLoss: 0.065746\n",
      "Train Epoch: 12 [160/400]\tLoss: 0.068300\n",
      "Train Epoch: 12 [200/400]\tLoss: 0.067408\n"
     ]
    },
    {
     "ename": "KeyboardInterrupt",
     "evalue": "",
     "output_type": "error",
     "traceback": [
      "\u001b[0;31m---------------------------------------------------------------------------\u001b[0m",
      "\u001b[0;31mKeyboardInterrupt\u001b[0m                         Traceback (most recent call last)",
      "\u001b[0;32m<ipython-input-24-c6b0783d0e5d>\u001b[0m in \u001b[0;36m<module>\u001b[0;34m\u001b[0m\n\u001b[1;32m     16\u001b[0m       \u001b[0mreconstruction\u001b[0m \u001b[0;34m=\u001b[0m \u001b[0minversion\u001b[0m\u001b[0;34m(\u001b[0m\u001b[0mprediction\u001b[0m\u001b[0;34m)\u001b[0m\u001b[0;34m\u001b[0m\u001b[0;34m\u001b[0m\u001b[0m\n\u001b[1;32m     17\u001b[0m       \u001b[0mloss\u001b[0m \u001b[0;34m=\u001b[0m \u001b[0mF\u001b[0m\u001b[0;34m.\u001b[0m\u001b[0mmse_loss\u001b[0m\u001b[0;34m(\u001b[0m\u001b[0mreconstruction\u001b[0m\u001b[0;34m,\u001b[0m \u001b[0mdata\u001b[0m\u001b[0;34m)\u001b[0m\u001b[0;34m\u001b[0m\u001b[0;34m\u001b[0m\u001b[0m\n\u001b[0;32m---> 18\u001b[0;31m       \u001b[0mloss\u001b[0m\u001b[0;34m.\u001b[0m\u001b[0mbackward\u001b[0m\u001b[0;34m(\u001b[0m\u001b[0;34m)\u001b[0m\u001b[0;34m\u001b[0m\u001b[0;34m\u001b[0m\u001b[0m\n\u001b[0m\u001b[1;32m     19\u001b[0m       \u001b[0moptimizer\u001b[0m\u001b[0;34m.\u001b[0m\u001b[0mstep\u001b[0m\u001b[0;34m(\u001b[0m\u001b[0;34m)\u001b[0m\u001b[0;34m\u001b[0m\u001b[0;34m\u001b[0m\u001b[0m\n\u001b[1;32m     20\u001b[0m       \u001b[0mepoch_loss\u001b[0m \u001b[0;34m+=\u001b[0m \u001b[0mloss\u001b[0m\u001b[0;34m.\u001b[0m\u001b[0mitem\u001b[0m\u001b[0;34m(\u001b[0m\u001b[0;34m)\u001b[0m\u001b[0;34m\u001b[0m\u001b[0;34m\u001b[0m\u001b[0m\n",
      "\u001b[0;32m/opt/conda/lib/python3.8/site-packages/torch/tensor.py\u001b[0m in \u001b[0;36mbackward\u001b[0;34m(self, gradient, retain_graph, create_graph)\u001b[0m\n\u001b[1;32m    219\u001b[0m                 \u001b[0mretain_graph\u001b[0m\u001b[0;34m=\u001b[0m\u001b[0mretain_graph\u001b[0m\u001b[0;34m,\u001b[0m\u001b[0;34m\u001b[0m\u001b[0;34m\u001b[0m\u001b[0m\n\u001b[1;32m    220\u001b[0m                 create_graph=create_graph)\n\u001b[0;32m--> 221\u001b[0;31m         \u001b[0mtorch\u001b[0m\u001b[0;34m.\u001b[0m\u001b[0mautograd\u001b[0m\u001b[0;34m.\u001b[0m\u001b[0mbackward\u001b[0m\u001b[0;34m(\u001b[0m\u001b[0mself\u001b[0m\u001b[0;34m,\u001b[0m \u001b[0mgradient\u001b[0m\u001b[0;34m,\u001b[0m \u001b[0mretain_graph\u001b[0m\u001b[0;34m,\u001b[0m \u001b[0mcreate_graph\u001b[0m\u001b[0;34m)\u001b[0m\u001b[0;34m\u001b[0m\u001b[0;34m\u001b[0m\u001b[0m\n\u001b[0m\u001b[1;32m    222\u001b[0m \u001b[0;34m\u001b[0m\u001b[0m\n\u001b[1;32m    223\u001b[0m     \u001b[0;32mdef\u001b[0m \u001b[0mregister_hook\u001b[0m\u001b[0;34m(\u001b[0m\u001b[0mself\u001b[0m\u001b[0;34m,\u001b[0m \u001b[0mhook\u001b[0m\u001b[0;34m)\u001b[0m\u001b[0;34m:\u001b[0m\u001b[0;34m\u001b[0m\u001b[0;34m\u001b[0m\u001b[0m\n",
      "\u001b[0;32m/opt/conda/lib/python3.8/site-packages/torch/autograd/__init__.py\u001b[0m in \u001b[0;36mbackward\u001b[0;34m(tensors, grad_tensors, retain_graph, create_graph, grad_variables)\u001b[0m\n\u001b[1;32m    128\u001b[0m         \u001b[0mretain_graph\u001b[0m \u001b[0;34m=\u001b[0m \u001b[0mcreate_graph\u001b[0m\u001b[0;34m\u001b[0m\u001b[0;34m\u001b[0m\u001b[0m\n\u001b[1;32m    129\u001b[0m \u001b[0;34m\u001b[0m\u001b[0m\n\u001b[0;32m--> 130\u001b[0;31m     Variable._execution_engine.run_backward(\n\u001b[0m\u001b[1;32m    131\u001b[0m         \u001b[0mtensors\u001b[0m\u001b[0;34m,\u001b[0m \u001b[0mgrad_tensors_\u001b[0m\u001b[0;34m,\u001b[0m \u001b[0mretain_graph\u001b[0m\u001b[0;34m,\u001b[0m \u001b[0mcreate_graph\u001b[0m\u001b[0;34m,\u001b[0m\u001b[0;34m\u001b[0m\u001b[0;34m\u001b[0m\u001b[0m\n\u001b[1;32m    132\u001b[0m         allow_unreachable=True)  # allow_unreachable flag\n",
      "\u001b[0;31mKeyboardInterrupt\u001b[0m: "
     ]
    }
   ],
   "source": [
    "log_interval = 10\n",
    "\n",
    "net.eval()\n",
    "inversion.train()\n",
    "\n",
    "optimizer = optimizer = optim.Adam(inversion.parameters(), lr=0.005, betas=(0.5, 0.999), amsgrad=True)\n",
    "\n",
    "epoch_loss = 0\n",
    "for epoch in range(30):\n",
    "  \n",
    "  for batch_idx, (data, target) in enumerate(trainloader):\n",
    "      data, target = data.to(device), target.to(device)\n",
    "      optimizer.zero_grad()\n",
    "      with torch.no_grad():\n",
    "              prediction = net(data)\n",
    "      reconstruction = inversion(prediction)\n",
    "      loss = F.mse_loss(reconstruction, data)\n",
    "      loss.backward()\n",
    "      optimizer.step()\n",
    "      epoch_loss += loss.item()\n",
    "      if batch_idx % log_interval == 0:\n",
    "          print('Train Epoch: {} [{}/{}]\\tLoss: {:.6f}'.format(epoch,\n",
    "                                                              batch_idx * len(data),\n",
    "                                                              len(trainloader.dataset),\n",
    "                                                              epoch_loss / log_interval))\n",
    "          epoch_loss = 0\n"
   ]
  },
  {
   "cell_type": "code",
   "execution_count": 29,
   "id": "immediate-fifty",
   "metadata": {},
   "outputs": [
    {
     "data": {
      "text/plain": [
       "<matplotlib.image.AxesImage at 0x7f6220815e20>"
      ]
     },
     "execution_count": 29,
     "metadata": {},
     "output_type": "execute_result"
    },
    {
     "data": {
      "image/png": "[encoded data removed]",
      "text/plain": [
       "<Figure size 432x288 with 1 Axes>"
      ]
     },
     "metadata": {
      "needs_background": "light"
     },
     "output_type": "display_data"
    }
   ],
   "source": [
    "plt.imshow(data.cpu().detach().numpy()[2][0])"
   ]
  },
  {
   "cell_type": "code",
   "execution_count": 30,
   "id": "acquired-pension",
   "metadata": {},
   "outputs": [
    {
     "data": {
      "text/plain": [
       "<matplotlib.image.AxesImage at 0x7f62207ed0a0>"
      ]
     },
     "execution_count": 30,
     "metadata": {},
     "output_type": "execute_result"
    },
    {
     "data": {
      "image/png": "[encoded data removed]",
      "text/plain": [
       "<Figure size 432x288 with 1 Axes>"
      ]
     },
     "metadata": {
      "needs_background": "light"
     },
     "output_type": "display_data"
    }
   ],
   "source": [
    "plt.imshow(reconstruction.cpu().detach().numpy()[2][0]) "
   ]
  },
  {
   "cell_type": "code",
   "execution_count": null,
   "id": "introductory-madagascar",
   "metadata": {},
   "outputs": [],
   "source": []
  }
 ],
 "metadata": {
  "kernelspec": {
   "display_name": "Python 3",
   "language": "python",
   "name": "python3"
  },
  "language_info": {
   "codemirror_mode": {
    "name": "ipython",
    "version": 3
   },
   "file_extension": ".py",
   "mimetype": "text/x-python",
   "name": "python",
   "nbconvert_exporter": "python",
   "pygments_lexer": "ipython3",
   "version": "3.8.6"
  }
 },
 "nbformat": 4,
 "nbformat_minor": 5
}
