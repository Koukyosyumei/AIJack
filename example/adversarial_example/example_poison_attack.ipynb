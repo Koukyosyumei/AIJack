{
 "cells": [
  {
   "cell_type": "code",
   "execution_count": null,
   "metadata": {},
   "outputs": [],
   "source": [
    "import os\n",
    "import time\n",
    "import copy\n",
    "import random\n",
    "from tqdm import tqdm\n",
    "\n",
    "import numpy as np\n",
    "\n",
    "import sklearn\n",
    "from sklearn import datasets\n",
    "from sklearn import metrics\n",
    "from sklearn.svm import SVC\n",
    "from sklearn.model_selection import train_test_split\n",
    "\n",
    "import matplotlib.pyplot as plt\n",
    "\n",
    "from aijack.attack import Poison_attack_sklearn"
   ]
  },
  {
   "cell_type": "code",
   "execution_count": null,
   "metadata": {},
   "outputs": [],
   "source": [
    "mnist = datasets.fetch_openml(\"mnist_784\", version=1, data_home=\".\", return_X_y=True)\n",
    "imagedata, labeldata = mnist[0].values, mnist[1].values\n",
    "\n",
    "index_3 = [i for i, x in enumerate(labeldata) if x == \"3\"]\n",
    "index_7 = [i for i, x in enumerate(labeldata) if x == \"7\"]\n",
    "image_data_3_7 = imagedata[index_3 + index_7]\n",
    "label_data_3_7 = labeldata[index_3 + index_7]\n",
    "\n",
    "(\n",
    "    imagedata_training,\n",
    "    imagedata_validation,\n",
    "    labeldata_training,\n",
    "    labeldata_validation,\n",
    ") = train_test_split(image_data_3_7, label_data_3_7, test_size=0.2, shuffle=True)\n",
    "\n",
    "imagedata_training = imagedata_training / 255.0\n",
    "imagedata_validation = imagedata_validation / 255.0\n",
    "\n",
    "X_train = imagedata_training[:5000]\n",
    "y_train = labeldata_training[:5000]\n",
    "X_valid = imagedata_validation[:500]\n",
    "y_valid = labeldata_validation[:500]\n",
    "\n",
    "# X_train = np.load(\"data/X_train.npy\", allow_pickle=True)\n",
    "# y_train = np.load(\"data/y_train.npy\", allow_pickle=True)\n",
    "# X_valid = np.load(\"data/X_valid.npy\", allow_pickle=True)\n",
    "# y_valid = np.load(\"data/y_valid.npy\", allow_pickle=True)"
   ]
  },
  {
   "cell_type": "markdown",
   "metadata": {},
   "source": [
    "## Train target model (Before Attack)"
   ]
  },
  {
   "cell_type": "code",
   "execution_count": null,
   "metadata": {},
   "outputs": [],
   "source": [
    "start = time.time()  # かかった時間の計測のため計算開始時刻保存\n",
    "clf = SVC(kernel=\"linear\")\n",
    "clf.fit(X_train, y_train)  # 学習\n",
    "elapsed_time = time.time() - start  # 計算終了時刻から計算時間算出\n",
    "print(\"elapsed_time:{0}\".format(elapsed_time) + \"[sec]\")\n",
    "\n",
    "start = time.time()\n",
    "predict = clf.predict(X_valid)  # 評価用データで予測\n",
    "elapsed_time = time.time() - start\n",
    "print(\"elapsed_time:{0}\".format(elapsed_time) + \"[sec]\")\n",
    "\n",
    "print(\"結果\")\n",
    "ac_score = metrics.accuracy_score(y_valid, predict)  # 予測結果の答え合わせ\n",
    "cl_report = metrics.classification_report(y_valid, predict)\n",
    "print(\"正解率 = \", ac_score)\n",
    "print(cl_report)"
   ]
  },
  {
   "cell_type": "markdown",
   "metadata": {},
   "source": [
    "## Attack"
   ]
  },
  {
   "cell_type": "code",
   "execution_count": null,
   "metadata": {},
   "outputs": [],
   "source": [
    "# initial point\n",
    "initial_idx = 0\n",
    "xc = X_train[initial_idx, :]\n",
    "yc = y_train[initial_idx]\n",
    "\n",
    "plt.imshow(xc.reshape(28, 28), cmap=\"gray\")\n",
    "plt.title(f\"initial point : {yc}\")\n",
    "plt.show()"
   ]
  },
  {
   "cell_type": "code",
   "execution_count": null,
   "metadata": {},
   "outputs": [],
   "source": [
    "train_idx = random.sample(list(range(1, X_train.shape[0])), 100)\n",
    "X_train_ = copy.copy(X_train[train_idx, :])\n",
    "y_train_ = copy.copy(y_train[train_idx])\n",
    "\n",
    "y_train_ = np.where(y_train_ == \"7\", 1, -1)\n",
    "y_valid_ = np.where(y_valid == \"7\", 1, -1)"
   ]
  },
  {
   "cell_type": "code",
   "execution_count": null,
   "metadata": {},
   "outputs": [],
   "source": [
    "attacker = Poison_attack_sklearn(clf, X_train_, y_train_, t=0.5)\n",
    "\n",
    "xc_attacked, log = attacker.attack(xc, 1, X_valid, y_valid_, num_iterations=200)"
   ]
  },
  {
   "cell_type": "code",
   "execution_count": null,
   "metadata": {},
   "outputs": [],
   "source": [
    "plt.plot(log)\n",
    "plt.title(\"poisoning attack against SVM\")\n",
    "plt.xlabel(\"num of iterations\")\n",
    "plt.ylabel(\"accuracy on validation data\")\n",
    "# plt.savefig(\"poison_loss.png\")\n",
    "plt.show()"
   ]
  },
  {
   "cell_type": "code",
   "execution_count": null,
   "metadata": {},
   "outputs": [],
   "source": [
    "plt.imshow(xc_attacked.reshape(28, 28), cmap=\"gray\")\n",
    "plt.title(\"After Attack\")\n",
    "# plt.savefig(\"poison_example.png\")\n",
    "plt.show()"
   ]
  },
  {
   "cell_type": "code",
   "execution_count": null,
   "metadata": {},
   "outputs": [],
   "source": [
    "clf = SVC(kernel=\"linear\", C=1)\n",
    "clf.fit(X_train_, y_train_)\n",
    "print(\"before attack: \", clf.score(X_valid, y_valid_))\n",
    "\n",
    "# add poinsoned data\n",
    "clf = SVC(kernel=\"linear\", C=1)\n",
    "clf.fit(\n",
    "    np.concatenate([X_train_, xc_attacked.reshape(1, -1)]),\n",
    "    np.concatenate([y_train_, [-1]]),\n",
    ")\n",
    "print(\"after attack: \", clf.score(X_valid, y_valid_))"
   ]
  },
  {
   "cell_type": "markdown",
   "metadata": {},
   "source": [
    "You can see that adding only one poisoned example dramatically decrease the accuracy of the model. "
   ]
  }
 ],
 "metadata": {
  "kernelspec": {
   "display_name": "Python 3",
   "language": "python",
   "name": "python3"
  },
  "language_info": {
   "codemirror_mode": {
    "name": "ipython",
    "version": 3
   },
   "file_extension": ".py",
   "mimetype": "text/x-python",
   "name": "python",
   "nbconvert_exporter": "python",
   "pygments_lexer": "ipython3",
   "version": "3.9.1"
  }
 },
 "nbformat": 4,
 "nbformat_minor": 4
}
