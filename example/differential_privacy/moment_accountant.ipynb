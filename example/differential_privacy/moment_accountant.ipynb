{
 "cells": [
  {
   "cell_type": "code",
   "execution_count": null,
   "id": "expanded-asbestos",
   "metadata": {},
   "outputs": [],
   "source": [
    "import numpy as np\n",
    "import torch\n",
    "import torch.nn as nn\n",
    "import torch.nn.functional as F\n",
    "import torch.optim as optim\n",
    "\n",
    "from tqdm.notebook import tqdm\n",
    "\n",
    "from opacus import PrivacyEngine\n",
    "from opacus.accountants.utils import get_noise_multiplier\n",
    "from pyvacy import optim, analysis, sampling\n",
    "\n",
    "from matplotlib import pyplot as plt\n",
    "\n",
    "from aijack.defense import GeneralMomentAccountant"
   ]
  },
  {
   "cell_type": "markdown",
   "id": "stable-salem",
   "metadata": {},
   "source": [
    "AIJack supports essential components of Differential Privacy, such as moment account. You can confirm that the behavior of AIJack is almost the same with opacus, a popular differential privacy library for PyTorch. Also, you can find that AIJack is much faster than opacus."
   ]
  },
  {
   "cell_type": "markdown",
   "id": "delayed-northeast",
   "metadata": {},
   "source": [
    "## `get_epsilon`"
   ]
  },
  {
   "cell_type": "code",
   "execution_count": null,
   "id": "electrical-presence",
   "metadata": {},
   "outputs": [],
   "source": [
    "# get epsilon\n",
    "\n",
    "result_a = []\n",
    "result_b = []\n",
    "result_c = []\n",
    "result_d = []\n",
    "\n",
    "for i in range(1, 101):\n",
    "\n",
    "    iterations = 100\n",
    "    noise_multiplier = 5.0\n",
    "    delta = 1e-5\n",
    "    sampling_rate = i / 100\n",
    "\n",
    "    ga = GeneralMomentAccountant(\n",
    "        noise_type=\"Gaussian\",\n",
    "        search=\"ternary\",\n",
    "        precision=0.01,\n",
    "        order_max=0,\n",
    "        order_min=72,\n",
    "        bound_type=\"rdp_upperbound_closedformula\",\n",
    "        backend=\"python\",\n",
    "    )\n",
    "\n",
    "    ga.reset_step_info()\n",
    "    ga.add_step_info({\"sigma\": noise_multiplier}, sampling_rate, iterations)\n",
    "    temp = ga.get_epsilon(delta)\n",
    "    result_a.append(temp)\n",
    "\n",
    "    ga = GeneralMomentAccountant(\n",
    "        noise_type=\"Gaussian\",\n",
    "        search=\"greedy\",\n",
    "        precision=0.001,\n",
    "        orders=list(range(2, 64)),\n",
    "        bound_type=\"rdp_tight_upperbound\",\n",
    "    )\n",
    "\n",
    "    ga.reset_step_info()\n",
    "    ga.add_step_info({\"sigma\": noise_multiplier}, sampling_rate, iterations)\n",
    "    temp = ga.get_epsilon(delta)\n",
    "    result_b.append(temp)\n",
    "\n",
    "    ga = GeneralMomentAccountant(\n",
    "        noise_type=\"Gaussian\",\n",
    "        search=\"ternary\",\n",
    "        precision=0.01,\n",
    "        order_max=0,\n",
    "        order_min=72,\n",
    "        bound_type=\"rdp_upperbound_closedformula\",\n",
    "        backend=\"cpp\",\n",
    "    )\n",
    "\n",
    "    ga.reset_step_info()\n",
    "    ga.add_step_info({\"sigma\": noise_multiplier}, sampling_rate, iterations)\n",
    "    temp = ga.get_epsilon(delta)\n",
    "    result_c.append(temp)\n",
    "\n",
    "    privacy_engine = PrivacyEngine()\n",
    "    privacy_engine.accountant.steps.append(\n",
    "        (noise_multiplier, sampling_rate, iterations)\n",
    "    )\n",
    "    result_d.append(privacy_engine.accountant.get_epsilon(delta))"
   ]
  },
  {
   "cell_type": "code",
   "execution_count": null,
   "id": "racial-defense",
   "metadata": {},
   "outputs": [],
   "source": [
    "plt.plot([i / 100 for i in range(1, 101)], result_a, label=\"AiJack SGM (python)\")\n",
    "plt.plot([i / 100 for i in range(1, 101)], result_b, label=\"AiJack tight_upperbound\")\n",
    "plt.plot([i / 100 for i in range(1, 101)], result_c, label=\"AiJack SGM (cpp)\")\n",
    "plt.plot([i / 100 for i in range(1, 101)], result_d, label=\"opacus\")\n",
    "plt.title(\"result of `get_epsilon`\")\n",
    "plt.xlabel(\"sampling_rate\")\n",
    "plt.ylabel(\"epsilon\")\n",
    "plt.legend()"
   ]
  },
  {
   "cell_type": "code",
   "execution_count": null,
   "id": "extraordinary-equality",
   "metadata": {},
   "outputs": [],
   "source": [
    "plt.plot(\n",
    "    [i / 100 for i in range(1, 101)],\n",
    "    np.abs(np.array(result_a) - np.array(result_d)),\n",
    "    label=\"error (Aijack SGM (python) vs opacus)\",\n",
    ")\n",
    "plt.plot(\n",
    "    [i / 100 for i in range(1, 101)],\n",
    "    np.abs(np.array(result_b) - np.array(result_d)),\n",
    "    label=\"error (AiJack tight_upperbound vs opacus)\",\n",
    ")\n",
    "plt.plot(\n",
    "    [i / 100 for i in range(1, 101)],\n",
    "    np.abs(np.array(result_c) - np.array(result_d)),\n",
    "    label=\"error (AiJack SGM (cpp) vs opacus)\",\n",
    ")\n",
    "plt.title(\"error of `get_epsilon`\")\n",
    "plt.xlabel(\"sampling_rate\")\n",
    "plt.ylabel(\"absolute error\")\n",
    "plt.legend()"
   ]
  },
  {
   "cell_type": "code",
   "execution_count": null,
   "id": "bottom-process",
   "metadata": {},
   "outputs": [],
   "source": [
    "iterations = 100\n",
    "noise_multiplier = 5.0\n",
    "delta = 1e-5\n",
    "sampling_rate = 8 / 100\n",
    "\n",
    "privacy_engine = PrivacyEngine()\n",
    "privacy_engine.accountant.steps.append((noise_multiplier, sampling_rate, iterations))\n",
    "\n",
    "ga = GeneralMomentAccountant(\n",
    "    noise_type=\"Gaussian\",\n",
    "    search=\"greedy\",\n",
    "    precision=0.001,\n",
    "    orders=list(range(2, 64)),\n",
    "    bound_type=\"rdp_tight_upperbound\",\n",
    ")\n",
    "ga.reset_step_info()\n",
    "ga.add_step_info({\"sigma\": noise_multiplier}, sampling_rate, iterations)\n",
    "\n",
    "ga_1 = GeneralMomentAccountant(\n",
    "    noise_type=\"Gaussian\",\n",
    "    search=\"ternary\",\n",
    "    precision=0.001,\n",
    "    order_max=0,\n",
    "    order_min=72,\n",
    "    bound_type=\"rdp_upperbound_closedformula\",\n",
    "    backend=\"cpp\",\n",
    ")\n",
    "\n",
    "ga_1.reset_step_info()\n",
    "ga_1.add_step_info({\"sigma\": noise_multiplier}, sampling_rate, iterations)"
   ]
  },
  {
   "cell_type": "code",
   "execution_count": null,
   "id": "double-explanation",
   "metadata": {},
   "outputs": [],
   "source": [
    "%%timeit\n",
    "privacy_engine.accountant.get_epsilon(delta)"
   ]
  },
  {
   "cell_type": "code",
   "execution_count": null,
   "id": "static-arrow",
   "metadata": {},
   "outputs": [],
   "source": [
    "%%timeit\n",
    "ga.get_epsilon(delta)"
   ]
  },
  {
   "cell_type": "code",
   "execution_count": null,
   "id": "loved-intranet",
   "metadata": {},
   "outputs": [],
   "source": [
    "%%timeit\n",
    "ga_1.get_epsilon(delta)"
   ]
  },
  {
   "cell_type": "markdown",
   "id": "alone-eleven",
   "metadata": {},
   "source": [
    "## `get_noise_multipler`"
   ]
  },
  {
   "cell_type": "code",
   "execution_count": null,
   "id": "maritime-going",
   "metadata": {},
   "outputs": [],
   "source": [
    "ga = GeneralMomentAccountant(\n",
    "    noise_type=\"Gaussian\",\n",
    "    search=\"greedy\",\n",
    "    precision=0.001,\n",
    "    orders=list(range(2, 64)),\n",
    "    bound_type=\"rdp_tight_upperbound\",\n",
    ")\n",
    "\n",
    "ga_1 = GeneralMomentAccountant(\n",
    "    noise_type=\"Gaussian\",\n",
    "    search=\"ternary\",\n",
    "    precision=0.001,\n",
    "    order_max=0,\n",
    "    order_min=72,\n",
    "    bound_type=\"rdp_upperbound_closedformula\",\n",
    ")\n",
    "\n",
    "\n",
    "privacy_engine = PrivacyEngine()\n",
    "\n",
    "print(ga.get_noise_multiplier(\"sigma\", 1, 1e-5, 0.01, 100))\n",
    "print(ga_1.get_noise_multiplier(\"sigma\", 1, 1e-5, 0.01, 100))\n",
    "print(\n",
    "    get_noise_multiplier(\n",
    "        target_epsilon=1,\n",
    "        target_delta=1e-5,\n",
    "        sample_rate=0.01,\n",
    "        epochs=100,\n",
    "        accountant=privacy_engine.accountant.mechanism(),\n",
    "    )\n",
    ")"
   ]
  },
  {
   "cell_type": "code",
   "execution_count": null,
   "id": "still-silver",
   "metadata": {},
   "outputs": [],
   "source": [
    "%%timeit\n",
    "get_noise_multiplier(\n",
    "    target_epsilon=1,\n",
    "    target_delta=1e-5,\n",
    "    sample_rate=0.01,\n",
    "    epochs=100,\n",
    "    accountant=privacy_engine.accountant.mechanism(),\n",
    ")"
   ]
  },
  {
   "cell_type": "code",
   "execution_count": null,
   "id": "precious-blackjack",
   "metadata": {},
   "outputs": [],
   "source": [
    "%%timeit\n",
    "ga.get_noise_multiplier(\"sigma\", 1, 1e-5, 0.01, 100)"
   ]
  },
  {
   "cell_type": "code",
   "execution_count": null,
   "id": "pursuant-hampshire",
   "metadata": {},
   "outputs": [],
   "source": [
    "%%timeit\n",
    "ga_1.get_noise_multiplier(\"sigma\", 1, 1e-5, 0.01, 100)"
   ]
  }
 ],
 "metadata": {
  "kernelspec": {
   "display_name": "Python 3",
   "language": "python",
   "name": "python3"
  },
  "language_info": {
   "codemirror_mode": {
    "name": "ipython",
    "version": 3
   },
   "file_extension": ".py",
   "mimetype": "text/x-python",
   "name": "python",
   "nbconvert_exporter": "python",
   "pygments_lexer": "ipython3",
   "version": "3.9.1"
  }
 },
 "nbformat": 4,
 "nbformat_minor": 5
}
