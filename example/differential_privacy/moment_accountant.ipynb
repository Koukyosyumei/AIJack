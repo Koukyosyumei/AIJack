{
 "cells": [
  {
   "cell_type": "code",
   "execution_count": null,
   "id": "floral-thickness",
   "metadata": {},
   "outputs": [],
   "source": [
    "import numpy as np\n",
    "import torch\n",
    "import torch.nn as nn\n",
    "import torch.nn.functional as F\n",
    "import torch.optim as optim\n",
    "\n",
    "from tqdm.notebook import tqdm\n",
    "\n",
    "from opacus import PrivacyEngine\n",
    "from opacus.accountants.utils import get_noise_multiplier\n",
    "from pyvacy import optim, analysis, sampling\n",
    "\n",
    "from matplotlib import pyplot as plt\n",
    "\n",
    "from aijack.defense import GeneralMomentAccountant"
   ]
  },
  {
   "cell_type": "markdown",
   "id": "incredible-manitoba",
   "metadata": {},
   "source": [
    "AIJack supports essential components of Differential Privacy, such as moment account. You can confirm that the behavior of AIJack is almost the same with opacus, a popular differential privacy library for PyTorch. Also, you can find that AIJack is much faster than opacus."
   ]
  },
  {
   "cell_type": "markdown",
   "id": "heated-annex",
   "metadata": {},
   "source": [
    "## `get_epsilon`"
   ]
  },
  {
   "cell_type": "code",
   "execution_count": null,
   "id": "passing-performance",
   "metadata": {},
   "outputs": [],
   "source": [
    "# get epsilon\n",
    "\n",
    "result_a = []\n",
    "result_b = []\n",
    "result_c = []\n",
    "\n",
    "for i in range(1, 51):\n",
    "\n",
    "    iterations = 100\n",
    "    noise_multiplier = 5.\n",
    "    delta = 1e-5\n",
    "    sampling_rate = i/1000\n",
    "\n",
    "    ga = GeneralMomentAccountant(noise_type=\"Gaussian\",\n",
    "                                     search=\"ternary\",\n",
    "                                     precision=0.001,\n",
    "                                     order_max=0,\n",
    "                                     order_min=72,\n",
    "                                     bound_type=\"rdp_upperbound_closedformula\")\n",
    "\n",
    "    ga.reset_step_info()\n",
    "    ga.add_step_info({\"sigma\":noise_multiplier}, sampling_rate, iterations)\n",
    "    temp = ga.get_epsilon(delta)\n",
    "    result_a.append(temp)\n",
    "\n",
    "    ga = GeneralMomentAccountant(noise_type=\"Gaussian\",\n",
    "                                     search=\"greedy\",\n",
    "                                     precision=0.001,\n",
    "                                     orders=list(range(2, 64)),\n",
    "                                     bound_type=\"rdp_tight_upperbound\")\n",
    "\n",
    "    ga.reset_step_info()\n",
    "    ga.add_step_info({\"sigma\":noise_multiplier}, sampling_rate, iterations)\n",
    "    temp = ga.get_epsilon(delta)\n",
    "    result_b.append(temp)\n",
    "    \n",
    "    privacy_engine = PrivacyEngine()\n",
    "    privacy_engine.accountant.steps.append((noise_multiplier, sampling_rate, iterations))\n",
    "    result_c.append(privacy_engine.accountant.get_epsilon(delta))"
   ]
  },
  {
   "cell_type": "code",
   "execution_count": null,
   "id": "rotary-bronze",
   "metadata": {},
   "outputs": [],
   "source": [
    "plt.plot([i/1000 for i in range(1, 51)], result_a, label=\"AiJack SGM\")\n",
    "plt.plot([i/1000 for i in range(1, 51)], result_b, label=\"AiJack tight_upperbound\")\n",
    "plt.plot([i/1000 for i in range(1, 51)], result_c, label=\"opacus\")\n",
    "plt.title(\"result of `get_epsilon`\")\n",
    "plt.xlabel(\"sampling_rate\")\n",
    "plt.ylabel(\"epsilon\")\n",
    "plt.legend()"
   ]
  },
  {
   "cell_type": "code",
   "execution_count": null,
   "id": "continued-novel",
   "metadata": {},
   "outputs": [],
   "source": [
    "plt.plot([i/1000 for i in range(1, 51)], np.abs(np.array(result_a) - np.array(result_c)), label=\"error (Aijack SGM vs opacus)\")\n",
    "plt.plot([i/1000 for i in range(1, 51)], np.abs(np.array(result_b) - np.array(result_c)), label=\"error (AiJack tight_upperbound vs opacus)\")\n",
    "plt.title(\"error of `get_epsilon`\")\n",
    "plt.xlabel(\"sampling_rate\")\n",
    "plt.ylabel(\"absolute error\")\n",
    "plt.legend()"
   ]
  },
  {
   "cell_type": "code",
   "execution_count": null,
   "id": "straight-router",
   "metadata": {},
   "outputs": [],
   "source": [
    "privacy_engine = PrivacyEngine()\n",
    "privacy_engine.accountant.steps.append((noise_multiplier, sampling_rate, iterations))\n",
    "\n",
    "ga = GeneralMomentAccountant(noise_type=\"Gaussian\",\n",
    "                             search=\"greedy\",\n",
    "                             precision=0.001,\n",
    "                             orders=list(range(2, 64)),\n",
    "                             bound_type=\"rdp_tight_upperbound\")\n",
    "ga.reset_step_info()\n",
    "ga.add_step_info({\"sigma\":noise_multiplier}, sampling_rate, iterations)\n",
    "\n",
    "ga_1 = GeneralMomentAccountant(noise_type=\"Gaussian\",\n",
    "                             search=\"ternary\",\n",
    "                             precision=0.001,\n",
    "                             order_max=0,\n",
    "                             order_min=72,\n",
    "                             bound_type=\"rdp_upperbound_closedformula\")\n",
    "\n",
    "ga_1.reset_step_info()\n",
    "ga_1.add_step_info({\"sigma\":noise_multiplier}, sampling_rate, iterations)"
   ]
  },
  {
   "cell_type": "code",
   "execution_count": null,
   "id": "postal-leather",
   "metadata": {},
   "outputs": [],
   "source": [
    "%%timeit\n",
    "privacy_engine.accountant.get_epsilon(delta)"
   ]
  },
  {
   "cell_type": "code",
   "execution_count": null,
   "id": "manual-touch",
   "metadata": {},
   "outputs": [],
   "source": [
    "%%timeit\n",
    "ga.get_epsilon(delta)"
   ]
  },
  {
   "cell_type": "code",
   "execution_count": null,
   "id": "catholic-laugh",
   "metadata": {},
   "outputs": [],
   "source": [
    "%%timeit\n",
    "ga_1.get_epsilon(delta)"
   ]
  },
  {
   "cell_type": "markdown",
   "id": "informal-shock",
   "metadata": {},
   "source": [
    "## `get_noise_multipler`"
   ]
  },
  {
   "cell_type": "code",
   "execution_count": null,
   "id": "acquired-somewhere",
   "metadata": {},
   "outputs": [],
   "source": [
    "ga = GeneralMomentAccountant(noise_type=\"Gaussian\",\n",
    "                                     search=\"greedy\",\n",
    "                                     precision=0.001,\n",
    "                                     orders=list(range(2, 64)),\n",
    "                                     bound_type=\"rdp_tight_upperbound\")\n",
    "\n",
    "ga_1 = GeneralMomentAccountant(noise_type=\"Gaussian\",\n",
    "                             search=\"ternary\",\n",
    "                                     precision=0.001,\n",
    "                                     order_max=0,\n",
    "                                     order_min=72,\n",
    "                                     bound_type=\"rdp_upperbound_closedformula\")\n",
    "\n",
    "\n",
    "privacy_engine = PrivacyEngine()\n",
    "\n",
    "print(ga.get_noise_multiplier(\"sigma\", 1, 1e-5, 0.01, 100))\n",
    "print(ga_1.get_noise_multiplier(\"sigma\", 1, 1e-5, 0.01, 100))\n",
    "print(get_noise_multiplier(\n",
    "                target_epsilon=1,\n",
    "                target_delta=1e-5,\n",
    "                sample_rate=0.01,\n",
    "                epochs=100,\n",
    "                accountant=privacy_engine.accountant.mechanism()\n",
    "            ))"
   ]
  },
  {
   "cell_type": "code",
   "execution_count": null,
   "id": "precious-monster",
   "metadata": {},
   "outputs": [],
   "source": [
    "%%timeit\n",
    "get_noise_multiplier(\n",
    "                target_epsilon=1,\n",
    "                target_delta=1e-5,\n",
    "                sample_rate=0.01,\n",
    "                epochs=100,\n",
    "                accountant=privacy_engine.accountant.mechanism()\n",
    "            )"
   ]
  },
  {
   "cell_type": "code",
   "execution_count": null,
   "id": "partial-minute",
   "metadata": {},
   "outputs": [],
   "source": [
    "%%timeit\n",
    "ga.get_noise_multiplier(\"sigma\", 1, 1e-5, 0.01, 100)"
   ]
  },
  {
   "cell_type": "code",
   "execution_count": null,
   "id": "sacred-fence",
   "metadata": {},
   "outputs": [],
   "source": [
    "%%timeit\n",
    "ga_1.get_noise_multiplier(\"sigma\", 1, 1e-5, 0.01, 100)"
   ]
  },
  {
   "cell_type": "code",
   "execution_count": null,
   "id": "corresponding-wings",
   "metadata": {},
   "outputs": [],
   "source": []
  }
 ],
 "metadata": {
  "kernelspec": {
   "display_name": "Python 3",
   "language": "python",
   "name": "python3"
  },
  "language_info": {
   "codemirror_mode": {
    "name": "ipython",
    "version": 3
   },
   "file_extension": ".py",
   "mimetype": "text/x-python",
   "name": "python",
   "nbconvert_exporter": "python",
   "pygments_lexer": "ipython3",
   "version": "3.9.1"
  }
 },
 "nbformat": 4,
 "nbformat_minor": 5
}
