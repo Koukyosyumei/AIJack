{
 "cells": [
  {
   "cell_type": "code",
   "execution_count": null,
   "id": "therapeutic-label",
   "metadata": {},
   "outputs": [],
   "source": [
    "import cv2\n",
    "import numpy as np\n",
    "import torch\n",
    "import torch.nn as nn\n",
    "import torch.nn.functional as F\n",
    "import torch.optim as optim\n",
    "import torchvision.transforms as transforms\n",
    "from torch.utils.data import TensorDataset\n",
    "from matplotlib import pyplot as plt\n",
    "from sklearn.metrics import accuracy_score\n",
    "\n",
    "from aijack.attack import MI_FACE\n",
    "from aijack.utils import DataSet\n",
    "from aijack.defense import GeneralMomentAccountant, PrivacyManager\n",
    "\n",
    "from opacus import PrivacyEngine\n",
    "# INPUT PATHS:\n",
    "BASE = \"data/\""
   ]
  },
  {
   "cell_type": "code",
   "execution_count": null,
   "id": "fatty-magic",
   "metadata": {},
   "outputs": [],
   "source": [
    "class Net(nn.Module):\n",
    "    def __init__(self):\n",
    "        super(Net, self).__init__()\n",
    "        self.fla = nn.Flatten()\n",
    "        self.fc = nn.Linear(112 * 92, 40)\n",
    "\n",
    "    def forward(self, x):\n",
    "        x = self.fla(x)\n",
    "        x = self.fc(x)\n",
    "        x = F.softmax(x, dim=1)\n",
    "        return x"
   ]
  },
  {
   "cell_type": "code",
   "execution_count": null,
   "id": "determined-polish",
   "metadata": {},
   "outputs": [],
   "source": [
    "if True:\n",
    "    imgs = []\n",
    "    labels = []\n",
    "    for i in range(1, 41):\n",
    "        for j in range(1, 11):\n",
    "            img = cv2.imread(BASE + f\"s{i}/{j}.pgm\", 0)\n",
    "            imgs.append(img)\n",
    "            labels.append(i - 1)\n",
    "\n",
    "    X = np.stack(imgs)\n",
    "    y = np.array(labels)\n",
    "\n",
    "    # ToTensor：画像のグレースケール化（RGBの0~255を0~1の範囲に正規化）、Normalize：Z値化（RGBの平均と標準偏差を0.5で決め打ちして正規化）\n",
    "    transform = transforms.Compose(\n",
    "        [transforms.ToTensor(), transforms.Normalize((0.5,), (0.5,))]\n",
    "    )\n",
    "    trainset = DataSet(X, y, transform=transform)"
   ]
  },
  {
   "cell_type": "code",
   "execution_count": null,
   "id": "forced-diving",
   "metadata": {},
   "outputs": [],
   "source": [
    "lot_size = 40\n",
    "iterations=10\n",
    "sigma=0.5\n",
    "\n",
    "net = Net()\n",
    "criterion = nn.CrossEntropyLoss()\n",
    "\n",
    "train_loader = torch.utils.data.DataLoader(\n",
    "        trainset,\n",
    "        batch_size=lot_size,\n",
    "        num_workers=0,\n",
    "        pin_memory=True,\n",
    "    )\n",
    "\n",
    "optimizer = optim.SGD(net.parameters(), lr=0.05, momentum=0.9)\n",
    "privacy_engine = PrivacyEngine()\n",
    "model, optimizer, train_loader = privacy_engine.make_private(\n",
    "                module=net,\n",
    "                optimizer=optimizer,\n",
    "                data_loader=train_loader,\n",
    "                noise_multiplier=sigma,\n",
    "                max_grad_norm=1,\n",
    "            )"
   ]
  },
  {
   "cell_type": "code",
   "execution_count": null,
   "id": "loaded-wrestling",
   "metadata": {},
   "outputs": [],
   "source": [
    "for epoch in range(iterations):  # loop over the dataset multiple times\n",
    "        running_loss = 0\n",
    "        data_size = 0\n",
    "        for data in train_loader:\n",
    "            X_batch, y_batch = data\n",
    "            optimizer.zero_grad()\n",
    "            loss = criterion(net(X_batch), y_batch.to(torch.int64))\n",
    "            loss.backward()\n",
    "            running_loss += loss.item()\n",
    "            data_size += X_batch.shape[0]\n",
    "            optimizer.step()\n",
    "        print(f\"epoch {epoch}: loss is {running_loss/data_size}\")\n",
    "        \n",
    "        \n",
    "        epsilon, best_alpha = privacy_engine.accountant.get_privacy_spent(\n",
    "            delta=1e-5\n",
    "        )\n",
    "        print(epsilon, best_alpha)"
   ]
  },
  {
   "cell_type": "code",
   "execution_count": null,
   "id": "first-stevens",
   "metadata": {},
   "outputs": [],
   "source": [
    "if True:\n",
    "    in_preds = []\n",
    "    in_label = []\n",
    "    with torch.no_grad():\n",
    "        for data in train_loader:\n",
    "            inputs, labels = data\n",
    "            outputs = net(inputs)\n",
    "            in_preds.append(outputs)\n",
    "            in_label.append(labels)\n",
    "        in_preds = torch.cat(in_preds)\n",
    "        in_label = torch.cat(in_label)\n",
    "    print(accuracy_score(np.array(torch.argmax(in_preds, axis=1)), np.array(in_label)))"
   ]
  },
  {
   "cell_type": "code",
   "execution_count": null,
   "id": "distant-subcommittee",
   "metadata": {},
   "outputs": [],
   "source": [
    "privacy_engine.accountant.steps"
   ]
  },
  {
   "cell_type": "code",
   "execution_count": null,
   "id": "brutal-killer",
   "metadata": {},
   "outputs": [],
   "source": []
  }
 ],
 "metadata": {
  "kernelspec": {
   "display_name": "Python 3",
   "language": "python",
   "name": "python3"
  },
  "language_info": {
   "codemirror_mode": {
    "name": "ipython",
    "version": 3
   },
   "file_extension": ".py",
   "mimetype": "text/x-python",
   "name": "python",
   "nbconvert_exporter": "python",
   "pygments_lexer": "ipython3",
   "version": "3.9.1"
  }
 },
 "nbformat": 4,
 "nbformat_minor": 5
}
