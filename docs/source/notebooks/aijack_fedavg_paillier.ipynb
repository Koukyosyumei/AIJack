{
  "cells": [
    {
      "cell_type": "markdown",
      "metadata": {
        "id": "SROAZ9dO80s8"
      },
      "source": [
        "# FedAVG with Paillier Encryption\n",
        "\n",
        "Homomorphic Encryption is one type of encryption scheme where you can execute some arithmetic operations on cipher texts. For example, Paillier Encryption Scheme has the following properties;\n",
        "\n",
        "$$\n",
        "\\begin{align}\n",
        "&\\mathcal{D}(\\mathcal{E}(x) + \\mathcal{E}(y)) = x + y \\newline\n",
        "&\\mathcal{D}(\\mathcal{E}(x) + y) = x + y \\newline\n",
        "&\\mathcal{D}(\\mathcal{E}(x) * y) = x * y\n",
        "\\end{align}\n",
        "$$\n",
        "\n",
        ", where $ \\mathcal{E} $ and $ \\mathcal{D} $ represent encryption and decryption, respectively.\n",
        "\n",
        "Recall that the server in FedAVG averages the received gradients to update the global model.\n",
        "\n",
        "$$\n",
        "w_{t} \\leftarrow w_{t - 1} - \\eta \\sum_{c=1}^{C} \\frac{n_{c}}{N} \\nabla \\mathcal{l}(w_{t - 1}, X_{c}, Y_{c})\n",
        "$$\n",
        "\n",
        "To mitigate the potential private information leakage from the gradient, one option for the client is to encrypt the gradient with Paillier Encryption Scheme.\n",
        "\n",
        "$$\n",
        "\\mathcal{E}(w_{t}) \\leftarrow \\mathcal{E}(w_{t - 1}) - \\eta \\sum_{c=1}^{C} \\frac{n_{c}}{N} \\mathcal{E} (\\nabla \\mathcal{l}(w_{t - 1}, X_{c}, Y_{c}))\n",
        "$$\n",
        "\n",
        "The details procedure of Federated Learning with Paillier Encryption is as follows:\n",
        "\n",
        "```\n",
        "1. The central server initializes the global model.\n",
        "2. Clients publish and share private and public keys.\n",
        "3. The server distributes the global model to each client.\n",
        "4. Except for the first round, each client decrypts the global model.\n",
        "5. Each client locally calculates the gradient of the loss function on their dataset.\n",
        "6. Each client encrypts the gradient and sends it to the server.\n",
        "7. The server aggregates the received gradients with some method (e.g., average) and updates the global model with the aggregated gradient.\n",
        "8. Repeat 3 ~ 7 until converge.\n",
        "```"
      ]
    },
    {
      "cell_type": "markdown",
      "metadata": {
        "id": "FNMDQuH49CBO"
      },
      "source": [
        "## Single Process"
      ]
    },
    {
      "cell_type": "code",
      "execution_count": 3,
      "metadata": {
        "id": "J4s0w9rHwOd8"
      },
      "outputs": [],
      "source": [
        "import random\n",
        "\n",
        "import numpy as np\n",
        "import torch\n",
        "import torch.nn as nn\n",
        "import torch.nn.functional as F\n",
        "import torch.optim as optim\n",
        "from mpi4py import MPI\n",
        "from torchvision import datasets, transforms\n",
        "\n",
        "from aijack.collaborative.fedavg import FedAVGClient, FedAVGServer, FedAVGAPI\n",
        "from aijack.defense import PaillierGradientClientManager, PaillierKeyGenerator\n",
        "\n",
        "\n",
        "def evaluate_gloal_model(dataloader, client_id=-1):\n",
        "    def _evaluate_global_model(api):\n",
        "        test_loss = 0\n",
        "        correct = 0\n",
        "        with torch.no_grad():\n",
        "            for data, target in dataloader:\n",
        "                data, target = data.to(api.device), target.to(api.device)\n",
        "                if client_id == -1:\n",
        "                    output = api.server(data)\n",
        "                else:\n",
        "                    output = api.clients[client_id](data)\n",
        "                test_loss += F.nll_loss(\n",
        "                    output, target, reduction=\"sum\"\n",
        "                ).item()  # sum up batch loss\n",
        "                pred = output.argmax(\n",
        "                    dim=1, keepdim=True\n",
        "                )  # get the index of the max log-probability\n",
        "                correct += pred.eq(target.view_as(pred)).sum().item()\n",
        "\n",
        "        test_loss /= len(dataloader.dataset)\n",
        "        accuracy = 100.0 * correct / len(dataloader.dataset)\n",
        "        print(f\"Test set: Average loss: {test_loss}, Accuracy: {accuracy}\")\n",
        "\n",
        "    return _evaluate_global_model"
      ]
    },
    {
      "cell_type": "code",
      "execution_count": 4,
      "metadata": {
        "id": "idlkuHjjULVz"
      },
      "outputs": [],
      "source": [
        "training_batch_size = 64\n",
        "test_batch_size = 64\n",
        "num_rounds = 5\n",
        "lr = 0.001\n",
        "seed = 0\n",
        "client_size = 2\n",
        "criterion = F.nll_loss"
      ]
    },
    {
      "cell_type": "code",
      "execution_count": 5,
      "metadata": {
        "id": "gsh_CjamwqfV"
      },
      "outputs": [],
      "source": [
        "def fix_seed(seed):\n",
        "    random.seed(seed)\n",
        "    np.random.seed(seed)\n",
        "    torch.manual_seed(seed)\n",
        "    torch.cuda.manual_seed_all(seed)\n",
        "    torch.backends.cudnn.deterministic = True\n",
        "\n",
        "\n",
        "def prepare_dataloader(num_clients, myid, train=True, path=\"\"):\n",
        "    transform = transforms.Compose(\n",
        "        [transforms.ToTensor(), transforms.Normalize((0.1307,), (0.3081,))]\n",
        "    )\n",
        "    if train:\n",
        "        dataset = datasets.MNIST(path, train=True, download=True, transform=transform)\n",
        "        idxs = list(range(len(dataset.data)))\n",
        "        random.shuffle(idxs)\n",
        "        idx = np.array_split(idxs, num_clients, 0)[myid - 1]\n",
        "        dataset.data = dataset.data[idx]\n",
        "        dataset.targets = dataset.targets[idx]\n",
        "        train_loader = torch.utils.data.DataLoader(\n",
        "            dataset, batch_size=training_batch_size\n",
        "        )\n",
        "        return train_loader\n",
        "    else:\n",
        "        dataset = datasets.MNIST(path, train=False, download=True, transform=transform)\n",
        "        test_loader = torch.utils.data.DataLoader(dataset, batch_size=test_batch_size)\n",
        "        return test_loader\n",
        "\n",
        "\n",
        "class Net(nn.Module):\n",
        "    def __init__(self):\n",
        "        super(Net, self).__init__()\n",
        "        self.ln = nn.Linear(28 * 28, 10)\n",
        "\n",
        "    def forward(self, x):\n",
        "        x = self.ln(x.reshape(-1, 28 * 28))\n",
        "        output = F.log_softmax(x, dim=1)\n",
        "        return output"
      ]
    },
    {
      "cell_type": "code",
      "execution_count": 6,
      "metadata": {
        "id": "UX-5FPlbxs4z"
      },
      "outputs": [],
      "source": [
        "device = torch.device(\"cuda\" if torch.cuda.is_available() else \"cpu\")\n",
        "fix_seed(seed)"
      ]
    },
    {
      "cell_type": "code",
      "execution_count": 7,
      "metadata": {
        "colab": {
          "base_uri": "https://localhost:8080/",
          "height": 431,
          "referenced_widgets": [
            "63426a44a1944b2395adcf468faad718",
            "3b90c22eca834961af10366f390c9ef0",
            "9fd94a078d67424ba9b290445582deaa",
            "31ac7bef3beb4e35b3dc4d644b42b48e",
            "9013c5c6e3f54220863184ecabb0a486",
            "ea11b1cecd364a97bee1c6d47b8a4723",
            "4697c61a09c64a8a80243706b69ef9dd",
            "2b68e7cde6f4426f8e06386b231e68f6",
            "0198777a01b94b11a4e9fce56536bc6a",
            "28797f7bac2c4f2e8c748183d48275e0",
            "b63a9680fed845dbab9158a0912cca6e",
            "43780b34fd79438c98b27462acb2ee79",
            "e7b2ec9f1b1d454b8ba1442907ac8535",
            "6f487f91621844a59ee2e1ef5ffe65c4",
            "d722868f2f7c43a68304b77f687d7ae5",
            "1ef9c597eaf047c1b2cac0111eea9cce",
            "00930b1502a4445ba276f31a4eabeb03",
            "ec83b87685f042c88f270b5959557b65",
            "e217a9db5e9845fea3b28b4dca07d675",
            "56f6c067923b42bdbbb631a960e25fca",
            "d07a9df8048d4a9fb6f7010463b215bd",
            "6b54532bfc5340f4a68910dedb07f3bd",
            "bd4fb53e5b174bea96278362b4798652",
            "c997ace3ba434634905176d43dabdec5",
            "d5e44fd7afe14111a2d4a233fb34d945",
            "ab8bddb29a3a4814a3c0d699c4436126",
            "b3af80a7ec8f4b06a45c59600a8aa898",
            "fde6ffa42fe1431598255b610773f58f",
            "31d384bc87bf41dc91b7871ab6bc8c98",
            "13d9ab6ba35a409eb5a0a5ddf96803f6",
            "6213f01665084cf09a2f338d6aa2f584",
            "8f2806f26180456fa87a7ba2df68afd9",
            "1f63357605d44f078aea1d23e6d24860",
            "c283f49002714067ba661415315f326e",
            "0c6c7d720c5748ea982a483dd237688e",
            "fa02ed53943f4ad5bd3ea02b4a3521b0",
            "fde82b1da28c46ec9e9ff2f490478af1",
            "c228a30c4bc541e6989af02d685d29fe",
            "dc39dc7e2d6547dda8adc2af86c04a1f",
            "221d71ef9cae44a986a09ca82ca86399",
            "7726291d5ace42368f70877f6de17967",
            "855742e9790d4364ae5f4e0130f98787",
            "31c9e1798b4c43f49f5391ec4c534ae8",
            "0309af01a9ae4cdc8f61857bcc89d53c"
          ]
        },
        "id": "zz_YjoioAcLD",
        "outputId": "bfbe8955-17fa-4df8-e5d3-5a38e750b4da"
      },
      "outputs": [
        {
          "name": "stdout",
          "output_type": "stream",
          "text": [
            "Downloading http://yann.lecun.com/exdb/mnist/train-images-idx3-ubyte.gz\n",
            "Downloading http://yann.lecun.com/exdb/mnist/train-images-idx3-ubyte.gz to MNIST/raw/train-images-idx3-ubyte.gz\n"
          ]
        },
        {
          "data": {
            "application/vnd.jupyter.widget-view+json": {
              "model_id": "63426a44a1944b2395adcf468faad718",
              "version_major": 2,
              "version_minor": 0
            },
            "text/plain": [
              "  0%|          | 0/9912422 [00:00<?, ?it/s]"
            ]
          },
          "metadata": {},
          "output_type": "display_data"
        },
        {
          "name": "stdout",
          "output_type": "stream",
          "text": [
            "Extracting MNIST/raw/train-images-idx3-ubyte.gz to MNIST/raw\n",
            "\n",
            "Downloading http://yann.lecun.com/exdb/mnist/train-labels-idx1-ubyte.gz\n",
            "Downloading http://yann.lecun.com/exdb/mnist/train-labels-idx1-ubyte.gz to MNIST/raw/train-labels-idx1-ubyte.gz\n"
          ]
        },
        {
          "data": {
            "application/vnd.jupyter.widget-view+json": {
              "model_id": "43780b34fd79438c98b27462acb2ee79",
              "version_major": 2,
              "version_minor": 0
            },
            "text/plain": [
              "  0%|          | 0/28881 [00:00<?, ?it/s]"
            ]
          },
          "metadata": {},
          "output_type": "display_data"
        },
        {
          "name": "stdout",
          "output_type": "stream",
          "text": [
            "Extracting MNIST/raw/train-labels-idx1-ubyte.gz to MNIST/raw\n",
            "\n",
            "Downloading http://yann.lecun.com/exdb/mnist/t10k-images-idx3-ubyte.gz\n",
            "Downloading http://yann.lecun.com/exdb/mnist/t10k-images-idx3-ubyte.gz to MNIST/raw/t10k-images-idx3-ubyte.gz\n"
          ]
        },
        {
          "data": {
            "application/vnd.jupyter.widget-view+json": {
              "model_id": "bd4fb53e5b174bea96278362b4798652",
              "version_major": 2,
              "version_minor": 0
            },
            "text/plain": [
              "  0%|          | 0/1648877 [00:00<?, ?it/s]"
            ]
          },
          "metadata": {},
          "output_type": "display_data"
        },
        {
          "name": "stdout",
          "output_type": "stream",
          "text": [
            "Extracting MNIST/raw/t10k-images-idx3-ubyte.gz to MNIST/raw\n",
            "\n",
            "Downloading http://yann.lecun.com/exdb/mnist/t10k-labels-idx1-ubyte.gz\n",
            "Downloading http://yann.lecun.com/exdb/mnist/t10k-labels-idx1-ubyte.gz to MNIST/raw/t10k-labels-idx1-ubyte.gz\n"
          ]
        },
        {
          "data": {
            "application/vnd.jupyter.widget-view+json": {
              "model_id": "c283f49002714067ba661415315f326e",
              "version_major": 2,
              "version_minor": 0
            },
            "text/plain": [
              "  0%|          | 0/4542 [00:00<?, ?it/s]"
            ]
          },
          "metadata": {},
          "output_type": "display_data"
        },
        {
          "name": "stdout",
          "output_type": "stream",
          "text": [
            "Extracting MNIST/raw/t10k-labels-idx1-ubyte.gz to MNIST/raw\n",
            "\n"
          ]
        }
      ],
      "source": [
        "local_dataloaders = [prepare_dataloader(client_size, c) for c in range(client_size)]\n",
        "test_dataloader = prepare_dataloader(client_size, -1, train=False)"
      ]
    },
    {
      "cell_type": "markdown",
      "metadata": {
        "id": "HkWsPf49FYv0"
      },
      "source": [
        "### Federated Learning with Paillier Encryption"
      ]
    },
    {
      "cell_type": "code",
      "execution_count": 8,
      "metadata": {
        "colab": {
          "base_uri": "https://localhost:8080/"
        },
        "id": "JE9boSiRoKWq",
        "outputId": "3ad4763d-394e-404d-bffe-c739deef0c7c"
      },
      "outputs": [
        {
          "name": "stdout",
          "output_type": "stream",
          "text": [
            "communication 0, epoch 0: client-1 0.019623182541131972\n",
            "communication 0, epoch 0: client-2 0.019723439224561056\n"
          ]
        },
        {
          "name": "stderr",
          "output_type": "stream",
          "text": [
            "/usr/local/lib/python3.8/dist-packages/aijack/defense/paillier/torch_wrapper.py:70: RuntimeWarning: invalid value encountered in add\n",
            "  input._paillier_np_array + other.detach().cpu().numpy()\n"
          ]
        },
        {
          "name": "stdout",
          "output_type": "stream",
          "text": [
            "Test set: Average loss: 0.5059418523311615, Accuracy: 84.25\n",
            "communication 1, epoch 0: client-1 0.00757011673549811\n",
            "communication 1, epoch 0: client-2 0.007764058018724124\n",
            "Test set: Average loss: 0.4435205452442169, Accuracy: 87.55\n",
            "communication 2, epoch 0: client-1 0.006700039783120155\n",
            "communication 2, epoch 0: client-2 0.0069033132503430045\n",
            "Test set: Average loss: 0.40868335359096525, Accuracy: 87.98\n",
            "communication 3, epoch 0: client-1 0.006276320548355579\n",
            "communication 3, epoch 0: client-2 0.006470099781453609\n",
            "Test set: Average loss: 0.3903049408197403, Accuracy: 89.17\n",
            "communication 4, epoch 0: client-1 0.005988184402386347\n",
            "communication 4, epoch 0: client-2 0.0061936042274038\n",
            "Test set: Average loss: 0.37640745265483855, Accuracy: 89.14\n"
          ]
        }
      ],
      "source": [
        "keygenerator = PaillierKeyGenerator(64)\n",
        "pk, sk = keygenerator.generate_keypair()\n",
        "\n",
        "manager = PaillierGradientClientManager(pk, sk)\n",
        "PaillierGradFedAVGClient = manager.attach(FedAVGClient)\n",
        "\n",
        "clients = [\n",
        "    PaillierGradFedAVGClient(Net().to(device), user_id=c, server_side_update=False)\n",
        "    for c in range(client_size)\n",
        "]\n",
        "local_optimizers = [optim.SGD(client.parameters(), lr=lr) for client in clients]\n",
        "\n",
        "server = FedAVGServer(clients, Net().to(device), server_side_update=False)\n",
        "\n",
        "api = FedAVGAPI(\n",
        "    server,\n",
        "    clients,\n",
        "    criterion,\n",
        "    local_optimizers,\n",
        "    local_dataloaders,\n",
        "    num_communication=num_rounds,\n",
        "    custom_action=evaluate_gloal_model(test_dataloader, 0),\n",
        ")\n",
        "api.run()"
      ]
    }
  ],
  "metadata": {
    "colab": {
      "machine_shape": "hm",
      "provenance": []
    },
    "gpuClass": "standard",
    "kernelspec": {
      "display_name": "Python 3",
      "language": "python",
      "name": "python3"
    },
    "language_info": {
      "name": "python",
      "version": "3.9.1 (tags/v3.9.1:1e5d33e, Dec  7 2020, 17:08:21) [MSC v.1927 64 bit (AMD64)]"
    },
    "vscode": {
      "interpreter": {
        "hash": "caa2b01f75ba60e629eaa9e4dabde0c46b243c9a0484934eeb17ad8b3fc9c91a"
      }
    },
    "widgets": {
      "application/vnd.jupyter.widget-state+json": {}
    }
  },
  "nbformat": 4,
  "nbformat_minor": 0
}
