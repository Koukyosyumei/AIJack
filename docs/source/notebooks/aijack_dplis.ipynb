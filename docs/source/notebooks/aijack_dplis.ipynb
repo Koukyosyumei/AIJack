{
 "cells": [
  {
   "cell_type": "markdown",
   "metadata": {
    "id": "CTqZ_wQYFjDV"
   },
   "source": [
    "# DPlis\n",
    "\n",
    "While differentially private training methods offer strong privacy guarantees, they often result in lower model performance compared to non-private training. Additionally, these methods can lead to significant performance variability across different training runs. To address these issues, the authors propose a new approach called DPlis (Differentially Private Learning with Smoothing). DPlis introduces a smooth loss function that encourages the creation of robust models within flat regions of the loss landscape. "
   ]
  },
  {
   "cell_type": "code",
   "execution_count": 1,
   "metadata": {
    "colab": {
     "base_uri": "https://localhost:8080/"
    },
    "id": "IPf8uqEn5r4D",
    "outputId": "4b0a8276-2d37-4519-fec3-fc32b858215e",
    "tags": []
   },
   "outputs": [
    {
     "name": "stdout",
     "output_type": "stream",
     "text": [
      "--2023-11-05 17:19:10--  https://archive.ics.uci.edu/ml/machine-learning-databases/00233/CNAE-9.data\n",
      "Resolving archive.ics.uci.edu (archive.ics.uci.edu)... 128.195.10.252\n",
      "Connecting to archive.ics.uci.edu (archive.ics.uci.edu)|128.195.10.252|:443... connected.\n",
      "HTTP request sent, awaiting response... 200 OK\n",
      "Length: unspecified\n",
      "Saving to: ‘CNAE-9.data.4’\n",
      "\n",
      "CNAE-9.data.4           [  <=>               ]   1.76M   149KB/s    in 9.5s    \n",
      "\n",
      "2023-11-05 17:19:20 (190 KB/s) - ‘CNAE-9.data.4’ saved [1851120]\n",
      "\n"
     ]
    }
   ],
   "source": [
    "!wget https://archive.ics.uci.edu/ml/machine-learning-databases/00233/CNAE-9.data"
   ]
  },
  {
   "cell_type": "code",
   "execution_count": 2,
   "metadata": {
    "id": "QFeRzaRQD8gO",
    "tags": []
   },
   "outputs": [],
   "source": [
    "import torch\n",
    "import torch.nn as nn\n",
    "import torch.optim as optim\n",
    "from torch.utils.data import TensorDataset\n",
    "import random\n",
    "from matplotlib import pyplot as plt\n",
    "from tqdm import tqdm\n",
    "import numpy as np\n",
    "import pandas as pd\n",
    "from sklearn.model_selection import train_test_split\n",
    "\n",
    "from aijack.defense import GeneralMomentAccountant\n",
    "from aijack.defense.dp.manager.dp_manager import DPSGDManager, AdaDPSManager\n",
    "\n",
    "lot_size = 1\n",
    "batch_size = 1\n",
    "iterations = 100\n",
    "sigma = 1.0\n",
    "l2_norm_clip = 1\n",
    "delta = 1e-3\n",
    "lr = 0.01\n",
    "criterion = nn.CrossEntropyLoss()\n",
    "\n",
    "num_trials = 10\n",
    "\n",
    "torch.manual_seed(42)\n",
    "random.seed(42)\n",
    "plt.style.use(\"ggplot\")"
   ]
  },
  {
   "cell_type": "code",
   "execution_count": 3,
   "metadata": {
    "id": "Lq_wLXYcEMqx",
    "tags": []
   },
   "outputs": [],
   "source": [
    "df = pd.read_csv(\"CNAE-9.data\", header=None)\n",
    "X = df[range(1, df.shape[1])].values\n",
    "y = df[[0]].values.reshape(-1) - 1\n",
    "\n",
    "X_train, X_test, y_train, y_test = train_test_split(\n",
    "    X, y, test_size=0.2, random_state=42\n",
    ")\n",
    "X_train, X_pub, y_train, y_pub = train_test_split(\n",
    "    X_train, y_train, test_size=0.4, random_state=42\n",
    ")\n",
    "\n",
    "X_train = torch.Tensor(X_train)\n",
    "X_test = torch.Tensor(X_test)\n",
    "X_pub = torch.Tensor(X_pub)\n",
    "y_train = torch.Tensor(y_train).to(torch.long)\n",
    "y_test = torch.Tensor(y_test).to(torch.long)\n",
    "y_pub = torch.Tensor(y_pub).to(torch.long)\n",
    "\n",
    "trainset = TensorDataset(X_train, y_train)"
   ]
  },
  {
   "cell_type": "code",
   "execution_count": 4,
   "metadata": {
    "id": "oWYFlDNv7jp4",
    "tags": []
   },
   "outputs": [],
   "source": [
    "class Net(nn.Module):\n",
    "    def __init__(self):\n",
    "        super(Net, self).__init__()\n",
    "        self.fc1 = nn.Linear(df.shape[1] - 1, 9)\n",
    "\n",
    "    def forward(self, x):\n",
    "        out = self.fc1(x)\n",
    "        return out"
   ]
  },
  {
   "cell_type": "code",
   "execution_count": 5,
   "metadata": {
    "id": "CBmJhl2SItlD",
    "tags": []
   },
   "outputs": [],
   "source": [
    "def evaluate_dpoptimizer(accountant, privacy_manager, k=1):\n",
    "    accountant.reset_step_info()\n",
    "    accountant.add_step_info(\n",
    "        {\"sigma\": sigma},\n",
    "        lot_size / len(trainset),\n",
    "        iterations * (len(trainset) / lot_size),\n",
    "    )\n",
    "    estimated_epsilon = accountant.get_epsilon(delta=delta)\n",
    "    print(f\"estimated epsilon is {estimated_epsilon}\")\n",
    "\n",
    "    accountant.reset_step_info()\n",
    "    dpoptimizer_cls, lot_loader, batch_loader = privacy_manager.privatize(\n",
    "        noise_multiplier=sigma\n",
    "    )\n",
    "\n",
    "    net = Net()\n",
    "    optimizer = dpoptimizer_cls(net.parameters(), lr=lr)\n",
    "\n",
    "    res = []\n",
    "    for epoch in tqdm(range(iterations)):  # loop over the dataset multiple times\n",
    "        for X_lot, y_lot in lot_loader(optimizer):\n",
    "            for _ in range(k):\n",
    "                for X_batch, y_batch in batch_loader(TensorDataset(X_lot, y_lot)):\n",
    "                    optimizer.zero_grad()\n",
    "                    loss = criterion(net(X_batch), y_batch) / k\n",
    "                    loss.backward()\n",
    "                    optimizer.step()\n",
    "        res.append(criterion(net(X_test), y_test).item())\n",
    "\n",
    "    return res"
   ]
  },
  {
   "cell_type": "code",
   "execution_count": 6,
   "metadata": {
    "colab": {
     "base_uri": "https://localhost:8080/"
    },
    "id": "y8_4MKzbFRcj",
    "outputId": "7d775895-048a-499d-b68d-7a3056824e7f",
    "tags": []
   },
   "outputs": [
    {
     "name": "stdout",
     "output_type": "stream",
     "text": [
      "estimated epsilon is 1.8524497289713917\n"
     ]
    },
    {
     "name": "stderr",
     "output_type": "stream",
     "text": [
      "100%|█████████████████████████████████████████████████████████████████████████████████| 100/100 [00:10<00:00,  9.21it/s]\n"
     ]
    },
    {
     "name": "stdout",
     "output_type": "stream",
     "text": [
      "estimated epsilon is 1.8524497289713917\n"
     ]
    },
    {
     "name": "stderr",
     "output_type": "stream",
     "text": [
      "100%|█████████████████████████████████████████████████████████████████████████████████| 100/100 [00:07<00:00, 12.86it/s]\n"
     ]
    },
    {
     "name": "stdout",
     "output_type": "stream",
     "text": [
      "estimated epsilon is 1.8524497289713917\n"
     ]
    },
    {
     "name": "stderr",
     "output_type": "stream",
     "text": [
      "100%|█████████████████████████████████████████████████████████████████████████████████| 100/100 [00:07<00:00, 12.80it/s]\n"
     ]
    },
    {
     "name": "stdout",
     "output_type": "stream",
     "text": [
      "estimated epsilon is 1.8524497289713917\n"
     ]
    },
    {
     "name": "stderr",
     "output_type": "stream",
     "text": [
      "100%|█████████████████████████████████████████████████████████████████████████████████| 100/100 [00:08<00:00, 12.38it/s]\n"
     ]
    },
    {
     "name": "stdout",
     "output_type": "stream",
     "text": [
      "estimated epsilon is 1.8524497289713917\n"
     ]
    },
    {
     "name": "stderr",
     "output_type": "stream",
     "text": [
      "100%|█████████████████████████████████████████████████████████████████████████████████| 100/100 [00:07<00:00, 12.64it/s]\n"
     ]
    },
    {
     "name": "stdout",
     "output_type": "stream",
     "text": [
      "estimated epsilon is 1.8524497289713917\n"
     ]
    },
    {
     "name": "stderr",
     "output_type": "stream",
     "text": [
      "100%|█████████████████████████████████████████████████████████████████████████████████| 100/100 [00:07<00:00, 12.83it/s]\n"
     ]
    },
    {
     "name": "stdout",
     "output_type": "stream",
     "text": [
      "estimated epsilon is 1.8524497289713917\n"
     ]
    },
    {
     "name": "stderr",
     "output_type": "stream",
     "text": [
      "100%|█████████████████████████████████████████████████████████████████████████████████| 100/100 [00:08<00:00, 11.50it/s]\n"
     ]
    },
    {
     "name": "stdout",
     "output_type": "stream",
     "text": [
      "estimated epsilon is 1.8524497289713917\n"
     ]
    },
    {
     "name": "stderr",
     "output_type": "stream",
     "text": [
      "100%|█████████████████████████████████████████████████████████████████████████████████| 100/100 [00:08<00:00, 11.33it/s]\n"
     ]
    },
    {
     "name": "stdout",
     "output_type": "stream",
     "text": [
      "estimated epsilon is 1.8524497289713917\n"
     ]
    },
    {
     "name": "stderr",
     "output_type": "stream",
     "text": [
      "100%|█████████████████████████████████████████████████████████████████████████████████| 100/100 [00:09<00:00, 10.38it/s]\n"
     ]
    },
    {
     "name": "stdout",
     "output_type": "stream",
     "text": [
      "estimated epsilon is 1.8524497289713917\n"
     ]
    },
    {
     "name": "stderr",
     "output_type": "stream",
     "text": [
      "100%|█████████████████████████████████████████████████████████████████████████████████| 100/100 [00:08<00:00, 11.92it/s]\n"
     ]
    }
   ],
   "source": [
    "res1 = []\n",
    "\n",
    "for _ in range(num_trials):\n",
    "    accountant = GeneralMomentAccountant(\n",
    "        noise_type=\"Gaussian\",\n",
    "        backend=\"cpp\",\n",
    "    )\n",
    "\n",
    "    privacy_manager = DPSGDManager(\n",
    "        accountant,\n",
    "        optim.SGD,\n",
    "        l2_norm_clip=l2_norm_clip,\n",
    "        dataset=trainset,\n",
    "        lot_size=lot_size,\n",
    "        batch_size=batch_size,\n",
    "        iterations=iterations,\n",
    "    )\n",
    "\n",
    "    res1.append(evaluate_dpoptimizer(accountant, privacy_manager))"
   ]
  },
  {
   "cell_type": "code",
   "execution_count": 7,
   "metadata": {
    "tags": []
   },
   "outputs": [
    {
     "name": "stdout",
     "output_type": "stream",
     "text": [
      "estimated epsilon is 1.8524497289713917\n"
     ]
    },
    {
     "name": "stderr",
     "output_type": "stream",
     "text": [
      "100%|█████████████████████████████████████████████████████████████████████████████████| 100/100 [01:10<00:00,  1.42it/s]\n"
     ]
    },
    {
     "name": "stdout",
     "output_type": "stream",
     "text": [
      "estimated epsilon is 1.8524497289713917\n"
     ]
    },
    {
     "name": "stderr",
     "output_type": "stream",
     "text": [
      "100%|█████████████████████████████████████████████████████████████████████████████████| 100/100 [01:02<00:00,  1.60it/s]\n"
     ]
    },
    {
     "name": "stdout",
     "output_type": "stream",
     "text": [
      "estimated epsilon is 1.8524497289713917\n"
     ]
    },
    {
     "name": "stderr",
     "output_type": "stream",
     "text": [
      "100%|█████████████████████████████████████████████████████████████████████████████████| 100/100 [01:03<00:00,  1.57it/s]\n"
     ]
    },
    {
     "name": "stdout",
     "output_type": "stream",
     "text": [
      "estimated epsilon is 1.8524497289713917\n"
     ]
    },
    {
     "name": "stderr",
     "output_type": "stream",
     "text": [
      "100%|█████████████████████████████████████████████████████████████████████████████████| 100/100 [01:03<00:00,  1.57it/s]\n"
     ]
    },
    {
     "name": "stdout",
     "output_type": "stream",
     "text": [
      "estimated epsilon is 1.8524497289713917\n"
     ]
    },
    {
     "name": "stderr",
     "output_type": "stream",
     "text": [
      "100%|█████████████████████████████████████████████████████████████████████████████████| 100/100 [01:06<00:00,  1.51it/s]\n"
     ]
    },
    {
     "name": "stdout",
     "output_type": "stream",
     "text": [
      "estimated epsilon is 1.8524497289713917\n"
     ]
    },
    {
     "name": "stderr",
     "output_type": "stream",
     "text": [
      "100%|█████████████████████████████████████████████████████████████████████████████████| 100/100 [01:29<00:00,  1.12it/s]\n"
     ]
    },
    {
     "name": "stdout",
     "output_type": "stream",
     "text": [
      "estimated epsilon is 1.8524497289713917\n"
     ]
    },
    {
     "name": "stderr",
     "output_type": "stream",
     "text": [
      "100%|█████████████████████████████████████████████████████████████████████████████████| 100/100 [01:24<00:00,  1.18it/s]\n"
     ]
    },
    {
     "name": "stdout",
     "output_type": "stream",
     "text": [
      "estimated epsilon is 1.8524497289713917\n"
     ]
    },
    {
     "name": "stderr",
     "output_type": "stream",
     "text": [
      "100%|█████████████████████████████████████████████████████████████████████████████████| 100/100 [01:16<00:00,  1.30it/s]\n"
     ]
    },
    {
     "name": "stdout",
     "output_type": "stream",
     "text": [
      "estimated epsilon is 1.8524497289713917\n"
     ]
    },
    {
     "name": "stderr",
     "output_type": "stream",
     "text": [
      "100%|█████████████████████████████████████████████████████████████████████████████████| 100/100 [01:25<00:00,  1.17it/s]\n"
     ]
    },
    {
     "name": "stdout",
     "output_type": "stream",
     "text": [
      "estimated epsilon is 1.8524497289713917\n"
     ]
    },
    {
     "name": "stderr",
     "output_type": "stream",
     "text": [
      "100%|█████████████████████████████████████████████████████████████████████████████████| 100/100 [01:03<00:00,  1.57it/s]\n"
     ]
    }
   ],
   "source": [
    "res2 = []\n",
    "\n",
    "for _ in range(num_trials):\n",
    "    accountant = GeneralMomentAccountant(\n",
    "        noise_type=\"Gaussian\",\n",
    "        backend=\"cpp\",\n",
    "    )\n",
    "\n",
    "    privacy_manager = DPSGDManager(\n",
    "        accountant,\n",
    "        optim.SGD,\n",
    "        l2_norm_clip=l2_norm_clip,\n",
    "        dataset=trainset,\n",
    "        lot_size=lot_size,\n",
    "        batch_size=batch_size,\n",
    "        iterations=iterations,\n",
    "        smoothing=True,\n",
    "        smoothing_radius=1.0,\n",
    "    )\n",
    "\n",
    "    res2.append(evaluate_dpoptimizer(accountant, privacy_manager, k=10))"
   ]
  },
  {
   "cell_type": "code",
   "execution_count": 19,
   "metadata": {
    "colab": {
     "base_uri": "https://localhost:8080/",
     "height": 282
    },
    "id": "FxgEMMZZIPqL",
    "outputId": "a3638799-2821-4ca3-96ea-b4819fface8e",
    "tags": []
   },
   "outputs": [
    {
     "data": {
      "image/png": "[encoded data removed]",
      "text/plain": [
       "<Figure size 640x480 with 1 Axes>"
      ]
     },
     "metadata": {},
     "output_type": "display_data"
    }
   ],
   "source": [
    "plt.plot(np.array(res1).mean(axis=0), label=\"DP-SGD\")\n",
    "plt.plot(np.array(res2).mean(axis=0), label=\"DP-SGD with DPlis\")\n",
    "plt.legend()\n",
    "plt.xlabel(\"Iteration\")\n",
    "plt.ylabel(\"Test Loss\")\n",
    "plt.show()"
   ]
  }
 ],
 "metadata": {
  "colab": {
   "provenance": []
  },
  "kernelspec": {
   "display_name": "Python 3 (ipykernel)",
   "language": "python",
   "name": "python3"
  },
  "language_info": {
   "codemirror_mode": {
    "name": "ipython",
    "version": 3
   },
   "file_extension": ".py",
   "mimetype": "text/x-python",
   "name": "python",
   "nbconvert_exporter": "python",
   "pygments_lexer": "ipython3",
   "version": "3.10.6"
  }
 },
 "nbformat": 4,
 "nbformat_minor": 4
}
