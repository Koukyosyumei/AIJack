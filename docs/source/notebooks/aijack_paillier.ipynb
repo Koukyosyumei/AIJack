{
 "cells": [
  {
   "cell_type": "markdown",
   "id": "262b53b2-0102-4f26-aad2-afcc5d41cf85",
   "metadata": {},
   "source": [
    "# Paillier Encryption"
   ]
  },
  {
   "cell_type": "code",
   "execution_count": 1,
   "id": "6be4688a-e41e-4a36-aab7-b004102ea094",
   "metadata": {
    "tags": []
   },
   "outputs": [
    {
     "name": "stderr",
     "output_type": "stream",
     "text": [
      "/usr/local/lib/python3.10/dist-packages/tqdm/auto.py:21: TqdmWarning: IProgress not found. Please update jupyter and ipywidgets. See https://ipywidgets.readthedocs.io/en/stable/user_install.html\n",
      "  from .autonotebook import tqdm as notebook_tqdm\n",
      "/usr/local/lib/python3.10/dist-packages/torchvision/io/image.py:13: UserWarning: Failed to load image Python extension: '/usr/local/lib/python3.10/dist-packages/torchvision/image.so: undefined symbol: _ZN3c104cuda20CUDACachingAllocator9allocatorE'If you don't plan on using image functionality from `torchvision.io`, you can ignore this warning. Otherwise, there might be something wrong with your environment. Did you have `libjpeg` or `libpng` installed before building `torchvision` from source?\n",
      "  warn(\n"
     ]
    }
   ],
   "source": [
    "import torch\n",
    "import torch.nn as nn\n",
    "import torch.nn.functional as F\n",
    "import numpy as np\n",
    "\n",
    "from aijack.defense.paillier import (\n",
    "    PaillierKeyGenerator,\n",
    "    PaillierTensor,\n",
    ")"
   ]
  },
  {
   "cell_type": "code",
   "execution_count": 2,
   "id": "489d5a24-814f-425c-a8b1-5efda6b7e59a",
   "metadata": {
    "tags": []
   },
   "outputs": [],
   "source": [
    "keygenerator = PaillierKeyGenerator(512)\n",
    "pk, sk = keygenerator.generate_keypair()"
   ]
  },
  {
   "cell_type": "markdown",
   "id": "ed34ee8d-0556-4e3d-a57c-7f86b4d8db1d",
   "metadata": {},
   "source": [
    "## Basics"
   ]
  },
  {
   "cell_type": "code",
   "execution_count": 3,
   "id": "c0c76082-2d21-47ee-a4fd-6f39dddba399",
   "metadata": {
    "tags": []
   },
   "outputs": [],
   "source": [
    "ct_1 = pk.encrypt(13)\n",
    "assert sk.decrypt2int(ct_1) == 13\n",
    "\n",
    "ct_2 = ct_1 * 2\n",
    "assert sk.decrypt2int(ct_2) == 26\n",
    "\n",
    "ct_3 = ct_1 + 5.6\n",
    "np.testing.assert_array_almost_equal(sk.decrypt2float(ct_3), 18.6, decimal=6)\n",
    "\n",
    "ct_4 = ct_1 + ct_3\n",
    "np.testing.assert_array_almost_equal(sk.decrypt2float(ct_4), 31.6, decimal=6)"
   ]
  },
  {
   "cell_type": "markdown",
   "id": "bd968286-2ac8-403c-b2a3-85b9992a8bbb",
   "metadata": {
    "tags": []
   },
   "source": [
    "## PyTorch - Tensor"
   ]
  },
  {
   "cell_type": "code",
   "execution_count": 4,
   "id": "025102a2-db2a-490f-8ab6-1f617d629d26",
   "metadata": {
    "tags": []
   },
   "outputs": [],
   "source": [
    "ct_1 = pk.encrypt(13)\n",
    "ct_2 = pk.encrypt(0.5)\n",
    "ct_3 = ct_1 + ct_2\n",
    "\n",
    "pt_1 = PaillierTensor([ct_1, ct_2, ct_3])\n",
    "torch.testing.assert_close(\n",
    "    pt_1.decrypt(sk), torch.Tensor([13, 0.5, 13.5]), atol=1e-5, rtol=1\n",
    ")\n",
    "\n",
    "pt_2 = pt_1 + torch.Tensor([0.4, 0.1, 0.2])\n",
    "torch.testing.assert_close(\n",
    "    pt_2.decrypt(sk), torch.Tensor([13.4, 0.6, 13.7]), atol=1e-5, rtol=1\n",
    ")\n",
    "\n",
    "pt_3 = pt_1 * torch.Tensor([1, 2.5, 0.5])\n",
    "torch.testing.assert_close(\n",
    "    pt_3.decrypt(sk), torch.Tensor([13, 1.25, 6.75]), atol=1e-5, rtol=1\n",
    ")\n",
    "\n",
    "pt_4 = pt_1 - torch.Tensor([0.7, 0.3, 0.6])\n",
    "torch.testing.assert_close(\n",
    "    pt_4.decrypt(sk), torch.Tensor([14.3, 0.2, 12.9]), atol=1e-5, rtol=1\n",
    ")\n",
    "\n",
    "pt_5 = pt_1 * 2\n",
    "torch.testing.assert_close(\n",
    "    pt_5.decrypt(sk), torch.Tensor([26, 1, 27]), atol=1e-5, rtol=1\n",
    ")"
   ]
  },
  {
   "cell_type": "markdown",
   "id": "307f52c9-8445-475e-8269-6586fc525db0",
   "metadata": {},
   "source": [
    "## PyTorch - NN"
   ]
  },
  {
   "cell_type": "code",
   "execution_count": 5,
   "id": "f465458c-a64f-4ef2-a3fd-617affcfd82a",
   "metadata": {
    "tags": []
   },
   "outputs": [],
   "source": [
    "class Net(nn.Module):\n",
    "    def __init__(self):\n",
    "        super(Net, self).__init__()\n",
    "        self.fc1 = nn.Linear(10, 5)\n",
    "        self.fc2 = nn.Linear(5, 2)\n",
    "\n",
    "    def forward(self, x):\n",
    "        x = self.fc1(x)\n",
    "        x = self.fc2(x)\n",
    "        return x"
   ]
  },
  {
   "cell_type": "code",
   "execution_count": 6,
   "id": "5730d42b-1257-4586-93d1-8e8751caa515",
   "metadata": {
    "tags": []
   },
   "outputs": [],
   "source": [
    "model = Net()"
   ]
  },
  {
   "cell_type": "code",
   "execution_count": 7,
   "id": "24704a79-d112-4bc2-b7d4-bf042e1b8376",
   "metadata": {
    "tags": []
   },
   "outputs": [],
   "source": [
    "data = list(range(10))\n",
    "tensor = torch.Tensor([data])\n",
    "\n",
    "encrypted_data = [pk.encrypt(d) for d in data]\n",
    "encrypted_tensor = PaillierTensor([encrypted_data])"
   ]
  },
  {
   "cell_type": "code",
   "execution_count": 8,
   "id": "d77fee60-fca3-49d0-8702-fb47a7b40304",
   "metadata": {
    "tags": []
   },
   "outputs": [
    {
     "data": {
      "text/plain": [
       "tensor([[ 1.8293, -2.0024]], grad_fn=<AddmmBackward0>)"
      ]
     },
     "execution_count": 8,
     "metadata": {},
     "output_type": "execute_result"
    }
   ],
   "source": [
    "model(tensor)"
   ]
  },
  {
   "cell_type": "code",
   "execution_count": 9,
   "id": "1575bbb2-f395-430f-832c-8b9847d981ed",
   "metadata": {
    "tags": []
   },
   "outputs": [
    {
     "data": {
      "text/plain": [
       "tensor([[ 1.8293, -2.0024]])"
      ]
     },
     "execution_count": 9,
     "metadata": {},
     "output_type": "execute_result"
    }
   ],
   "source": [
    "model(encrypted_tensor).decrypt(sk)"
   ]
  },
  {
   "cell_type": "code",
   "execution_count": null,
   "id": "f6333333-8483-4ddb-a6af-6ca99ccae052",
   "metadata": {},
   "outputs": [],
   "source": []
  }
 ],
 "metadata": {
  "kernelspec": {
   "display_name": "Python 3 (ipykernel)",
   "language": "python",
   "name": "python3"
  },
  "language_info": {
   "codemirror_mode": {
    "name": "ipython",
    "version": 3
   },
   "file_extension": ".py",
   "mimetype": "text/x-python",
   "name": "python",
   "nbconvert_exporter": "python",
   "pygments_lexer": "ipython3",
   "version": "3.10.6"
  }
 },
 "nbformat": 4,
 "nbformat_minor": 5
}
