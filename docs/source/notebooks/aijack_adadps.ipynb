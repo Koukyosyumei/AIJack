{
 "nbformat": 4,
 "nbformat_minor": 0,
 "metadata": {
  "colab": {
   "provenance": []
  },
  "kernelspec": {
   "name": "python3",
   "display_name": "Python 3"
  },
  "language_info": {
   "name": "python"
  }
 },
 "cells": [
  {
   "cell_type": "markdown",
   "source": [
    "# AdaDPS\n",
    "\n",
    "AdaDPS utilizes auxiliary knowledge, such as public datasets, to achieve a better privacy-utility tradeoff."
   ],
   "metadata": {
    "id": "CTqZ_wQYFjDV"
   }
  },
  {
   "cell_type": "code",
   "source": [
    "!wget https://archive.ics.uci.edu/ml/machine-learning-databases/00233/CNAE-9.data"
   ],
   "metadata": {
    "colab": {
     "base_uri": "https://localhost:8080/"
    },
    "id": "IPf8uqEn5r4D",
    "outputId": "4b0a8276-2d37-4519-fec3-fc32b858215e"
   },
   "execution_count": 1,
   "outputs": [
    {
     "output_type": "stream",
     "name": "stdout",
     "text": [
      "--2023-02-06 14:33:24--  https://archive.ics.uci.edu/ml/machine-learning-databases/00233/CNAE-9.data\n",
      "Resolving archive.ics.uci.edu (archive.ics.uci.edu)... 128.195.10.252\n",
      "Connecting to archive.ics.uci.edu (archive.ics.uci.edu)|128.195.10.252|:443... connected.\n",
      "HTTP request sent, awaiting response... 200 OK\n",
      "Length: 1851120 (1.8M) [application/x-httpd-php]\n",
      "Saving to: ‘CNAE-9.data.4’\n",
      "\n",
      "CNAE-9.data.4       100%[===================>]   1.76M  1.64MB/s    in 1.1s    \n",
      "\n",
      "2023-02-06 14:33:26 (1.64 MB/s) - ‘CNAE-9.data.4’ saved [1851120/1851120]\n",
      "\n"
     ]
    }
   ]
  },
  {
   "cell_type": "code",
   "source": [
    "import torch\n",
    "import torch.nn as nn\n",
    "import torch.optim as optim\n",
    "from torch.utils.data import TensorDataset\n",
    "import random\n",
    "from matplotlib import pyplot as plt\n",
    "from tqdm import tqdm\n",
    "import pandas as pd\n",
    "from sklearn.model_selection import train_test_split\n",
    "\n",
    "from aijack.defense import GeneralMomentAccountant\n",
    "from aijack.defense.dp.manager.dp_manager import DPSGDManager, AdaDPSManager\n",
    "\n",
    "lot_size = 1\n",
    "batch_size = 1\n",
    "iterations = 200\n",
    "sigma = 1.0\n",
    "l2_norm_clip = 1\n",
    "delta = 1e-3\n",
    "lr = 0.01\n",
    "criterion = nn.CrossEntropyLoss()\n",
    "\n",
    "torch.manual_seed(42)\n",
    "random.seed(42)\n",
    "plt.style.use(\"ggplot\")"
   ],
   "metadata": {
    "id": "QFeRzaRQD8gO"
   },
   "execution_count": 2,
   "outputs": []
  },
  {
   "cell_type": "code",
   "source": [
    "df = pd.read_csv(\"CNAE-9.data\", header=None)\n",
    "X = df[range(1, df.shape[1])].values\n",
    "y = df[[0]].values.reshape(-1) - 1\n",
    "\n",
    "X_train, X_test, y_train, y_test = train_test_split(\n",
    "    X, y, test_size=0.2, random_state=42\n",
    ")\n",
    "X_train, X_pub, y_train, y_pub = train_test_split(\n",
    "    X_train, y_train, test_size=0.4, random_state=42\n",
    ")\n",
    "\n",
    "X_train = torch.Tensor(X_train)\n",
    "X_test = torch.Tensor(X_test)\n",
    "X_pub = torch.Tensor(X_pub)\n",
    "y_train = torch.Tensor(y_train).to(torch.long)\n",
    "y_test = torch.Tensor(y_test).to(torch.long)\n",
    "y_pub = torch.Tensor(y_pub).to(torch.long)\n",
    "\n",
    "trainset = TensorDataset(X_train, y_train)"
   ],
   "metadata": {
    "id": "Lq_wLXYcEMqx"
   },
   "execution_count": 3,
   "outputs": []
  },
  {
   "cell_type": "code",
   "source": [
    "class Net(nn.Module):\n",
    "    def __init__(self):\n",
    "        super(Net, self).__init__()\n",
    "        self.fc1 = nn.Linear(df.shape[1] - 1, 9)\n",
    "\n",
    "    def forward(self, x):\n",
    "        out = self.fc1(x)\n",
    "        return out"
   ],
   "metadata": {
    "id": "oWYFlDNv7jp4"
   },
   "execution_count": 4,
   "outputs": []
  },
  {
   "cell_type": "code",
   "source": [
    "def evaluate_dpoptimizer(accountant, privacy_manager):\n",
    "    accountant.reset_step_info()\n",
    "    accountant.add_step_info(\n",
    "        {\"sigma\": sigma},\n",
    "        lot_size / len(trainset),\n",
    "        iterations * (len(trainset) / lot_size),\n",
    "    )\n",
    "    estimated_epsilon = accountant.get_epsilon(delta=delta)\n",
    "    print(f\"estimated epsilon is {estimated_epsilon}\")\n",
    "\n",
    "    accountant.reset_step_info()\n",
    "    dpoptimizer_cls, lot_loader, batch_loader = privacy_manager.privatize(\n",
    "        noise_multiplier=sigma\n",
    "    )\n",
    "\n",
    "    net = Net()\n",
    "    optimizer = dpoptimizer_cls(net.parameters(), lr=lr)\n",
    "\n",
    "    res = []\n",
    "    for epoch in tqdm(range(iterations)):  # loop over the dataset multiple times\n",
    "        for X_lot, y_lot in lot_loader(optimizer):\n",
    "            for X_batch, y_batch in batch_loader(TensorDataset(X_lot, y_lot)):\n",
    "                optimizer.zero_grad()\n",
    "                loss = criterion(net(X_batch), y_batch)\n",
    "                loss.backward()\n",
    "                optimizer.step()\n",
    "        res.append(criterion(net(X_test), y_test).item())\n",
    "\n",
    "    return res\n",
    "\n",
    "\n",
    "def evaluate_adadps(accountant, privacy_manager):\n",
    "    accountant.reset_step_info()\n",
    "    accountant.add_step_info(\n",
    "        {\"sigma\": sigma},\n",
    "        lot_size / len(trainset),\n",
    "        iterations * (len(trainset) / lot_size),\n",
    "    )\n",
    "    estimated_epsilon = accountant.get_epsilon(delta=delta)\n",
    "    print(f\"estimated epsilon is {estimated_epsilon}\")\n",
    "\n",
    "    accountant.reset_step_info()\n",
    "    dpoptimizer_cls, lot_loader, batch_loader = privacy_manager.privatize(\n",
    "        noise_multiplier=sigma\n",
    "    )\n",
    "\n",
    "    net = Net()\n",
    "    optimizer = dpoptimizer_cls(net.parameters(), lr=lr)\n",
    "\n",
    "    res = []\n",
    "    for epoch in tqdm(range(iterations)):  # loop over the dataset multiple times\n",
    "        for X_lot, y_lot in lot_loader(optimizer):\n",
    "            for X_batch, y_batch in batch_loader(TensorDataset(X_lot, y_lot)):\n",
    "                optimizer.zero_grad()\n",
    "                pub_idx = random.sample(list(range(X_pub.shape[0])), X_batch.shape[0])\n",
    "                loss = criterion(net(X_pub[pub_idx]), y_pub[pub_idx])\n",
    "                loss.backward()\n",
    "                optimizer.step_public()\n",
    "\n",
    "                optimizer.zero_grad()\n",
    "                loss = criterion(net(X_batch), y_batch)\n",
    "                loss.backward()\n",
    "                optimizer.step()\n",
    "        res.append(criterion(net(X_test), y_test).item())\n",
    "\n",
    "    return res"
   ],
   "metadata": {
    "id": "CBmJhl2SItlD"
   },
   "execution_count": 5,
   "outputs": []
  },
  {
   "cell_type": "code",
   "source": [
    "accountant = GeneralMomentAccountant(\n",
    "    noise_type=\"Gaussian\",\n",
    "    backend=\"cpp\",\n",
    ")\n",
    "\n",
    "privacy_manager = DPSGDManager(\n",
    "    accountant,\n",
    "    optim.SGD,\n",
    "    l2_norm_clip=l2_norm_clip,\n",
    "    dataset=trainset,\n",
    "    lot_size=lot_size,\n",
    "    batch_size=batch_size,\n",
    "    iterations=iterations,\n",
    ")\n",
    "\n",
    "res1 = evaluate_dpoptimizer(accountant, privacy_manager)"
   ],
   "metadata": {
    "colab": {
     "base_uri": "https://localhost:8080/"
    },
    "id": "y8_4MKzbFRcj",
    "outputId": "7d775895-048a-499d-b68d-7a3056824e7f"
   },
   "execution_count": 6,
   "outputs": [
    {
     "output_type": "stream",
     "name": "stdout",
     "text": [
      "estimated epsilon is 2.7860065342521563\n"
     ]
    },
    {
     "output_type": "stream",
     "name": "stderr",
     "text": [
      "100%|██████████| 200/200 [00:50<00:00,  3.99it/s]\n"
     ]
    }
   ]
  },
  {
   "cell_type": "code",
   "source": [
    "accountant = GeneralMomentAccountant(\n",
    "    noise_type=\"Gaussian\",\n",
    "    backend=\"cpp\",\n",
    ")\n",
    "\n",
    "privacy_manager = AdaDPSManager(\n",
    "    accountant,\n",
    "    optim.SGD,\n",
    "    l2_norm_clip=l2_norm_clip,\n",
    "    dataset=trainset,\n",
    "    lot_size=batch_size,\n",
    "    batch_size=batch_size,\n",
    "    iterations=iterations,\n",
    ")\n",
    "\n",
    "res2 = evaluate_adadps(accountant, privacy_manager)"
   ],
   "metadata": {
    "colab": {
     "base_uri": "https://localhost:8080/"
    },
    "id": "f5O-7_rmHXoz",
    "outputId": "fc98e6ea-a46d-4c68-d399-365a34cfb953"
   },
   "execution_count": 7,
   "outputs": [
    {
     "output_type": "stream",
     "name": "stdout",
     "text": [
      "estimated epsilon is 2.7860065342521563\n"
     ]
    },
    {
     "output_type": "stream",
     "name": "stderr",
     "text": [
      "100%|██████████| 200/200 [01:00<00:00,  3.30it/s]\n"
     ]
    }
   ]
  },
  {
   "cell_type": "code",
   "source": [
    "plt.plot(res1, label=\"DP-SGD\")\n",
    "plt.plot(res2, label=\"AdaDPS\")\n",
    "plt.legend()\n",
    "plt.xlabel(\"Iteration\")\n",
    "plt.ylabel(\"Test Loss\")\n",
    "plt.show()"
   ],
   "metadata": {
    "colab": {
     "base_uri": "https://localhost:8080/",
     "height": 282
    },
    "id": "FxgEMMZZIPqL",
    "outputId": "a3638799-2821-4ca3-96ea-b4819fface8e"
   },
   "execution_count": 8,
   "outputs": [
    {
     "output_type": "display_data",
     "data": {
      "text/plain": [
       "<Figure size 432x288 with 1 Axes>"
      ],
      "image/png": "[encoded data removed]"
     },
     "metadata": {}
    }
   ]
  },
  {
   "cell_type": "code",
   "source": [],
   "metadata": {
    "id": "8NPApQueB43a"
   },
   "execution_count": 8,
   "outputs": []
  }
 ]
}