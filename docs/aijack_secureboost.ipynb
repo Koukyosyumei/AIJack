{
  "nbformat": 4,
  "nbformat_minor": 0,
  "metadata": {
    "colab": {
      "provenance": []
    },
    "kernelspec": {
      "name": "python3",
      "display_name": "Python 3"
    },
    "language_info": {
      "name": "python"
    }
  },
  "cells": [
    {
      "cell_type": "markdown",
      "source": [
        "# SecureBoost: Vertically Federated XGBoost with Paillier Encryption\n",
        "\n",
        "original paper: https://arxiv.org/abs/1901.08755\n",
        "\n",
        "SecureBoost allows multiple parties to train the same model as normal XGBoost without disclosing their local datasets."
      ],
      "metadata": {
        "id": "QHrq_KNQ8ce5"
      }
    },
    {
      "cell_type": "code",
      "source": [
        "%%shell\n",
        "\n",
        "apt install -y libboost-all-dev\n",
        "pip install -U pip\n",
        "pip install \"pybind11[global]\"\n",
        "\n",
        "pip install git+https://github.com/Koukyosyumei/AIJack@dba"
      ],
      "metadata": {
        "colab": {
          "base_uri": "https://localhost:8080/"
        },
        "id": "o6sSeFE3_JeX",
        "outputId": "2383d30c-4410-44fc-aa65-98175bf5f2de"
      },
      "execution_count": 1,
      "outputs": [
        {
          "output_type": "stream",
          "name": "stdout",
          "text": [
            "Reading package lists... Done\n",
            "Building dependency tree       \n",
            "Reading state information... Done\n",
            "libboost-all-dev is already the newest version (1.65.1.0ubuntu1).\n",
            "The following package was automatically installed and is no longer required:\n",
            "  libnvidia-common-460\n",
            "Use 'apt autoremove' to remove it.\n",
            "0 upgraded, 0 newly installed, 0 to remove and 20 not upgraded.\n",
            "Looking in indexes: https://pypi.org/simple, https://us-python.pkg.dev/colab-wheels/public/simple/\n",
            "Requirement already satisfied: pip in /usr/local/lib/python3.8/dist-packages (21.1.3)\n",
            "Collecting pip\n",
            "  Downloading pip-22.3.1-py3-none-any.whl (2.1 MB)\n",
            "\u001b[K     |████████████████████████████████| 2.1 MB 6.6 MB/s \n",
            "\u001b[?25hInstalling collected packages: pip\n",
            "  Attempting uninstall: pip\n",
            "    Found existing installation: pip 21.1.3\n",
            "    Uninstalling pip-21.1.3:\n",
            "      Successfully uninstalled pip-21.1.3\n",
            "Successfully installed pip-22.3.1\n",
            "Looking in indexes: https://pypi.org/simple, https://us-python.pkg.dev/colab-wheels/public/simple/\n",
            "Collecting pybind11[global]\n",
            "  Downloading pybind11-2.10.1-py3-none-any.whl (216 kB)\n",
            "\u001b[2K     \u001b[90m━━━━━━━━━━━━━━━━━━━━━━━━━━━━━━━━━━━━━━━\u001b[0m \u001b[32m216.1/216.1 kB\u001b[0m \u001b[31m8.5 MB/s\u001b[0m eta \u001b[36m0:00:00\u001b[0m\n",
            "\u001b[?25hCollecting pybind11-global==2.10.1\n",
            "  Downloading pybind11_global-2.10.1-py3-none-any.whl (388 kB)\n",
            "\u001b[2K     \u001b[90m━━━━━━━━━━━━━━━━━━━━━━━━━━━━━━━━━━━━━━\u001b[0m \u001b[32m388.9/388.9 kB\u001b[0m \u001b[31m28.8 MB/s\u001b[0m eta \u001b[36m0:00:00\u001b[0m\n",
            "\u001b[?25hInstalling collected packages: pybind11-global, pybind11\n",
            "Successfully installed pybind11-2.10.1 pybind11-global-2.10.1\n",
            "\u001b[33mWARNING: Running pip as the 'root' user can result in broken permissions and conflicting behaviour with the system package manager. It is recommended to use a virtual environment instead: https://pip.pypa.io/warnings/venv\u001b[0m\u001b[33m\n",
            "\u001b[0mLooking in indexes: https://pypi.org/simple, https://us-python.pkg.dev/colab-wheels/public/simple/\n",
            "Collecting git+https://github.com/Koukyosyumei/AIJack@dba\n",
            "  Cloning https://github.com/Koukyosyumei/AIJack (to revision dba) to /tmp/pip-req-build-is1l_rfo\n",
            "  Running command git clone --filter=blob:none --quiet https://github.com/Koukyosyumei/AIJack /tmp/pip-req-build-is1l_rfo\n",
            "  Running command git checkout -b dba --track origin/dba\n",
            "  Switched to a new branch 'dba'\n",
            "  Branch 'dba' set up to track remote branch 'dba' from 'origin'.\n",
            "  Resolved https://github.com/Koukyosyumei/AIJack to commit 618d6fdbcd9d265a0c9582352a9d42a19c22aec6\n",
            "  Installing build dependencies ... \u001b[?25l\u001b[?25hdone\n",
            "  Getting requirements to build wheel ... \u001b[?25l\u001b[?25hdone\n",
            "  Preparing metadata (pyproject.toml) ... \u001b[?25l\u001b[?25hdone\n",
            "Requirement already satisfied: pybind11[global] in /usr/local/lib/python3.8/dist-packages (from aijack==0.0.0) (2.10.1)\n",
            "Requirement already satisfied: tqdm in /usr/local/lib/python3.8/dist-packages (from aijack==0.0.0) (4.64.1)\n",
            "Requirement already satisfied: torch>=1.11.0 in /usr/local/lib/python3.8/dist-packages (from aijack==0.0.0) (1.13.0+cu116)\n",
            "Requirement already satisfied: numpy in /usr/local/lib/python3.8/dist-packages (from aijack==0.0.0) (1.21.6)\n",
            "Requirement already satisfied: scikit-learn in /usr/local/lib/python3.8/dist-packages (from aijack==0.0.0) (1.0.2)\n",
            "Collecting mpi4py\n",
            "  Downloading mpi4py-3.1.4.tar.gz (2.5 MB)\n",
            "\u001b[2K     \u001b[90m━━━━━━━━━━━━━━━━━━━━━━━━━━━━━━━━━━━━━━━━\u001b[0m \u001b[32m2.5/2.5 MB\u001b[0m \u001b[31m41.0 MB/s\u001b[0m eta \u001b[36m0:00:00\u001b[0m\n",
            "\u001b[?25h  Installing build dependencies ... \u001b[?25l\u001b[?25hdone\n",
            "  Getting requirements to build wheel ... \u001b[?25l\u001b[?25hdone\n",
            "  Preparing metadata (pyproject.toml) ... \u001b[?25l\u001b[?25hdone\n",
            "Requirement already satisfied: matplotlib in /usr/local/lib/python3.8/dist-packages (from aijack==0.0.0) (3.2.2)\n",
            "Requirement already satisfied: torchvision in /usr/local/lib/python3.8/dist-packages (from aijack==0.0.0) (0.14.0+cu116)\n",
            "Requirement already satisfied: typing-extensions in /usr/local/lib/python3.8/dist-packages (from torch>=1.11.0->aijack==0.0.0) (4.4.0)\n",
            "Requirement already satisfied: kiwisolver>=1.0.1 in /usr/local/lib/python3.8/dist-packages (from matplotlib->aijack==0.0.0) (1.4.4)\n",
            "Requirement already satisfied: pyparsing!=2.0.4,!=2.1.2,!=2.1.6,>=2.0.1 in /usr/local/lib/python3.8/dist-packages (from matplotlib->aijack==0.0.0) (3.0.9)\n",
            "Requirement already satisfied: python-dateutil>=2.1 in /usr/local/lib/python3.8/dist-packages (from matplotlib->aijack==0.0.0) (2.8.2)\n",
            "Requirement already satisfied: cycler>=0.10 in /usr/local/lib/python3.8/dist-packages (from matplotlib->aijack==0.0.0) (0.11.0)\n",
            "Requirement already satisfied: pybind11-global==2.10.1 in /usr/local/lib/python3.8/dist-packages (from pybind11[global]->aijack==0.0.0) (2.10.1)\n",
            "Requirement already satisfied: scipy>=1.1.0 in /usr/local/lib/python3.8/dist-packages (from scikit-learn->aijack==0.0.0) (1.7.3)\n",
            "Requirement already satisfied: threadpoolctl>=2.0.0 in /usr/local/lib/python3.8/dist-packages (from scikit-learn->aijack==0.0.0) (3.1.0)\n",
            "Requirement already satisfied: joblib>=0.11 in /usr/local/lib/python3.8/dist-packages (from scikit-learn->aijack==0.0.0) (1.2.0)\n",
            "Requirement already satisfied: pillow!=8.3.*,>=5.3.0 in /usr/local/lib/python3.8/dist-packages (from torchvision->aijack==0.0.0) (7.1.2)\n",
            "Requirement already satisfied: requests in /usr/local/lib/python3.8/dist-packages (from torchvision->aijack==0.0.0) (2.23.0)\n",
            "Requirement already satisfied: six>=1.5 in /usr/local/lib/python3.8/dist-packages (from python-dateutil>=2.1->matplotlib->aijack==0.0.0) (1.15.0)\n",
            "Requirement already satisfied: chardet<4,>=3.0.2 in /usr/local/lib/python3.8/dist-packages (from requests->torchvision->aijack==0.0.0) (3.0.4)\n",
            "Requirement already satisfied: idna<3,>=2.5 in /usr/local/lib/python3.8/dist-packages (from requests->torchvision->aijack==0.0.0) (2.10)\n",
            "Requirement already satisfied: urllib3!=1.25.0,!=1.25.1,<1.26,>=1.21.1 in /usr/local/lib/python3.8/dist-packages (from requests->torchvision->aijack==0.0.0) (1.24.3)\n",
            "Requirement already satisfied: certifi>=2017.4.17 in /usr/local/lib/python3.8/dist-packages (from requests->torchvision->aijack==0.0.0) (2022.12.7)\n",
            "Building wheels for collected packages: aijack, mpi4py\n",
            "  Building wheel for aijack (pyproject.toml) ... \u001b[?25l\u001b[?25hdone\n",
            "  Created wheel for aijack: filename=aijack-0.0.0-cp38-cp38-linux_x86_64.whl size=391624 sha256=efaf1963e4c96e6bf190af932ef567a8bc35f57f872fae0fbd0eaebe95013d75\n",
            "  Stored in directory: /tmp/pip-ephem-wheel-cache-exsldxxn/wheels/a9/55/c7/fa0956e01a5778063d4fc7d121d1584221d584ed5fd2405229\n",
            "  Building wheel for mpi4py (pyproject.toml) ... \u001b[?25l\u001b[?25hdone\n",
            "  Created wheel for mpi4py: filename=mpi4py-3.1.4-cp38-cp38-linux_x86_64.whl size=4438391 sha256=c464ef7b9a24b2f76efc9cc3174fc0747c10d964876c9efd31d9eb50d8b15719\n",
            "  Stored in directory: /root/.cache/pip/wheels/98/ef/6f/4096878122fa934fc7d867fed58afd62d2ef2cfff1a88bf2fa\n",
            "Successfully built aijack mpi4py\n",
            "Installing collected packages: mpi4py, aijack\n",
            "Successfully installed aijack-0.0.0 mpi4py-3.1.4\n",
            "\u001b[33mWARNING: Running pip as the 'root' user can result in broken permissions and conflicting behaviour with the system package manager. It is recommended to use a virtual environment instead: https://pip.pypa.io/warnings/venv\u001b[0m\u001b[33m\n",
            "\u001b[0m"
          ]
        },
        {
          "output_type": "execute_result",
          "data": {
            "text/plain": []
          },
          "metadata": {},
          "execution_count": 1
        }
      ]
    },
    {
      "cell_type": "code",
      "source": [
        "from aijack.defense.paillier import PaillierKeyGenerator\n",
        "from aijack.collaborative.tree import SecureBoostClassifierAPI, SecureBoostClient, XGBoostClassifierAPI, XGBoostClient"
      ],
      "metadata": {
        "id": "VQRFXySN8hr-"
      },
      "execution_count": 5,
      "outputs": []
    },
    {
      "cell_type": "markdown",
      "source": [
        "## Paillier Encryption"
      ],
      "metadata": {
        "id": "4Bfymt56-fWu"
      }
    },
    {
      "cell_type": "code",
      "source": [
        "keygenerator = PaillierKeyGenerator(512)\n",
        "pk, sk = keygenerator.generate_keypair()\n",
        "\n",
        "pk.get_publickeyvalues()"
      ],
      "metadata": {
        "colab": {
          "base_uri": "https://localhost:8080/"
        },
        "id": "NeK_PhB2-jsu",
        "outputId": "f7b7c8c7-927a-4cdb-bd8d-bea2ad7e8ff9"
      },
      "execution_count": 3,
      "outputs": [
        {
          "output_type": "execute_result",
          "data": {
            "text/plain": [
              "('75242327359052187572169010861692481547454348330868546066717438408853157480428647976190531420312698828694087675121469049411809985056891481101471011077945157641578304180814676083157925906917435382632123247869197335370689139712763870678635308347455305720914931243235831753850053494946430764740457718377179707311',\n",
              " '75242327359052187572169010861692481547454348330868546066717438408853157480428647976190531420312698828694087675121469049411809985056891481101471011077945157641578304180814676083157925906917435382632123247869197335370689139712763870678635308347455305720914931243235831753850053494946430764740457718377179707312')"
            ]
          },
          "metadata": {},
          "execution_count": 3
        }
      ]
    },
    {
      "cell_type": "code",
      "source": [
        "ct_1 = pk.encrypt(13)\n",
        "print(\"ct_1 = \", sk.decrypt2int(ct_1))\n",
        "\n",
        "ct_2 = ct_1 * 2\n",
        "print(\"ct_2 = \", sk.decrypt2int(ct_2))\n",
        "\n",
        "ct_3 = ct_1 + 5.6\n",
        "print(\"ct_3 = \", sk.decrypt2float(ct_3))\n",
        "\n",
        "print(\"ct_1 + ct_3 = \", sk.decrypt2float(ct_1 + ct_3))"
      ],
      "metadata": {
        "colab": {
          "base_uri": "https://localhost:8080/"
        },
        "id": "3_7s6MuJ-v5g",
        "outputId": "8501b893-03cb-4385-8731-dd6255fb3c52"
      },
      "execution_count": 4,
      "outputs": [
        {
          "output_type": "stream",
          "name": "stdout",
          "text": [
            "ct_1 =  13\n",
            "ct_2 =  26\n",
            "ct_3 =  18.600000381469727\n",
            "ct_1 + ct_3 =  31.600000381469727\n"
          ]
        }
      ]
    },
    {
      "cell_type": "markdown",
      "source": [
        "## SecureBoost"
      ],
      "metadata": {
        "id": "kMp1MVod-hvx"
      }
    },
    {
      "cell_type": "code",
      "source": [
        "min_leaf = 1\n",
        "depth = 3\n",
        "learning_rate = 0.4\n",
        "boosting_rounds = 2\n",
        "lam = 1.0\n",
        "gamma = 0.0\n",
        "eps = 1.0\n",
        "min_child_weight = -1 * float(\"inf\")\n",
        "subsample_cols = 1.0\n",
        "\n",
        "# dummy data\n",
        "\n",
        "x1 = [12, 32, 15, 24, 20, 25, 17, 16]\n",
        "x1 = [[x] for x in x1]\n",
        "x2 = [1, 1, 0, 0, 1, 1, 0, 1]\n",
        "x2 = [[x] for x in x2]\n",
        "y = [1, 0, 1, 0, 1, 1, 0, 1]\n",
        "\n",
        "x3 = [[12, 1], [32, 1], [15, 0], [24, 0], [20, 1], [25, 1], [17, 0], [16, 1]]"
      ],
      "metadata": {
        "id": "eJBBYBlS-gvY"
      },
      "execution_count": 6,
      "outputs": []
    },
    {
      "cell_type": "code",
      "source": [
        "p1 = XGBoostClient(x1, 2, [0], 0, min_leaf, subsample_cols, 256, False, 0)\n",
        "p2 = XGBoostClient(x2, 2, [1], 1, min_leaf, subsample_cols, 256, False, 0)\n",
        "parties = [p1, p2]\n",
        "\n",
        "clf = XGBoostClassifierAPI(\n",
        "    2,\n",
        "    subsample_cols,\n",
        "    min_child_weight,\n",
        "    depth,\n",
        "    min_leaf,\n",
        "    learning_rate,\n",
        "    boosting_rounds,\n",
        "    lam,\n",
        "    gamma,\n",
        "    eps,\n",
        "    -1,\n",
        "    0,\n",
        "    1.0,\n",
        "    1,\n",
        "    True,\n",
        ")\n",
        "clf.fit(parties, y)\n",
        "clf.predict_proba(x3)"
      ],
      "metadata": {
        "colab": {
          "base_uri": "https://localhost:8080/"
        },
        "id": "bCi-6IfjG6TK",
        "outputId": "11112265-58af-41f5-ddf0-fbde2f276867"
      },
      "execution_count": 7,
      "outputs": [
        {
          "output_type": "execute_result",
          "data": {
            "text/plain": [
              "[[0.20040041208267212, 0.7995995879173279],\n",
              " [0.3700332045555115, 0.6299667954444885],\n",
              " [0.20040041208267212, 0.7995995879173279],\n",
              " [0.44300776720046997, 0.55699223279953],\n",
              " [0.3700332045555115, 0.6299667954444885],\n",
              " [0.3700332045555115, 0.6299667954444885],\n",
              " [0.44300776720046997, 0.55699223279953],\n",
              " [0.20040041208267212, 0.7995995879173279]]"
            ]
          },
          "metadata": {},
          "execution_count": 7
        }
      ]
    },
    {
      "cell_type": "code",
      "source": [
        "keygenerator = PaillierKeyGenerator(512)\n",
        "pk, sk = keygenerator.generate_keypair()\n",
        "\n",
        "sp1 = SecureBoostClient(x1, 2, [0], 0, min_leaf, subsample_cols, 256, False, 0)\n",
        "sp2 = SecureBoostClient(x2, 2, [1], 1, min_leaf, subsample_cols, 256, False, 0)\n",
        "sparties = [sp1, sp2]\n",
        "\n",
        "sparties[0].set_publickey(pk)\n",
        "sparties[1].set_publickey(pk)\n",
        "sparties[0].set_secretkey(sk)\n",
        "\n",
        "sclf = SecureBoostClassifierAPI(\n",
        "    2,\n",
        "    subsample_cols,\n",
        "    min_child_weight,\n",
        "    depth,\n",
        "    min_leaf,\n",
        "    learning_rate,\n",
        "    boosting_rounds,\n",
        "    lam,\n",
        "    gamma,\n",
        "    eps,\n",
        "    0,\n",
        "    0,\n",
        "    1.0,\n",
        "    1,\n",
        "    True,\n",
        ")\n",
        "sclf.fit(sparties, y)\n",
        "sclf.predict_proba(x3)"
      ],
      "metadata": {
        "colab": {
          "base_uri": "https://localhost:8080/"
        },
        "id": "-2FEK1iKDOlz",
        "outputId": "82d73912-74e5-4037-acad-089a5fd9ec00"
      },
      "execution_count": 8,
      "outputs": [
        {
          "output_type": "execute_result",
          "data": {
            "text/plain": [
              "[[0.20040041208267212, 0.7995995879173279],\n",
              " [0.3700332045555115, 0.6299667954444885],\n",
              " [0.20040041208267212, 0.7995995879173279],\n",
              " [0.44300776720046997, 0.55699223279953],\n",
              " [0.3700332045555115, 0.6299667954444885],\n",
              " [0.3700332045555115, 0.6299667954444885],\n",
              " [0.44300776720046997, 0.55699223279953],\n",
              " [0.20040041208267212, 0.7995995879173279]]"
            ]
          },
          "metadata": {},
          "execution_count": 8
        }
      ]
    },
    {
      "cell_type": "code",
      "source": [],
      "metadata": {
        "id": "bWlcyZJovlPY"
      },
      "execution_count": null,
      "outputs": []
    }
  ]
}