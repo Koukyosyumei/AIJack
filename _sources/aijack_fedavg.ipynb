{
 "nbformat": 4,
 "nbformat_minor": 0,
 "metadata": {
  "colab": {
   "provenance": [],
   "collapsed_sections": []
  },
  "kernelspec": {
   "name": "python3",
   "display_name": "Python 3"
  },
  "language_info": {
   "name": "python"
  }
 },
 "cells": [
  {
   "cell_type": "markdown",
   "source": [
    "# FedAVG\n",
    "\n",
    "In this tutorial, you will learn how to simulate FedAVG, representative scheme of Federated Learning, with AIJack. You can choose the single process or MPI as the backend."
   ],
   "metadata": {
    "id": "SROAZ9dO80s8"
   }
  },
  {
   "cell_type": "markdown",
   "source": [
    "## Single Process"
   ],
   "metadata": {
    "id": "FNMDQuH49CBO"
   }
  },
  {
   "cell_type": "code",
   "source": [
    "import random\n",
    "\n",
    "import numpy as np\n",
    "import torch\n",
    "import torch.nn as nn\n",
    "import torch.nn.functional as F\n",
    "import torch.optim as optim\n",
    "from mpi4py import MPI\n",
    "from torchvision import datasets, transforms\n",
    "\n",
    "from aijack.collaborative import FedAvgClient, FedAvgServer\n",
    "from aijack.collaborative.fedavg import FedAVGAPI"
   ],
   "metadata": {
    "id": "J4s0w9rHwOd8"
   },
   "execution_count": 1,
   "outputs": []
  },
  {
   "cell_type": "code",
   "source": [
    "def fix_seed(seed):\n",
    "    random.seed(seed)\n",
    "    np.random.seed(seed)\n",
    "    torch.manual_seed(seed)\n",
    "    torch.cuda.manual_seed_all(seed)\n",
    "    torch.backends.cudnn.deterministic = True\n",
    "\n",
    "\n",
    "def prepare_dataloader(num_clients, myid, train=True, path=\"\"):\n",
    "    transform = transforms.Compose(\n",
    "        [transforms.ToTensor(), transforms.Normalize((0.1307,), (0.3081,))]\n",
    "    )\n",
    "    if train:\n",
    "        dataset = datasets.MNIST(path, train=True, download=True, transform=transform)\n",
    "        idxs = list(range(len(dataset.data)))\n",
    "        random.shuffle(idxs)\n",
    "        idx = np.array_split(idxs, num_clients, 0)[myid - 1]\n",
    "        dataset.data = dataset.data[idx]\n",
    "        dataset.targets = dataset.targets[idx]\n",
    "        train_loader = torch.utils.data.DataLoader(\n",
    "            dataset, batch_size=training_batch_size\n",
    "        )\n",
    "        return train_loader\n",
    "    else:\n",
    "        dataset = datasets.MNIST(path, train=False, download=True, transform=transform)\n",
    "        test_loader = torch.utils.data.DataLoader(dataset, batch_size=test_batch_size)\n",
    "        return test_loader\n",
    "\n",
    "\n",
    "class Net(nn.Module):\n",
    "    def __init__(self):\n",
    "        super(Net, self).__init__()\n",
    "        self.ln = nn.Linear(28 * 28, 10)\n",
    "\n",
    "    def forward(self, x):\n",
    "        x = self.ln(x.reshape(-1, 28 * 28))\n",
    "        output = F.log_softmax(x, dim=1)\n",
    "        return output"
   ],
   "metadata": {
    "id": "gsh_CjamwqfV"
   },
   "execution_count": 2,
   "outputs": []
  },
  {
   "cell_type": "code",
   "source": [
    "training_batch_size = 64\n",
    "test_batch_size = 64\n",
    "num_rounds = 5\n",
    "lr = 0.001\n",
    "seed = 0\n",
    "client_size = 2\n",
    "criterion = F.nll_loss\n",
    "\n",
    "device = torch.device(\"cuda\" if torch.cuda.is_available() else \"cpu\")\n",
    "fix_seed(seed)"
   ],
   "metadata": {
    "id": "UX-5FPlbxs4z"
   },
   "execution_count": 3,
   "outputs": []
  },
  {
   "cell_type": "code",
   "source": [
    "local_dataloaders = [prepare_dataloader(client_size, c) for c in range(client_size)]\n",
    "test_dataloader = prepare_dataloader(client_size, -1, train=False)"
   ],
   "metadata": {
    "id": "zz_YjoioAcLD"
   },
   "execution_count": 4,
   "outputs": []
  },
  {
   "cell_type": "code",
   "source": [
    "clients = [FedAvgClient(Net().to(device), user_id=c) for c in range(client_size)]\n",
    "local_optimizers = [optim.SGD(client.parameters(), lr=lr) for client in clients]\n",
    "\n",
    "server = FedAvgServer(clients, Net().to(device))\n",
    "\n",
    "for round in range(1, num_rounds + 1):\n",
    "    for client, local_trainloader, local_optimizer in zip(\n",
    "        clients, local_dataloaders, local_optimizers\n",
    "    ):\n",
    "        for data in local_trainloader:\n",
    "            inputs, labels = data\n",
    "            inputs = inputs.to(device)\n",
    "            labels = labels.to(device)\n",
    "            local_optimizer.zero_grad()\n",
    "            outputs = client(inputs)\n",
    "            loss = criterion(outputs, labels.to(torch.int64))\n",
    "            client.backward(loss)\n",
    "            local_optimizer.step()\n",
    "    server.action()\n",
    "\n",
    "    test_loss = 0\n",
    "    correct = 0\n",
    "    with torch.no_grad():\n",
    "        for data, target in test_dataloader:\n",
    "            data, target = data.to(device), target.to(device)\n",
    "            output = server(data)\n",
    "            test_loss += F.nll_loss(\n",
    "                output, target, reduction=\"sum\"\n",
    "            ).item()  # sum up batch loss\n",
    "            pred = output.argmax(\n",
    "                dim=1, keepdim=True\n",
    "            )  # get the index of the max log-probability\n",
    "            correct += pred.eq(target.view_as(pred)).sum().item()\n",
    "\n",
    "    test_loss /= len(test_dataloader.dataset)\n",
    "    accuracy = 100.0 * correct / len(test_dataloader.dataset)\n",
    "    print(f\"Round: {round}, Test set: Average loss: {test_loss}, Accuracy: {accuracy}\")"
   ],
   "metadata": {
    "colab": {
     "base_uri": "https://localhost:8080/"
    },
    "id": "UEzYT3tex0Nm",
    "outputId": "656797f2-22ac-45fb-d178-891f4a03f961"
   },
   "execution_count": 5,
   "outputs": [
    {
     "output_type": "stream",
     "name": "stdout",
     "text": [
      "Round: 1, Test set: Average loss: 0.7824367607116699, Accuracy: 83.71\n",
      "Round: 2, Test set: Average loss: 0.5854546638488769, Accuracy: 86.49\n",
      "Round: 3, Test set: Average loss: 0.5077689335346222, Accuracy: 87.54\n",
      "Round: 4, Test set: Average loss: 0.4647755696773529, Accuracy: 88.25\n",
      "Round: 5, Test set: Average loss: 0.4369198709487915, Accuracy: 88.63\n"
     ]
    }
   ]
  },
  {
   "cell_type": "markdown",
   "source": [
    "## MPI"
   ],
   "metadata": {
    "id": "smTKPDVx9Dt4"
   }
  },
  {
   "cell_type": "code",
   "source": [
    "%%writefile mpi_fedavg.py\n",
    "import random\n",
    "from logging import getLogger\n",
    "\n",
    "import numpy as np\n",
    "import torch\n",
    "import torch.nn as nn\n",
    "import torch.nn.functional as F\n",
    "import torch.optim as optim\n",
    "from mpi4py import MPI\n",
    "from torchvision import datasets, transforms\n",
    "\n",
    "from aijack.collaborative.fedavg import MPIFedAVGAPI, MPIFedAVGClient, MPIFedAVGServer\n",
    "\n",
    "logger = getLogger(__name__)\n",
    "\n",
    "training_batch_size = 64\n",
    "test_batch_size = 64\n",
    "num_rounds = 5\n",
    "lr = 0.001\n",
    "seed = 0\n",
    "\n",
    "\n",
    "def fix_seed(seed):\n",
    "    random.seed(seed)\n",
    "    np.random.seed(seed)\n",
    "    torch.manual_seed(seed)\n",
    "    torch.cuda.manual_seed_all(seed)\n",
    "    torch.backends.cudnn.deterministic = True\n",
    "\n",
    "\n",
    "def prepare_dataloader(num_clients, myid, train=True, path=\"\"):\n",
    "    transform = transforms.Compose(\n",
    "        [transforms.ToTensor(), transforms.Normalize((0.1307,), (0.3081,))]\n",
    "    )\n",
    "    if train:\n",
    "        dataset = datasets.MNIST(path, train=True, download=True, transform=transform)\n",
    "        idxs = list(range(len(dataset.data)))\n",
    "        random.shuffle(idxs)\n",
    "        idx = np.array_split(idxs, num_clients, 0)[myid - 1]\n",
    "        dataset.data = dataset.data[idx]\n",
    "        dataset.targets = dataset.targets[idx]\n",
    "        train_loader = torch.utils.data.DataLoader(\n",
    "            dataset, batch_size=training_batch_size\n",
    "        )\n",
    "        return train_loader\n",
    "    else:\n",
    "        dataset = datasets.MNIST(path, train=False, download=True, transform=transform)\n",
    "        test_loader = torch.utils.data.DataLoader(dataset, batch_size=test_batch_size)\n",
    "        return test_loader\n",
    "\n",
    "\n",
    "class Net(nn.Module):\n",
    "    def __init__(self):\n",
    "        super(Net, self).__init__()\n",
    "        self.ln = nn.Linear(28 * 28, 10)\n",
    "\n",
    "    def forward(self, x):\n",
    "        x = self.ln(x.reshape(-1, 28 * 28))\n",
    "        output = F.log_softmax(x, dim=1)\n",
    "        return output\n",
    "\n",
    "\n",
    "def evaluate_gloal_model(dataloader):\n",
    "    def _evaluate_global_model(api):\n",
    "        test_loss = 0\n",
    "        correct = 0\n",
    "        with torch.no_grad():\n",
    "            for data, target in dataloader:\n",
    "                data, target = data.to(api.party.device), target.to(api.party.device)\n",
    "                output = api.party.server_model(data)\n",
    "                test_loss += F.nll_loss(\n",
    "                    output, target, reduction=\"sum\"\n",
    "                ).item()  # sum up batch loss\n",
    "                pred = output.argmax(\n",
    "                    dim=1, keepdim=True\n",
    "                )  # get the index of the max log-probability\n",
    "                correct += pred.eq(target.view_as(pred)).sum().item()\n",
    "\n",
    "        test_loss /= len(dataloader.dataset)\n",
    "        accuracy = 100.0 * correct / len(dataloader.dataset)\n",
    "        print(\n",
    "            f\"Round: {api.party.round}, Test set: Average loss: {test_loss}, Accuracy: {accuracy}\"\n",
    "        )\n",
    "\n",
    "    return _evaluate_global_model\n",
    "\n",
    "\n",
    "def main():\n",
    "    fix_seed(seed)\n",
    "\n",
    "    comm = MPI.COMM_WORLD\n",
    "    myid = comm.Get_rank()\n",
    "    size = comm.Get_size()\n",
    "\n",
    "    device = torch.device(\"cuda\" if torch.cuda.is_available() else \"cpu\")\n",
    "    model = Net()\n",
    "    model = model.to(device)\n",
    "    optimizer = optim.SGD(model.parameters(), lr=lr)\n",
    "\n",
    "    if myid == 0:\n",
    "        dataloader = prepare_dataloader(size - 1, myid, train=False)\n",
    "        client_ids = list(range(1, size))\n",
    "        server = MPIFedAVGServer(comm, model, myid, client_ids, myid, lr, \"sgd\", device=device)\n",
    "        api = MPIFedAVGAPI(\n",
    "            comm,\n",
    "            server,\n",
    "            True,\n",
    "            F.nll_loss,\n",
    "            None,\n",
    "            None,\n",
    "            num_rounds,\n",
    "            1,\n",
    "            custom_action=evaluate_gloal_model(dataloader),\n",
    "            device=device\n",
    "        )\n",
    "    else:\n",
    "        dataloader = prepare_dataloader(size - 1, myid, train=True)\n",
    "        client = MPIFedAVGClient(comm, model, myid, lr, device=device)\n",
    "        api = MPIFedAVGAPI(\n",
    "            comm,\n",
    "            client,\n",
    "            False,\n",
    "            F.nll_loss,\n",
    "            optimizer,\n",
    "            dataloader,\n",
    "            num_rounds,\n",
    "            1,\n",
    "            device=device\n",
    "        )\n",
    "\n",
    "    t1 = MPI.Wtime()\n",
    "    api.run()\n",
    "    t2 = MPI.Wtime()\n",
    "\n",
    "    t0 = np.ndarray(1, dtype=\"float64\")\n",
    "    t_w = np.ndarray(1, dtype=\"float64\")\n",
    "    t0[0] = t2 - t1\n",
    "    comm.Reduce(t0, t_w, op=MPI.MAX, root=0)\n",
    "    if myid == 0:\n",
    "        print(\"Execution time = : \", t_w[0], \"  [sec.] \\n\")\n",
    "\n",
    "\n",
    "if __name__ == \"__main__\":\n",
    "    main()"
   ],
   "metadata": {
    "id": "pzKLDKNw820p",
    "colab": {
     "base_uri": "https://localhost:8080/"
    },
    "outputId": "aeb86e2a-24aa-4261-fab7-483c4d706790"
   },
   "execution_count": 6,
   "outputs": [
    {
     "output_type": "stream",
     "name": "stdout",
     "text": [
      "Overwriting mpi_fedavg.py\n"
     ]
    }
   ]
  },
  {
   "cell_type": "code",
   "source": [
    "!mpiexec -np 3 --allow-run-as-root python /content/mpi_fedavg.py"
   ],
   "metadata": {
    "id": "UDBFHwAsvCv3",
    "colab": {
     "base_uri": "https://localhost:8080/"
    },
    "outputId": "a34e20f7-6e5b-419c-a0db-c6b41681c28c"
   },
   "execution_count": 7,
   "outputs": [
    {
     "output_type": "stream",
     "name": "stdout",
     "text": [
      "Round: 1, Test set: Average loss: 0.7860309120178223, Accuracy: 82.72\n",
      "Round: 2, Test set: Average loss: 0.5885528892040253, Accuracy: 86.04\n",
      "Round: 3, Test set: Average loss: 0.5102099300861359, Accuracy: 87.33\n",
      "Round: 4, Test set: Average loss: 0.46664143724441526, Accuracy: 88.01\n",
      "Round: 5, Test set: Average loss: 0.43830649552345274, Accuracy: 88.65\n",
      "Execution time = :  86.60745899900007   [sec.] \n",
      "\n"
     ]
    }
   ]
  }
 ]
}
