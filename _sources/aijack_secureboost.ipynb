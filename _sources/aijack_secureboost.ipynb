{
 "cells": [
  {
   "cell_type": "markdown",
   "metadata": {
    "id": "QHrq_KNQ8ce5"
   },
   "source": [
    "# SecureBoost: Vertically Federated XGBoost with Paillier Encryption\n",
    "\n",
    "original paper: https://arxiv.org/abs/1901.08755\n",
    "\n",
    "SecureBoost allows multiple parties to train the same model as normal XGBoost without disclosing their local datasets."
   ]
  },
  {
   "cell_type": "code",
   "execution_count": 5,
   "metadata": {
    "id": "VQRFXySN8hr-"
   },
   "outputs": [],
   "source": [
    "from aijack.defense.paillier import PaillierKeyGenerator\n",
    "from aijack.collaborative.tree import (\n",
    "    SecureBoostClassifierAPI,\n",
    "    SecureBoostClient,\n",
    "    XGBoostClassifierAPI,\n",
    "    XGBoostClient,\n",
    ")"
   ]
  },
  {
   "cell_type": "markdown",
   "metadata": {
    "id": "4Bfymt56-fWu"
   },
   "source": [
    "## Paillier Encryption"
   ]
  },
  {
   "cell_type": "code",
   "execution_count": 3,
   "metadata": {
    "colab": {
     "base_uri": "https://localhost:8080/"
    },
    "id": "NeK_PhB2-jsu",
    "outputId": "f7b7c8c7-927a-4cdb-bd8d-bea2ad7e8ff9"
   },
   "outputs": [
    {
     "data": {
      "text/plain": [
       "('75242327359052187572169010861692481547454348330868546066717438408853157480428647976190531420312698828694087675121469049411809985056891481101471011077945157641578304180814676083157925906917435382632123247869197335370689139712763870678635308347455305720914931243235831753850053494946430764740457718377179707311',\n",
       " '75242327359052187572169010861692481547454348330868546066717438408853157480428647976190531420312698828694087675121469049411809985056891481101471011077945157641578304180814676083157925906917435382632123247869197335370689139712763870678635308347455305720914931243235831753850053494946430764740457718377179707312')"
      ]
     },
     "execution_count": 3,
     "metadata": {},
     "output_type": "execute_result"
    }
   ],
   "source": [
    "keygenerator = PaillierKeyGenerator(512)\n",
    "pk, sk = keygenerator.generate_keypair()\n",
    "\n",
    "pk.get_publickeyvalues()"
   ]
  },
  {
   "cell_type": "code",
   "execution_count": 4,
   "metadata": {
    "colab": {
     "base_uri": "https://localhost:8080/"
    },
    "id": "3_7s6MuJ-v5g",
    "outputId": "8501b893-03cb-4385-8731-dd6255fb3c52"
   },
   "outputs": [
    {
     "name": "stdout",
     "output_type": "stream",
     "text": [
      "ct_1 =  13\n",
      "ct_2 =  26\n",
      "ct_3 =  18.600000381469727\n",
      "ct_1 + ct_3 =  31.600000381469727\n"
     ]
    }
   ],
   "source": [
    "ct_1 = pk.encrypt(13)\n",
    "print(\"ct_1 = \", sk.decrypt2int(ct_1))\n",
    "\n",
    "ct_2 = ct_1 * 2\n",
    "print(\"ct_2 = \", sk.decrypt2int(ct_2))\n",
    "\n",
    "ct_3 = ct_1 + 5.6\n",
    "print(\"ct_3 = \", sk.decrypt2float(ct_3))\n",
    "\n",
    "print(\"ct_1 + ct_3 = \", sk.decrypt2float(ct_1 + ct_3))"
   ]
  },
  {
   "cell_type": "markdown",
   "metadata": {
    "id": "kMp1MVod-hvx"
   },
   "source": [
    "## SecureBoost"
   ]
  },
  {
   "cell_type": "code",
   "execution_count": 6,
   "metadata": {
    "id": "eJBBYBlS-gvY"
   },
   "outputs": [],
   "source": [
    "min_leaf = 1\n",
    "depth = 3\n",
    "learning_rate = 0.4\n",
    "boosting_rounds = 2\n",
    "lam = 1.0\n",
    "gamma = 0.0\n",
    "eps = 1.0\n",
    "min_child_weight = -1 * float(\"inf\")\n",
    "subsample_cols = 1.0\n",
    "\n",
    "# dummy data\n",
    "\n",
    "x1 = [12, 32, 15, 24, 20, 25, 17, 16]\n",
    "x1 = [[x] for x in x1]\n",
    "x2 = [1, 1, 0, 0, 1, 1, 0, 1]\n",
    "x2 = [[x] for x in x2]\n",
    "y = [1, 0, 1, 0, 1, 1, 0, 1]\n",
    "\n",
    "x3 = [[12, 1], [32, 1], [15, 0], [24, 0], [20, 1], [25, 1], [17, 0], [16, 1]]"
   ]
  },
  {
   "cell_type": "code",
   "execution_count": 7,
   "metadata": {
    "colab": {
     "base_uri": "https://localhost:8080/"
    },
    "id": "bCi-6IfjG6TK",
    "outputId": "11112265-58af-41f5-ddf0-fbde2f276867"
   },
   "outputs": [
    {
     "data": {
      "text/plain": [
       "[[0.20040041208267212, 0.7995995879173279],\n",
       " [0.3700332045555115, 0.6299667954444885],\n",
       " [0.20040041208267212, 0.7995995879173279],\n",
       " [0.44300776720046997, 0.55699223279953],\n",
       " [0.3700332045555115, 0.6299667954444885],\n",
       " [0.3700332045555115, 0.6299667954444885],\n",
       " [0.44300776720046997, 0.55699223279953],\n",
       " [0.20040041208267212, 0.7995995879173279]]"
      ]
     },
     "execution_count": 7,
     "metadata": {},
     "output_type": "execute_result"
    }
   ],
   "source": [
    "p1 = XGBoostClient(x1, 2, [0], 0, min_leaf, subsample_cols, 256, False, 0)\n",
    "p2 = XGBoostClient(x2, 2, [1], 1, min_leaf, subsample_cols, 256, False, 0)\n",
    "parties = [p1, p2]\n",
    "\n",
    "clf = XGBoostClassifierAPI(\n",
    "    2,\n",
    "    subsample_cols,\n",
    "    min_child_weight,\n",
    "    depth,\n",
    "    min_leaf,\n",
    "    learning_rate,\n",
    "    boosting_rounds,\n",
    "    lam,\n",
    "    gamma,\n",
    "    eps,\n",
    "    -1,\n",
    "    0,\n",
    "    1.0,\n",
    "    1,\n",
    "    True,\n",
    ")\n",
    "clf.fit(parties, y)\n",
    "clf.predict_proba(x3)"
   ]
  },
  {
   "cell_type": "code",
   "execution_count": 8,
   "metadata": {
    "colab": {
     "base_uri": "https://localhost:8080/"
    },
    "id": "-2FEK1iKDOlz",
    "outputId": "82d73912-74e5-4037-acad-089a5fd9ec00"
   },
   "outputs": [
    {
     "data": {
      "text/plain": [
       "[[0.20040041208267212, 0.7995995879173279],\n",
       " [0.3700332045555115, 0.6299667954444885],\n",
       " [0.20040041208267212, 0.7995995879173279],\n",
       " [0.44300776720046997, 0.55699223279953],\n",
       " [0.3700332045555115, 0.6299667954444885],\n",
       " [0.3700332045555115, 0.6299667954444885],\n",
       " [0.44300776720046997, 0.55699223279953],\n",
       " [0.20040041208267212, 0.7995995879173279]]"
      ]
     },
     "execution_count": 8,
     "metadata": {},
     "output_type": "execute_result"
    }
   ],
   "source": [
    "keygenerator = PaillierKeyGenerator(512)\n",
    "pk, sk = keygenerator.generate_keypair()\n",
    "\n",
    "sp1 = SecureBoostClient(x1, 2, [0], 0, min_leaf, subsample_cols, 256, False, 0)\n",
    "sp2 = SecureBoostClient(x2, 2, [1], 1, min_leaf, subsample_cols, 256, False, 0)\n",
    "sparties = [sp1, sp2]\n",
    "\n",
    "sparties[0].set_publickey(pk)\n",
    "sparties[1].set_publickey(pk)\n",
    "sparties[0].set_secretkey(sk)\n",
    "\n",
    "sclf = SecureBoostClassifierAPI(\n",
    "    2,\n",
    "    subsample_cols,\n",
    "    min_child_weight,\n",
    "    depth,\n",
    "    min_leaf,\n",
    "    learning_rate,\n",
    "    boosting_rounds,\n",
    "    lam,\n",
    "    gamma,\n",
    "    eps,\n",
    "    0,\n",
    "    0,\n",
    "    1.0,\n",
    "    1,\n",
    "    True,\n",
    ")\n",
    "sclf.fit(sparties, y)\n",
    "sclf.predict_proba(x3)"
   ]
  },
  {
   "cell_type": "code",
   "execution_count": null,
   "metadata": {
    "id": "bWlcyZJovlPY"
   },
   "outputs": [],
   "source": []
  }
 ],
 "metadata": {
  "colab": {
   "provenance": []
  },
  "kernelspec": {
   "display_name": "Python 3",
   "name": "python3"
  },
  "language_info": {
   "name": "python"
  }
 },
 "nbformat": 4,
 "nbformat_minor": 0
}
