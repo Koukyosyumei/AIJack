{
 "nbformat": 4,
 "nbformat_minor": 0,
 "metadata": {
  "colab": {
   "provenance": [],
   "collapsed_sections": []
  },
  "kernelspec": {
   "name": "python3",
   "display_name": "Python 3"
  },
  "language_info": {
   "name": "python"
  }
 },
 "cells": [
  {
   "cell_type": "markdown",
   "source": [
    "# SecureBoost: Vertically Federated XGBoost with Paillier Encryption\n",
    "\n",
    "original paper: https://arxiv.org/abs/1901.08755\n",
    "\n",
    "SecureBoost allows multiple parties to train the same model as normal XGBoost without disclosing their local datasets."
   ],
   "metadata": {
    "id": "QHrq_KNQ8ce5"
   }
  },
  {
   "cell_type": "code",
   "source": [
    "!git clone https://github.com/Koukyosyumei/AIJack\n",
    "%cd AIJack/src/aijack/collaborative/tree\n",
    "!pip install -e ."
   ],
   "metadata": {
    "colab": {
     "base_uri": "https://localhost:8080/"
    },
    "id": "o6sSeFE3_JeX",
    "outputId": "a754c70c-6046-4c72-f049-fd28637e7d6e"
   },
   "execution_count": 4,
   "outputs": [
    {
     "output_type": "stream",
     "name": "stdout",
     "text": [
      "fatal: destination path 'AIJack' already exists and is not an empty directory.\n",
      "/content/AIJack/src/aijack/collaborative/tree\n",
      "Looking in indexes: https://pypi.org/simple, https://us-python.pkg.dev/colab-wheels/public/simple/\n",
      "Obtaining file:///content/AIJack/src/aijack/collaborative/tree\n",
      "Installing collected packages: aijack-secureboost\n",
      "  Running setup.py develop for aijack-secureboost\n",
      "Successfully installed aijack-secureboost-0.0.1\n"
     ]
    }
   ]
  },
  {
   "cell_type": "code",
   "source": [
    "from aijack_secureboost import (  # noqa: F401\n",
    "    XGBoostParty,\n",
    "    XGBoostClassifier,\n",
    "    SecureBoostParty,\n",
    "    SecureBoostClassifier,\n",
    "    PaillierKeyGenerator,\n",
    ")"
   ],
   "metadata": {
    "id": "VQRFXySN8hr-"
   },
   "execution_count": 1,
   "outputs": []
  },
  {
   "cell_type": "markdown",
   "source": [
    "## Paillier Encryption"
   ],
   "metadata": {
    "id": "4Bfymt56-fWu"
   }
  },
  {
   "cell_type": "code",
   "source": [
    "keygenerator = PaillierKeyGenerator(512)\n",
    "pk, sk = keygenerator.generate_keypair()\n",
    "\n",
    "pk.get_publickeyvalues()"
   ],
   "metadata": {
    "colab": {
     "base_uri": "https://localhost:8080/"
    },
    "id": "NeK_PhB2-jsu",
    "outputId": "3f1bd189-f42e-4560-b806-65bc2087e2c7"
   },
   "execution_count": 2,
   "outputs": [
    {
     "output_type": "execute_result",
     "data": {
      "text/plain": [
       "('61572608231496542453581177536528163494017609098535837232920833013767806167859719041551634564813251020881664349358443102542707779823953086953323128922758068556932295347813830727334122866826546454549796930503502736645744742073329381208312594113635429820085463783287308901173037364659000548867020513320689564191',\n",
       " '61572608231496542453581177536528163494017609098535837232920833013767806167859719041551634564813251020881664349358443102542707779823953086953323128922758068556932295347813830727334122866826546454549796930503502736645744742073329381208312594113635429820085463783287308901173037364659000548867020513320689564192')"
      ]
     },
     "metadata": {},
     "execution_count": 2
    }
   ]
  },
  {
   "cell_type": "code",
   "source": [
    "ct_1 = pk.encrypt(13)\n",
    "print(\"ct_1 = \", sk.decrypt2int(ct_1))\n",
    "\n",
    "ct_2 = ct_1 * 2\n",
    "print(\"ct_2 = \", sk.decrypt2int(ct_2))\n",
    "\n",
    "ct_3 = ct_1 + 5.6\n",
    "print(\"ct_3 = \", sk.decrypt2float(ct_3))\n",
    "\n",
    "print(\"ct_1 + ct_3 = \", sk.decrypt2float(ct_1 + ct_3))"
   ],
   "metadata": {
    "colab": {
     "base_uri": "https://localhost:8080/"
    },
    "id": "3_7s6MuJ-v5g",
    "outputId": "7e090af5-c04c-4712-98c7-0bf735abf927"
   },
   "execution_count": 3,
   "outputs": [
    {
     "output_type": "stream",
     "name": "stdout",
     "text": [
      "ct_1 =  13\n",
      "ct_2 =  26\n",
      "ct_3 =  18.600000381469727\n",
      "ct_1 + ct_3 =  31.600000381469727\n"
     ]
    }
   ]
  },
  {
   "cell_type": "markdown",
   "source": [
    "## SecureBoost"
   ],
   "metadata": {
    "id": "kMp1MVod-hvx"
   }
  },
  {
   "cell_type": "code",
   "source": [
    "min_leaf = 1\n",
    "depth = 3\n",
    "learning_rate = 0.4\n",
    "boosting_rounds = 2\n",
    "lam = 1.0\n",
    "gamma = 0.0\n",
    "eps = 1.0\n",
    "min_child_weight = -1 * float(\"inf\")\n",
    "subsample_cols = 1.0\n",
    "\n",
    "# dummy data\n",
    "\n",
    "x1 = [12, 32, 15, 24, 20, 25, 17, 16]\n",
    "x1 = [[x] for x in x1]\n",
    "x2 = [1, 1, 0, 0, 1, 1, 0, 1]\n",
    "x2 = [[x] for x in x2]\n",
    "y = [1, 0, 1, 0, 1, 1, 0, 1]\n",
    "\n",
    "x3 = [[12, 1], [32, 1], [15, 0], [24, 0], [20, 1], [25, 1], [17, 0], [16, 1]]"
   ],
   "metadata": {
    "id": "eJBBYBlS-gvY"
   },
   "execution_count": 4,
   "outputs": []
  },
  {
   "cell_type": "code",
   "source": [
    "p1 = XGBoostParty(x1, 2, [0], 0, min_leaf, subsample_cols, 256, False, 0)\n",
    "p2 = XGBoostParty(x2, 2, [1], 1, min_leaf, subsample_cols, 256, False, 0)\n",
    "parties = [p1, p2]\n",
    "\n",
    "clf = XGBoostClassifier(\n",
    "    2,\n",
    "    subsample_cols,\n",
    "    min_child_weight,\n",
    "    depth,\n",
    "    min_leaf,\n",
    "    learning_rate,\n",
    "    boosting_rounds,\n",
    "    lam,\n",
    "    gamma,\n",
    "    eps,\n",
    "    -1,\n",
    "    0,\n",
    "    1.0,\n",
    "    1,\n",
    "    True,\n",
    ")\n",
    "clf.fit(parties, y)\n",
    "clf.predict_proba(x3)"
   ],
   "metadata": {
    "colab": {
     "base_uri": "https://localhost:8080/"
    },
    "id": "bCi-6IfjG6TK",
    "outputId": "0d132fc7-ec93-4b0d-924d-0328b030baeb"
   },
   "execution_count": 5,
   "outputs": [
    {
     "output_type": "execute_result",
     "data": {
      "text/plain": [
       "[[0.20040041208267212, 0.7995995879173279],\n",
       " [0.3700332045555115, 0.6299667954444885],\n",
       " [0.20040041208267212, 0.7995995879173279],\n",
       " [0.44300776720046997, 0.55699223279953],\n",
       " [0.3700332045555115, 0.6299667954444885],\n",
       " [0.3700332045555115, 0.6299667954444885],\n",
       " [0.44300776720046997, 0.55699223279953],\n",
       " [0.20040041208267212, 0.7995995879173279]]"
      ]
     },
     "metadata": {},
     "execution_count": 5
    }
   ]
  },
  {
   "cell_type": "code",
   "source": [
    "keygenerator = PaillierKeyGenerator(512)\n",
    "pk, sk = keygenerator.generate_keypair()\n",
    "\n",
    "sp1 = SecureBoostParty(x1, 2, [0], 0, min_leaf, subsample_cols, 256, False, 0)\n",
    "sp2 = SecureBoostParty(x2, 2, [1], 1, min_leaf, subsample_cols, 256, False, 0)\n",
    "sparties = [sp1, sp2]\n",
    "\n",
    "sparties[0].set_publickey(pk)\n",
    "sparties[1].set_publickey(pk)\n",
    "sparties[0].set_secretkey(sk)\n",
    "\n",
    "sclf = SecureBoostClassifier(\n",
    "    2,\n",
    "    subsample_cols,\n",
    "    min_child_weight,\n",
    "    depth,\n",
    "    min_leaf,\n",
    "    learning_rate,\n",
    "    boosting_rounds,\n",
    "    lam,\n",
    "    gamma,\n",
    "    eps,\n",
    "    0,\n",
    "    0,\n",
    "    1.0,\n",
    "    1,\n",
    "    True,\n",
    ")\n",
    "sclf.fit(sparties, y)\n",
    "sclf.predict_proba(x3)"
   ],
   "metadata": {
    "colab": {
     "base_uri": "https://localhost:8080/"
    },
    "id": "-2FEK1iKDOlz",
    "outputId": "9352a1c6-19ad-4c89-c893-31e066752852"
   },
   "execution_count": 6,
   "outputs": [
    {
     "output_type": "execute_result",
     "data": {
      "text/plain": [
       "[[0.20040041208267212, 0.7995995879173279],\n",
       " [0.3700332045555115, 0.6299667954444885],\n",
       " [0.20040041208267212, 0.7995995879173279],\n",
       " [0.44300776720046997, 0.55699223279953],\n",
       " [0.3700332045555115, 0.6299667954444885],\n",
       " [0.3700332045555115, 0.6299667954444885],\n",
       " [0.44300776720046997, 0.55699223279953],\n",
       " [0.20040041208267212, 0.7995995879173279]]"
      ]
     },
     "metadata": {},
     "execution_count": 6
    }
   ]
  }
 ]
}
