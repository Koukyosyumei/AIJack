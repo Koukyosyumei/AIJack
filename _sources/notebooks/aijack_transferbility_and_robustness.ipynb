{
 "cells": [
  {
   "cell_type": "markdown",
   "metadata": {
    "id": "pUKTRr8zekCE"
   },
   "source": [
    "# Exploring Adversarial Example Transferability and Robust Tree Models\n",
    "\n",
    "Welcome to this tutorial, where we delve into the intriguing concept of adversarial example transferability. This phenomenon highlights that adversarial examples crafted to exploit one model's vulnerabilities can surprisingly fool other models as well. Our experiments on the MNIST dataset will uncover that adversarial examples ([1]) designed to attack a neural network can also confound a tree ensemble model.\n",
    "\n",
    "Furthermore, we will present compelling evidence that Cost-Aware Robust Tree Ensemble ([2]) can effectively counteract such evasion attacks by incorporating domain-specific knowledge during training.\n",
    "\n",
    "With the assistance of AIJack, you now have the convenient opportunity to evaluate these cutting-edge techniques effortlessly.\n",
    "\n",
    "\n",
    "[1] Goodfellow, Ian J., Jonathon Shlens, and Christian Szegedy. \"Explaining and harnessing adversarial examples.\" arXiv preprint arXiv:1412.6572 (2014).\n",
    "\n",
    "[2] Chen, Yizheng, et al. \"{Cost-Aware} Robust Tree Ensembles for Security Applications.\" 30th USENIX Security Symposium (USENIX Security 21). 2021."
   ]
  },
  {
   "cell_type": "code",
   "execution_count": 2,
   "metadata": {
    "colab": {
     "base_uri": "https://localhost:8080/"
    },
    "id": "Uu73jVt5iePg",
    "outputId": "74db5d62-4d75-45eb-d4b3-815b28d79384"
   },
   "outputs": [
    {
     "data": {
      "text/plain": [
       "<torch._C.Generator at 0x7b6c8ef8a2d0>"
      ]
     },
     "execution_count": 2,
     "metadata": {},
     "output_type": "execute_result"
    }
   ],
   "source": [
    "import cv2\n",
    "import numpy as np\n",
    "import torch\n",
    "import torch.nn as nn\n",
    "import torch.nn.functional as F\n",
    "import torch.optim as optim\n",
    "import torchvision\n",
    "import torchvision.transforms as transforms\n",
    "from torch.utils.data import TensorDataset\n",
    "from matplotlib import pyplot as plt\n",
    "from sklearn.metrics import accuracy_score\n",
    "from sklearn.model_selection import train_test_split\n",
    "\n",
    "from aijack.attack.evasion import FGSMAttacker\n",
    "from aijack.collaborative.tree import (\n",
    "    XGBoostClassifierAPI,\n",
    "    XGBoostClient,\n",
    ")\n",
    "from aijack.utils import NumpyDataset\n",
    "\n",
    "BASE = \"data/\"\n",
    "torch.manual_seed(42)"
   ]
  },
  {
   "cell_type": "code",
   "execution_count": 3,
   "metadata": {
    "colab": {
     "base_uri": "https://localhost:8080/"
    },
    "id": "d2E7oZx_KuZU",
    "outputId": "8a82fbea-404e-40c0-f303-e37a26b30f60"
   },
   "outputs": [
    {
     "name": "stdout",
     "output_type": "stream",
     "text": [
      "Downloading http://yann.lecun.com/exdb/mnist/train-images-idx3-ubyte.gz\n",
      "Downloading http://yann.lecun.com/exdb/mnist/train-images-idx3-ubyte.gz to MNIST/raw/train-images-idx3-ubyte.gz\n"
     ]
    },
    {
     "name": "stderr",
     "output_type": "stream",
     "text": [
      "100%|██████████| 9912422/9912422 [00:00<00:00, 66438329.26it/s]\n"
     ]
    },
    {
     "name": "stdout",
     "output_type": "stream",
     "text": [
      "Extracting MNIST/raw/train-images-idx3-ubyte.gz to MNIST/raw\n",
      "\n",
      "Downloading http://yann.lecun.com/exdb/mnist/train-labels-idx1-ubyte.gz\n",
      "Downloading http://yann.lecun.com/exdb/mnist/train-labels-idx1-ubyte.gz to MNIST/raw/train-labels-idx1-ubyte.gz\n"
     ]
    },
    {
     "name": "stderr",
     "output_type": "stream",
     "text": [
      "100%|██████████| 28881/28881 [00:00<00:00, 64331223.49it/s]\n"
     ]
    },
    {
     "name": "stdout",
     "output_type": "stream",
     "text": [
      "Extracting MNIST/raw/train-labels-idx1-ubyte.gz to MNIST/raw\n",
      "\n",
      "Downloading http://yann.lecun.com/exdb/mnist/t10k-images-idx3-ubyte.gz\n",
      "Downloading http://yann.lecun.com/exdb/mnist/t10k-images-idx3-ubyte.gz to MNIST/raw/t10k-images-idx3-ubyte.gz\n"
     ]
    },
    {
     "name": "stderr",
     "output_type": "stream",
     "text": [
      "100%|██████████| 1648877/1648877 [00:00<00:00, 22731323.10it/s]\n"
     ]
    },
    {
     "name": "stdout",
     "output_type": "stream",
     "text": [
      "Extracting MNIST/raw/t10k-images-idx3-ubyte.gz to MNIST/raw\n",
      "\n",
      "Downloading http://yann.lecun.com/exdb/mnist/t10k-labels-idx1-ubyte.gz\n",
      "Downloading http://yann.lecun.com/exdb/mnist/t10k-labels-idx1-ubyte.gz to MNIST/raw/t10k-labels-idx1-ubyte.gz\n"
     ]
    },
    {
     "name": "stderr",
     "output_type": "stream",
     "text": [
      "100%|██████████| 4542/4542 [00:00<00:00, 5683331.97it/s]"
     ]
    },
    {
     "name": "stdout",
     "output_type": "stream",
     "text": [
      "Extracting MNIST/raw/t10k-labels-idx1-ubyte.gz to MNIST/raw\n",
      "\n"
     ]
    },
    {
     "name": "stderr",
     "output_type": "stream",
     "text": [
      "\n",
      "/usr/local/lib/python3.10/dist-packages/torchvision/datasets/mnist.py:75: UserWarning: train_data has been renamed data\n",
      "  warnings.warn(\"train_data has been renamed data\")\n",
      "/usr/local/lib/python3.10/dist-packages/torchvision/datasets/mnist.py:65: UserWarning: train_labels has been renamed targets\n",
      "  warnings.warn(\"train_labels has been renamed targets\")\n"
     ]
    }
   ],
   "source": [
    "mnist_dataset_train = torchvision.datasets.MNIST(root=\"\", train=True, download=True)\n",
    "\n",
    "transform = transforms.Compose(\n",
    "    [transforms.ToTensor(), transforms.Normalize((0.5,), (0.5,))]\n",
    ")\n",
    "\n",
    "X = mnist_dataset_train.train_data.numpy()\n",
    "y = mnist_dataset_train.train_labels.numpy()\n",
    "X_train, X_test, y_train, y_test = train_test_split(\n",
    "    X, y, test_size=0.33, random_state=42, shuffle=True\n",
    ")\n",
    "\n",
    "X_train = X_train[:2000]\n",
    "y_train = y_train[:2000]\n",
    "X_test = X_test[:1000]\n",
    "y_test = y_test[:1000]\n",
    "\n",
    "train_dataset = NumpyDataset(\n",
    "    X_train,\n",
    "    y_train,\n",
    "    transform=transform,\n",
    ")\n",
    "train_dataloader = torch.utils.data.DataLoader(\n",
    "    train_dataset, batch_size=16, shuffle=True, num_workers=2\n",
    ")\n",
    "\n",
    "test_dataset = NumpyDataset(\n",
    "    X_test,\n",
    "    y_test,\n",
    "    transform=transform,\n",
    ")\n",
    "test_dataloader = torch.utils.data.DataLoader(\n",
    "    test_dataset, batch_size=16, shuffle=True, num_workers=2\n",
    ")"
   ]
  },
  {
   "cell_type": "code",
   "execution_count": 4,
   "metadata": {
    "id": "T8lJ0X7SjHFB"
   },
   "outputs": [],
   "source": [
    "class Net(nn.Module):\n",
    "    def __init__(self):\n",
    "        super(Net, self).__init__()\n",
    "        self.fla = nn.Flatten()\n",
    "        self.fc1 = nn.Linear(28 * 28, 10)\n",
    "        # self.fc2 = nn.Linear(100, 10)\n",
    "\n",
    "    def forward(self, x):\n",
    "        x = self.fla(x)\n",
    "        x = self.fc1(x)\n",
    "        # x = torch.relu(x)\n",
    "        # x = self.fc2(x)\n",
    "        # x = F.softmax(x, dim=1)\n",
    "        return x"
   ]
  },
  {
   "cell_type": "code",
   "execution_count": 5,
   "metadata": {
    "id": "Z-MoJqPXjHqq"
   },
   "outputs": [],
   "source": [
    "net = Net()\n",
    "criterion = nn.CrossEntropyLoss()\n",
    "optimizer = optim.SGD(net.parameters(), lr=0.003, momentum=0.9)"
   ]
  },
  {
   "cell_type": "code",
   "execution_count": 6,
   "metadata": {
    "colab": {
     "base_uri": "https://localhost:8080/"
    },
    "id": "k1Qi44IdjRiU",
    "outputId": "e2f841d0-69d3-4821-8692-6420afe1e64e"
   },
   "outputs": [
    {
     "name": "stdout",
     "output_type": "stream",
     "text": [
      "epoch 0: loss is 0.06138062975555658\n",
      "epoch 1: loss is 0.03086455798149109\n",
      "epoch 2: loss is 0.026004610773175955\n",
      "epoch 3: loss is 0.024114671636372806\n",
      "epoch 4: loss is 0.02078699535317719\n",
      "epoch 5: loss is 0.019672507184557618\n",
      "epoch 6: loss is 0.018815230432897807\n",
      "epoch 7: loss is 0.01698792629688978\n",
      "epoch 8: loss is 0.01645607683621347\n",
      "epoch 9: loss is 0.01524037384428084\n",
      "epoch 10: loss is 0.014240541556850075\n",
      "epoch 11: loss is 0.013692389758303761\n",
      "epoch 12: loss is 0.012920912820845842\n",
      "epoch 13: loss is 0.012520179092884064\n",
      "epoch 14: loss is 0.012519657954573632\n",
      "epoch 15: loss is 0.011793930067680775\n",
      "epoch 16: loss is 0.011448755952529609\n",
      "epoch 17: loss is 0.010951191697269679\n",
      "epoch 18: loss is 0.010661566779017449\n",
      "epoch 19: loss is 0.010179236607626081\n",
      "epoch 20: loss is 0.009936179189942777\n",
      "epoch 21: loss is 0.009754820148460568\n",
      "epoch 22: loss is 0.00917115265596658\n",
      "epoch 23: loss is 0.009030795649625362\n",
      "epoch 24: loss is 0.008823388266377151\n",
      "epoch 25: loss is 0.008829819331876933\n",
      "epoch 26: loss is 0.008454289820045233\n",
      "epoch 27: loss is 0.008023065636865794\n",
      "epoch 28: loss is 0.007618186932988465\n",
      "epoch 29: loss is 0.007679891352541744\n",
      "\n",
      "Test Accuracy is:  0.873\n"
     ]
    }
   ],
   "source": [
    "for epoch in range(30):  # loop over the dataset multiple times\n",
    "    running_loss = 0\n",
    "    data_size = 0\n",
    "    for i, data in enumerate(train_dataloader, 0):\n",
    "        # get the inputs; data is a list of [inputs, labels]\n",
    "        inputs, labels = data\n",
    "\n",
    "        # zero the parameter gradients\n",
    "        optimizer.zero_grad()\n",
    "\n",
    "        # forward + backward + optimize\n",
    "        outputs = net(inputs)\n",
    "        loss = criterion(outputs, labels.to(torch.int64))\n",
    "        loss.backward()\n",
    "        optimizer.step()\n",
    "\n",
    "        running_loss += loss.item()\n",
    "        data_size += inputs.shape[0]\n",
    "\n",
    "    print(f\"epoch {epoch}: loss is {running_loss/data_size}\")\n",
    "\n",
    "\n",
    "in_preds = []\n",
    "in_label = []\n",
    "with torch.no_grad():\n",
    "    for data in test_dataloader:\n",
    "        inputs, labels = data\n",
    "        outputs = net(inputs)\n",
    "        in_preds.append(outputs)\n",
    "        in_label.append(labels)\n",
    "    in_preds = torch.cat(in_preds)\n",
    "    in_label = torch.cat(in_label)\n",
    "print(\n",
    "    \"\\nTest Accuracy is: \",\n",
    "    accuracy_score(np.array(torch.argmax(in_preds, axis=1)), np.array(in_label)),\n",
    ")"
   ]
  },
  {
   "cell_type": "markdown",
   "metadata": {
    "id": "eBRDCoZ-hOeW"
   },
   "source": [
    "## FGSM Attack against NN"
   ]
  },
  {
   "cell_type": "code",
   "execution_count": 7,
   "metadata": {
    "id": "e6pbzHb7jSEG"
   },
   "outputs": [],
   "source": [
    "x_origin = inputs[[0]]\n",
    "y_origin = labels[[0]]\n",
    "\n",
    "attacker = FGSMAttacker(\n",
    "    net, criterion, eps=0.3, grad_lower_bound=-0.15, grad_upper_bound=0.15\n",
    ")\n",
    "perturbed_x = attacker.attack((x_origin, y_origin.to(torch.int64)))"
   ]
  },
  {
   "cell_type": "code",
   "execution_count": 8,
   "metadata": {
    "colab": {
     "base_uri": "https://localhost:8080/",
     "height": 302
    },
    "id": "ZO3_lvc2mCPm",
    "outputId": "545bc5e3-0149-4e7c-e4c5-01a5e5ea222f"
   },
   "outputs": [
    {
     "data": {
      "text/plain": [
       "(-0.5, 27.5, 27.5, -0.5)"
      ]
     },
     "execution_count": 8,
     "metadata": {},
     "output_type": "execute_result"
    },
    {
     "data": {
      "image/png": "[encoded data removed]",
      "text/plain": [
       "<Figure size 640x480 with 2 Axes>"
      ]
     },
     "metadata": {},
     "output_type": "display_data"
    }
   ],
   "source": [
    "fig = plt.figure()\n",
    "fig.add_subplot(121)\n",
    "plt.imshow(x_origin[0][0].detach().numpy(), cmap=\"gray\", vmin=-1.0, vmax=1.0)\n",
    "plt.title(f\"Predicted Label: {net(x_origin).argmax().item()}\")\n",
    "plt.axis(\"off\")\n",
    "fig.add_subplot(122)\n",
    "plt.imshow(perturbed_x[0][0].detach().numpy(), cmap=\"gray\", vmin=-1.0, vmax=1.0)\n",
    "plt.title(f\"Predicted Label: {net(perturbed_x).argmax().item()}\")\n",
    "plt.axis(\"off\")"
   ]
  },
  {
   "cell_type": "markdown",
   "metadata": {
    "id": "iTS_qx0Ug_Ry"
   },
   "source": [
    "## XGBoost without Defense\n",
    "\n",
    "The adversarial example crafted above can also deceive the XGBoost model."
   ]
  },
  {
   "cell_type": "code",
   "execution_count": 9,
   "metadata": {
    "colab": {
     "base_uri": "https://localhost:8080/"
    },
    "id": "bqEk1VA-m0Ih",
    "outputId": "85646211-41ce-4bb4-9f08-bbda04155447"
   },
   "outputs": [
    {
     "name": "stdout",
     "output_type": "stream",
     "text": [
      "Train Accuracy:  0.998\n",
      "Test Accuracy:  0.836\n",
      "Predicted Label without Attack:  [9]\n",
      "Predicted Label with Attack:  [5]\n"
     ]
    }
   ],
   "source": [
    "min_leaf = 1\n",
    "depth = 6\n",
    "learning_rate = 0.3\n",
    "boosting_rounds = 10\n",
    "lam = 1.0\n",
    "gamma = 0.0\n",
    "eps = 1.0\n",
    "min_child_weight = -1 * float(\"inf\")\n",
    "subsample_cols = 0.8\n",
    "\n",
    "X_train_normalized = ((X_train / 255) * 2 - 1).reshape(-1, 28 * 28).tolist()\n",
    "X_test_normalized = ((X_test / 255) * 2 - 1).reshape(-1, 28 * 28).tolist()\n",
    "\n",
    "p0 = XGBoostClient(\n",
    "    X_train_normalized,\n",
    "    10,\n",
    "    list(range(28 * 28)),\n",
    "    0,\n",
    "    min_leaf,\n",
    "    subsample_cols,\n",
    "    32,\n",
    "    False,\n",
    "    0,\n",
    ")\n",
    "parties = [p0]\n",
    "\n",
    "clf = XGBoostClassifierAPI(\n",
    "    10,\n",
    "    subsample_cols,\n",
    "    min_child_weight,\n",
    "    depth,\n",
    "    min_leaf,\n",
    "    learning_rate,\n",
    "    boosting_rounds,\n",
    "    lam,\n",
    "    gamma,\n",
    "    eps,\n",
    "    -1,\n",
    "    0,\n",
    "    1.0,\n",
    "    1,\n",
    "    True,\n",
    "    False,\n",
    ")\n",
    "clf.fit(parties, y_train.tolist())\n",
    "\n",
    "predicted_proba = clf.predict_proba(X_train_normalized)\n",
    "print(\n",
    "    \"Train Accuracy: \",\n",
    "    accuracy_score(np.array(predicted_proba).argmax(axis=1), y_train),\n",
    ")\n",
    "predicted_proba = clf.predict_proba(X_test_normalized)\n",
    "print(\n",
    "    \"Test Accuracy: \", accuracy_score(np.array(predicted_proba).argmax(axis=1), y_test)\n",
    ")\n",
    "\n",
    "print(\n",
    "    \"Predicted Label without Attack: \",\n",
    "    np.array(\n",
    "        clf.predict_proba(x_origin[0][0].detach().numpy().reshape(1, -1).tolist())\n",
    "    ).argmax(1),\n",
    ")\n",
    "print(\n",
    "    \"Predicted Label with Attack: \",\n",
    "    np.array(\n",
    "        clf.predict_proba(perturbed_x[0][0].detach().numpy().reshape(1, -1).tolist())\n",
    "    ).argmax(1),\n",
    ")"
   ]
  },
  {
   "cell_type": "markdown",
   "metadata": {
    "id": "C_fdBRIChCKQ"
   },
   "source": [
    "## XGBoost using Attack-Cost Constraints"
   ]
  },
  {
   "cell_type": "code",
   "execution_count": 10,
   "metadata": {
    "colab": {
     "base_uri": "https://localhost:8080/"
    },
    "id": "1vxloHfQq06E",
    "outputId": "5ea8f965-0767-4fd7-bcde-55b8afd8b841"
   },
   "outputs": [
    {
     "name": "stdout",
     "output_type": "stream",
     "text": [
      "Train Accuracy:  0.975\n",
      "Test Accuracy:  0.84\n",
      "Predicted Label without Attack:  [9]\n",
      "Predicted Label with Attack:  [9]\n"
     ]
    }
   ],
   "source": [
    "p0 = XGBoostClient(\n",
    "    X_train_normalized,\n",
    "    10,\n",
    "    list(range(28 * 28)),\n",
    "    0,\n",
    "    min_leaf,\n",
    "    subsample_cols,\n",
    "    32,\n",
    "    False,\n",
    "    0,\n",
    ")\n",
    "# You can set the attack-cost constraint to each feature\n",
    "p0.set_cost_constraint_map([(-0.2, 0.2)] * (28 * 28))\n",
    "parties = [p0]\n",
    "\n",
    "clf = XGBoostClassifierAPI(\n",
    "    10,\n",
    "    subsample_cols,\n",
    "    min_child_weight,\n",
    "    depth,\n",
    "    min_leaf,\n",
    "    learning_rate,\n",
    "    boosting_rounds,\n",
    "    lam,\n",
    "    gamma,\n",
    "    eps,\n",
    "    -1,\n",
    "    0,\n",
    "    1.0,\n",
    "    1,\n",
    "    True,\n",
    "    True,\n",
    ")\n",
    "clf.fit(parties, y_train.tolist())\n",
    "\n",
    "predicted_proba = clf.predict_proba(X_train_normalized)\n",
    "print(\n",
    "    \"Train Accuracy: \",\n",
    "    accuracy_score(np.array(predicted_proba).argmax(axis=1), y_train),\n",
    ")\n",
    "predicted_proba = clf.predict_proba(X_test_normalized)\n",
    "print(\n",
    "    \"Test Accuracy: \", accuracy_score(np.array(predicted_proba).argmax(axis=1), y_test)\n",
    ")\n",
    "\n",
    "print(\n",
    "    \"Predicted Label without Attack: \",\n",
    "    np.array(\n",
    "        clf.predict_proba(x_origin[0][0].detach().numpy().reshape(1, -1).tolist())\n",
    "    ).argmax(1),\n",
    ")\n",
    "print(\n",
    "    \"Predicted Label with Attack: \",\n",
    "    np.array(\n",
    "        clf.predict_proba(perturbed_x[0][0].detach().numpy().reshape(1, -1).tolist())\n",
    "    ).argmax(1),\n",
    ")"
   ]
  }
 ],
 "metadata": {
  "colab": {
   "provenance": []
  },
  "kernelspec": {
   "display_name": "Python 3 (ipykernel)",
   "language": "python",
   "name": "python3"
  },
  "language_info": {
   "codemirror_mode": {
    "name": "ipython",
    "version": 3
   },
   "file_extension": ".py",
   "mimetype": "text/x-python",
   "name": "python",
   "nbconvert_exporter": "python",
   "pygments_lexer": "ipython3",
   "version": "3.10.6"
  }
 },
 "nbformat": 4,
 "nbformat_minor": 4
}
