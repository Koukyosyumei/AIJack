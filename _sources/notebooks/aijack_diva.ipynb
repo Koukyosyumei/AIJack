{
 "nbformat": 4,
 "nbformat_minor": 0,
 "metadata": {
  "colab": {
   "provenance": [],
   "machine_shape": "hm",
   "gpuType": "A100"
  },
  "kernelspec": {
   "name": "python3",
   "display_name": "Python 3"
  },
  "language_info": {
   "name": "python"
  },
  "accelerator": "GPU"
 },
 "cells": [
  {
   "cell_type": "markdown",
   "source": [
    "# DIVA\n",
    "\n",
    "Hao, Wei, et al. \"A tale of two models: Constructing evasive attacks on edge models.\" Proceedings of Machine Learning and Systems 4 (2022): 414-429."
   ],
   "metadata": {
    "id": "x4uvbBjOxHsr"
   }
  },
  {
   "cell_type": "code",
   "source": [
    "import cv2\n",
    "import numpy as np\n",
    "import torch\n",
    "import torch.nn as nn\n",
    "import torch.nn.functional as F\n",
    "import torch.optim as optim\n",
    "import torchvision\n",
    "import torchvision.transforms as transforms\n",
    "from torch.utils.data import TensorDataset\n",
    "from torch.utils.data import Dataset\n",
    "from matplotlib import pyplot as plt\n",
    "from sklearn.metrics import accuracy_score\n",
    "from sklearn.model_selection import train_test_split\n",
    "\n",
    "from aijack.attack import DIVAWhiteBoxAttacker\n",
    "from aijack.utils import NumpyDataset\n",
    "\n",
    "BASE = \"data/\"\n",
    "torch.manual_seed(42)\n",
    "\n",
    "device = torch.device(\"cuda:0\") if torch.cuda.is_available() else torch.device(\"cpu\")"
   ],
   "metadata": {
    "id": "Is8WtxVaKF9V"
   },
   "execution_count": 1,
   "outputs": []
  },
  {
   "cell_type": "code",
   "source": [
    "mnist_dataset_train = torchvision.datasets.MNIST(root=\"\", train=True, download=True)\n",
    "\n",
    "transform = transforms.Compose(\n",
    "    [transforms.ToTensor(), transforms.Normalize((0.5,), (0.5,))]\n",
    ")\n",
    "\n",
    "X = mnist_dataset_train.train_data.numpy()\n",
    "y = mnist_dataset_train.train_labels.numpy()\n",
    "X_train, X_test, y_train, y_test = train_test_split(\n",
    "    X, y, test_size=0.33, random_state=42, shuffle=True\n",
    ")\n",
    "\n",
    "# X_train = X_train[:2000]\n",
    "# y_train = y_train[:2000]\n",
    "# X_test = X_test[:1000]\n",
    "# y_test = y_test[:1000]\n",
    "\n",
    "train_dataset = NumpyDataset(\n",
    "    X_train,\n",
    "    y_train,\n",
    "    transform=transform,\n",
    ")\n",
    "train_dataloader = torch.utils.data.DataLoader(\n",
    "    train_dataset, batch_size=16, shuffle=True, num_workers=2\n",
    ")\n",
    "\n",
    "test_dataset = NumpyDataset(\n",
    "    X_test,\n",
    "    y_test,\n",
    "    transform=transform,\n",
    ")\n",
    "test_dataloader = torch.utils.data.DataLoader(\n",
    "    test_dataset, batch_size=16, shuffle=True, num_workers=2\n",
    ")"
   ],
   "metadata": {
    "colab": {
     "base_uri": "https://localhost:8080/"
    },
    "id": "mo2sih76OFOe",
    "outputId": "8915272c-7eb5-4916-bc52-c452a3c46a82"
   },
   "execution_count": 2,
   "outputs": [
    {
     "output_type": "stream",
     "name": "stderr",
     "text": [
      "/usr/local/lib/python3.10/dist-packages/torchvision/datasets/mnist.py:75: UserWarning: train_data has been renamed data\n",
      "  warnings.warn(\"train_data has been renamed data\")\n",
      "/usr/local/lib/python3.10/dist-packages/torchvision/datasets/mnist.py:65: UserWarning: train_labels has been renamed targets\n",
      "  warnings.warn(\"train_labels has been renamed targets\")\n"
     ]
    }
   ]
  },
  {
   "cell_type": "code",
   "source": [
    "class Net(nn.Module):\n",
    "    def __init__(self):\n",
    "        super(Net, self).__init__()\n",
    "        self.conv1 = nn.Conv2d(1, 6, 5)\n",
    "        self.relu1 = nn.ReLU()\n",
    "        self.pool1 = nn.MaxPool2d(2)\n",
    "        self.conv2 = nn.Conv2d(6, 16, 5)\n",
    "        self.relu2 = nn.ReLU()\n",
    "        self.pool2 = nn.MaxPool2d(2)\n",
    "        self.fc1 = nn.Linear(256, 120)\n",
    "        self.relu3 = nn.ReLU()\n",
    "        self.fc2 = nn.Linear(120, 84)\n",
    "        self.relu4 = nn.ReLU()\n",
    "        self.fc3 = nn.Linear(84, 10)\n",
    "        self.relu5 = nn.ReLU()\n",
    "\n",
    "    def forward(self, x):\n",
    "        y = self.conv1(x)\n",
    "        y = self.relu1(y)\n",
    "        y = self.pool1(y)\n",
    "        y = self.conv2(y)\n",
    "        y = self.relu2(y)\n",
    "        y = self.pool2(y)\n",
    "        y = y.view(y.shape[0], -1)\n",
    "        y = self.fc1(y)\n",
    "        y = self.relu3(y)\n",
    "        y = self.fc2(y)\n",
    "        y = self.relu4(y)\n",
    "        y = self.fc3(y)\n",
    "        y = self.relu5(y)\n",
    "        return y\n",
    "\n",
    "\n",
    "class LMNet(nn.Module):\n",
    "    def __init__(self):\n",
    "        super(LMNet, self).__init__()\n",
    "        self.fla = nn.Flatten()\n",
    "        self.fc1 = nn.Linear(28 * 28, 10)\n",
    "        # self.fc2 = nn.Linear(100, 10)\n",
    "\n",
    "    def forward(self, x):\n",
    "        x = self.fla(x)\n",
    "        x = self.fc1(x)\n",
    "        # x = torch.relu(x)\n",
    "        # x = self.fc2(x)\n",
    "        # x = F.softmax(x, dim=1)\n",
    "        return x"
   ],
   "metadata": {
    "id": "goRF52ELKLN4"
   },
   "execution_count": 3,
   "outputs": []
  },
  {
   "cell_type": "code",
   "source": [
    "net = Net().to(device)\n",
    "criterion = nn.CrossEntropyLoss()\n",
    "optimizer = optim.SGD(net.parameters(), lr=0.003, momentum=0.9)"
   ],
   "metadata": {
    "id": "aX5fXViERvcW"
   },
   "execution_count": 4,
   "outputs": []
  },
  {
   "cell_type": "code",
   "source": [
    "for epoch in range(10):  # loop over the dataset multiple times\n",
    "    running_loss = 0\n",
    "    data_size = 0\n",
    "    for i, data in enumerate(train_dataloader, 0):\n",
    "        # get the inputs; data is a list of [inputs, labels]\n",
    "        inputs, labels = data\n",
    "        inputs = inputs.to(device)\n",
    "        labels = labels.to(device)\n",
    "\n",
    "        # zero the parameter gradients\n",
    "        optimizer.zero_grad()\n",
    "\n",
    "        # forward + backward + optimize\n",
    "        outputs = net(inputs)\n",
    "        loss = criterion(outputs, labels.to(torch.int64))\n",
    "        loss.backward()\n",
    "        optimizer.step()\n",
    "\n",
    "        running_loss += loss.item()\n",
    "        data_size += inputs.shape[0]\n",
    "\n",
    "    print(f\"epoch {epoch}: loss is {running_loss/data_size}\")\n",
    "\n",
    "in_preds = []\n",
    "in_label = []\n",
    "with torch.no_grad():\n",
    "    for data in test_dataloader:\n",
    "        inputs, labels = data\n",
    "        inputs = inputs.to(device)\n",
    "        labels = labels.to(device)\n",
    "        outputs = net(inputs)\n",
    "        in_preds.append(outputs)\n",
    "        in_label.append(labels)\n",
    "    in_preds = torch.cat(in_preds)\n",
    "    in_label = torch.cat(in_label)\n",
    "print(\n",
    "    \"\\nTest Accuracy is: \",\n",
    "    accuracy_score(\n",
    "        np.array(torch.argmax(in_preds, axis=1).cpu()), np.array(in_label.cpu())\n",
    "    ),\n",
    ")"
   ],
   "metadata": {
    "colab": {
     "base_uri": "https://localhost:8080/"
    },
    "id": "EYun5CeIKMyy",
    "outputId": "e660f5b3-e984-4b02-f534-567b8347c09d"
   },
   "execution_count": 5,
   "outputs": [
    {
     "output_type": "stream",
     "name": "stdout",
     "text": [
      "epoch 0: loss is 0.04054302100458794\n",
      "epoch 1: loss is 0.01814291013776199\n",
      "epoch 2: loss is 0.0166187124224426\n",
      "epoch 3: loss is 0.009562910017942598\n",
      "epoch 4: loss is 0.002573704934469091\n",
      "epoch 5: loss is 0.0021106714805702396\n",
      "epoch 6: loss is 0.0017938830078365253\n",
      "epoch 7: loss is 0.0015096701963636125\n",
      "epoch 8: loss is 0.0014024900508528204\n",
      "epoch 9: loss is 0.0010703933892566083\n",
      "\n",
      "Test Accuracy is:  0.9825252525252526\n"
     ]
    }
   ]
  },
  {
   "cell_type": "code",
   "source": [
    "net_distilled = LMNet().to(device)\n",
    "criterion = nn.L1Loss()\n",
    "optimizer = optim.SGD(net_distilled.parameters(), lr=0.003, momentum=0.9)"
   ],
   "metadata": {
    "id": "1QMI-Lt8Zc3w"
   },
   "execution_count": 6,
   "outputs": []
  },
  {
   "cell_type": "code",
   "source": [
    "for epoch in range(20):  # loop over the dataset multiple times\n",
    "    running_loss = 0\n",
    "    data_size = 0\n",
    "    for i, data in enumerate(train_dataloader, 0):\n",
    "        # get the inputs; data is a list of [inputs, labels]\n",
    "        inputs, labels = data\n",
    "        inputs = inputs.to(device)\n",
    "        labels = net(inputs)\n",
    "\n",
    "        # zero the parameter gradients\n",
    "        optimizer.zero_grad()\n",
    "\n",
    "        # forward + backward + optimize\n",
    "        outputs = net_distilled(inputs)\n",
    "        loss = criterion(outputs, labels)\n",
    "        loss.backward()\n",
    "        optimizer.step()\n",
    "\n",
    "        running_loss += loss.item()\n",
    "        data_size += inputs.shape[0]\n",
    "\n",
    "    print(f\"epoch {epoch}: loss is {running_loss/data_size}\")\n",
    "\n",
    "in_preds = []\n",
    "in_label = []\n",
    "with torch.no_grad():\n",
    "    for data in test_dataloader:\n",
    "        inputs, labels = data\n",
    "        inputs = inputs.to(device)\n",
    "        labels = labels.to(device)\n",
    "        outputs = net_distilled(inputs)\n",
    "        in_preds.append(outputs)\n",
    "        in_label.append(labels)\n",
    "    in_preds = torch.cat(in_preds)\n",
    "    in_label = torch.cat(in_label)\n",
    "print(\n",
    "    \"\\nTest Accuracy is: \",\n",
    "    accuracy_score(\n",
    "        np.array(torch.argmax(in_preds, axis=1).cpu()), np.array(in_label.cpu())\n",
    "    ),\n",
    ")"
   ],
   "metadata": {
    "id": "BP3M0JmCKqf6",
    "colab": {
     "base_uri": "https://localhost:8080/"
    },
    "outputId": "daefe4f9-873f-49b8-b7a6-2feff8becac4"
   },
   "execution_count": 7,
   "outputs": [
    {
     "output_type": "stream",
     "name": "stdout",
     "text": [
      "epoch 0: loss is 0.1670569335761948\n",
      "epoch 1: loss is 0.15897891622574176\n",
      "epoch 2: loss is 0.15708679305380258\n",
      "epoch 3: loss is 0.1559841609742511\n",
      "epoch 4: loss is 0.15508358281346696\n",
      "epoch 5: loss is 0.15454466995315172\n",
      "epoch 6: loss is 0.1539939962394202\n",
      "epoch 7: loss is 0.15346056090065496\n",
      "epoch 8: loss is 0.15314420309529375\n",
      "epoch 9: loss is 0.15277839498436865\n",
      "epoch 10: loss is 0.1524997589540719\n",
      "epoch 11: loss is 0.15233479831052657\n",
      "epoch 12: loss is 0.15207505247189632\n",
      "epoch 13: loss is 0.1518335230018369\n",
      "epoch 14: loss is 0.15169831540454087\n",
      "epoch 15: loss is 0.15148778069078625\n",
      "epoch 16: loss is 0.15128053859988255\n",
      "epoch 17: loss is 0.15130577724667924\n",
      "epoch 18: loss is 0.15122654953999307\n",
      "epoch 19: loss is 0.15100575763491256\n",
      "\n",
      "Test Accuracy is:  0.7185858585858586\n"
     ]
    }
   ]
  },
  {
   "cell_type": "code",
   "source": [
    "c = 1.0\n",
    "num_itr = 1000\n",
    "eps = 0.15\n",
    "lam = 0.03\n",
    "\n",
    "torch.manual_seed(42)\n",
    "\n",
    "idx = 0\n",
    "x = torch.clone(inputs[[idx]])\n",
    "x_origin = torch.clone(x)\n",
    "y = labels[idx]\n",
    "\n",
    "attacker = DIVAWhiteBoxAttacker(net, net_distilled, c, num_itr, eps, lam, device)\n",
    "result = attacker.attack((x, y))"
   ],
   "metadata": {
    "id": "--8C46mULEH8"
   },
   "execution_count": 8,
   "outputs": []
  },
  {
   "cell_type": "code",
   "source": [
    "fig = plt.figure()\n",
    "\n",
    "fig.add_subplot(121)\n",
    "plt.imshow(inputs[[idx]].cpu()[0][0].detach().numpy(), cmap=\"gray\")\n",
    "plt.title(\n",
    "    f\"Original Image \\n Original Prediction: {net(inputs[[idx]]).argmax().item()} \\n  Edge Prediction: {net_distilled(inputs[[idx]]).argmax().item()}\"\n",
    ")\n",
    "plt.axis(\"off\")\n",
    "\n",
    "fig.add_subplot(122)\n",
    "plt.imshow(result[0].cpu()[0][0].detach().numpy(), cmap=\"gray\")\n",
    "plt.title(\n",
    "    f\"Perturbed Image \\n Original Prediction: {net(result[0]).argmax().item()} \\n  Edge Prediction: {net_distilled(result[0]).argmax().item()}\"\n",
    ")\n",
    "plt.axis(\"off\")"
   ],
   "metadata": {
    "colab": {
     "base_uri": "https://localhost:8080/",
     "height": 344
    },
    "id": "leoofiuvM8wH",
    "outputId": "8edaccb3-6529-440a-d867-01e6897a0c92"
   },
   "execution_count": 9,
   "outputs": [
    {
     "output_type": "execute_result",
     "data": {
      "text/plain": [
       "(-0.5, 27.5, 27.5, -0.5)"
      ]
     },
     "metadata": {},
     "execution_count": 9
    },
    {
     "output_type": "display_data",
     "data": {
      "text/plain": [
       "<Figure size 640x480 with 2 Axes>"
      ],
      "image/png": "[encoded data removed]"
     },
     "metadata": {}
    }
   ]
  },
  {
   "cell_type": "code",
   "source": [],
   "metadata": {
    "id": "y4t1eCv6wsYz"
   },
   "execution_count": 9,
   "outputs": []
  }
 ]
}