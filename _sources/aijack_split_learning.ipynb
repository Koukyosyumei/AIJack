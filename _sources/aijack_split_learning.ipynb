{
  "nbformat": 4,
  "nbformat_minor": 0,
  "metadata": {
    "colab": {
      "provenance": []
    },
    "kernelspec": {
      "name": "python3",
      "display_name": "Python 3"
    },
    "language_info": {
      "name": "python"
    }
  },
  "cells": [
    {
      "cell_type": "markdown",
      "source": [
        "# Split Learning and Label Leakage"
      ],
      "metadata": {
        "id": "BuyM4I2f-FrW"
      }
    },
    {
      "cell_type": "code",
      "source": [
        "import numpy as np\n",
        "import pandas as pd\n",
        "import torch\n",
        "import torch.nn as nn\n",
        "import torch.optim as optim\n",
        "from sklearn.preprocessing import StandardScaler\n",
        "from sklearn.model_selection import train_test_split\n",
        "\n",
        "from aijack.attack.labelleakage import NormAttackSplitNNManager\n",
        "from aijack.collaborative.splitnn import SplitNNAPI, SplitNNClient\n",
        "from aijack.utils import NumpyDataset"
      ],
      "metadata": {
        "id": "48I_xRo9-Hez"
      },
      "execution_count": 4,
      "outputs": []
    },
    {
      "cell_type": "code",
      "source": [
        "class FirstNet(nn.Module):\n",
        "    def __init__(self, train_features):\n",
        "        super(FirstNet, self).__init__()\n",
        "        self.L1 = nn.Linear(train_features.shape[-1], hidden_dim)\n",
        "\n",
        "    def forward(self, x):\n",
        "        x = self.L1(x)\n",
        "        x = nn.functional.relu(x)\n",
        "        return x\n",
        "\n",
        "\n",
        "class SecondNet(nn.Module):\n",
        "    def __init__(self):\n",
        "        super(SecondNet, self).__init__()\n",
        "        self.L2 = nn.Linear(hidden_dim, 1)\n",
        "\n",
        "    def forward(self, x):\n",
        "        x = self.L2(x)\n",
        "        x = torch.sigmoid(x)\n",
        "        return x"
      ],
      "metadata": {
        "id": "c6HcMly6_Yq9"
      },
      "execution_count": 5,
      "outputs": []
    },
    {
      "cell_type": "markdown",
      "source": [
        "## Parameters and Pre-processing"
      ],
      "metadata": {
        "id": "l3jrDrel_zsO"
      }
    },
    {
      "cell_type": "code",
      "source": [
        "batch_size = 5\n",
        "hidden_dim = 16\n",
        "num_communication = 2\n",
        "torch.manual_seed(10)"
      ],
      "metadata": {
        "colab": {
          "base_uri": "https://localhost:8080/"
        },
        "id": "YuqeDaJd_aEB",
        "outputId": "d138fcd9-e252-4ac4-a699-666680e74b99"
      },
      "execution_count": 6,
      "outputs": [
        {
          "output_type": "execute_result",
          "data": {
            "text/plain": [
              "<torch._C.Generator at 0x7fbb0c497cf0>"
            ]
          },
          "metadata": {},
          "execution_count": 6
        }
      ]
    },
    {
      "cell_type": "code",
      "source": [
        "raw_df = pd.read_csv(\n",
        "    \"https://storage.googleapis.com/download.tensorflow.org/data/creditcard.csv\"\n",
        ")\n",
        "raw_df_neg = raw_df[raw_df[\"Class\"] == 0]\n",
        "raw_df_pos = raw_df[raw_df[\"Class\"] == 1]\n",
        "\n",
        "down_df_neg = raw_df_neg  # .sample(40000)\n",
        "down_df = pd.concat([down_df_neg, raw_df_pos])\n",
        "\n",
        "neg, pos = np.bincount(down_df[\"Class\"])\n",
        "total = neg + pos\n",
        "print(\n",
        "    \"Examples:\\n    Total: {}\\n    Positive: {} ({:.2f}% of total)\\n\".format(\n",
        "        total, pos, 100 * pos / total\n",
        "    )\n",
        ")\n",
        "\n",
        "cleaned_df = down_df.copy()\n",
        "# You don't want the `Time` column.\n",
        "cleaned_df.pop(\"Time\")\n",
        "# The `Amount` column covers a huge range. Convert to log-space.\n",
        "eps = 0.001  # 0 => 0.1¢\n",
        "cleaned_df[\"Log Ammount\"] = np.log(cleaned_df.pop(\"Amount\") + eps)\n",
        "\n",
        "# Use a utility from sklearn to split and shuffle our dataset.\n",
        "train_df, test_df = train_test_split(cleaned_df, test_size=0.2)\n",
        "\n",
        "# Form np arrays of labels and features.\n",
        "train_labels = np.array(train_df.pop(\"Class\"))\n",
        "\n",
        "train_features = np.array(train_df)\n",
        "\n",
        "scaler = StandardScaler()\n",
        "train_features = scaler.fit_transform(train_features)\n",
        "train_features = np.clip(train_features, -5, 5)\n",
        "\n",
        "train_dataset = NumpyDataset(\n",
        "    train_features, train_labels.astype(np.float64).reshape(-1, 1)\n",
        ")\n",
        "train_loader = torch.utils.data.DataLoader(\n",
        "    train_dataset, batch_size=batch_size, shuffle=True\n",
        ")"
      ],
      "metadata": {
        "colab": {
          "base_uri": "https://localhost:8080/"
        },
        "id": "UCvh_MAW_j8O",
        "outputId": "5dbae678-8b71-4e75-da28-bacdaac51e91"
      },
      "execution_count": 7,
      "outputs": [
        {
          "output_type": "stream",
          "name": "stdout",
          "text": [
            "Examples:\n",
            "    Total: 284807\n",
            "    Positive: 492 (0.17% of total)\n",
            "\n"
          ]
        }
      ]
    },
    {
      "cell_type": "markdown",
      "source": [
        "## Split Learning"
      ],
      "metadata": {
        "id": "bopA4CdS_4-T"
      }
    },
    {
      "cell_type": "code",
      "source": [
        "model_1 = FirstNet(train_features)\n",
        "model_2 = SecondNet()\n",
        "model_1.double()\n",
        "model_2.double()\n",
        "opt_1 = optim.Adam(model_1.parameters(), lr=1e-3)\n",
        "opt_2 = optim.Adam(model_2.parameters(), lr=1e-3)\n",
        "optimizers = [opt_1, opt_2]\n",
        "client_1 = SplitNNClient(model_1, user_id=0)\n",
        "client_2 = SplitNNClient(model_2, user_id=0)\n",
        "clients = [client_1, client_2]\n",
        "criterion = nn.BCELoss()\n",
        "\n",
        "manager = NormAttackSplitNNManager(criterion, device=\"cpu\")\n",
        "NormAttackSplitNNAPI = manager.attach(SplitNNAPI)\n",
        "normattacksplitnn = NormAttackSplitNNAPI(\n",
        "        clients, optimizers, train_loader, criterion, num_communication\n",
        "    )\n",
        "\n",
        "normattacksplitnn.run()"
      ],
      "metadata": {
        "id": "O4o0y-tb_uwF"
      },
      "execution_count": 10,
      "outputs": []
    },
    {
      "cell_type": "markdown",
      "source": [
        "## Norm-based Label Leakage Attack"
      ],
      "metadata": {
        "id": "oy2i88aU_6nH"
      }
    },
    {
      "cell_type": "code",
      "source": [
        "train_leak_auc = normattacksplitnn.attack(train_loader)\n",
        "print(\"Leau AUC is \", train_leak_auc)"
      ],
      "metadata": {
        "colab": {
          "base_uri": "https://localhost:8080/"
        },
        "id": "mKK3FQLN_xY7",
        "outputId": "0e7b62a2-6980-4e3c-f993-2853351c6033"
      },
      "execution_count": 11,
      "outputs": [
        {
          "output_type": "stream",
          "name": "stdout",
          "text": [
            "Leau AUC is  0.9975959580734046\n"
          ]
        }
      ]
    }
  ]
}