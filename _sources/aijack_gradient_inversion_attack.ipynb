{
 "cells": [
  {
   "cell_type": "markdown",
   "metadata": {
    "id": "k0rUERH-551c"
   },
   "source": [
    "# Gradient-based Model Inversion Attack against Federated Learning\n",
    "\n",
    "In this tutorial, we will experiment gradient-based model inversion attack, which allows the malicious server of Federated Learning to reconstruct the private local dataset via the shared gradients. AIJack currently supports five gradient-based model inversion attacks. These methods reconstruct the private images by minimizing the distance between the fake gradients and the received gradients. Each method has its strategy, such as the distance metric and regularization terms."
   ]
  },
  {
   "cell_type": "code",
   "source": [
    "%%shell\n",
    "\n",
    "apt install -y libboost-all-dev\n",
    "pip install -U pip\n",
    "pip install \"pybind11[global]\"\n",
    "\n",
    "pip install git+https://github.com/Koukyosyumei/AIJack@dba"
   ],
   "metadata": {
    "colab": {
     "base_uri": "https://localhost:8080/"
    },
    "id": "P-wL93U-Y5WI",
    "outputId": "3bfd6cdc-9800-4dfd-86e8-af60cc19c0d4"
   },
   "execution_count": 1,
   "outputs": [
    {
     "output_type": "stream",
     "name": "stdout",
     "text": [
      "Reading package lists... Done\n",
      "Building dependency tree       \n",
      "Reading state information... Done\n",
      "libboost-all-dev is already the newest version (1.65.1.0ubuntu1).\n",
      "The following package was automatically installed and is no longer required:\n",
      "  libnvidia-common-460\n",
      "Use 'apt autoremove' to remove it.\n",
      "0 upgraded, 0 newly installed, 0 to remove and 20 not upgraded.\n",
      "Looking in indexes: https://pypi.org/simple, https://us-python.pkg.dev/colab-wheels/public/simple/\n",
      "Requirement already satisfied: pip in /usr/local/lib/python3.8/dist-packages (21.1.3)\n",
      "Collecting pip\n",
      "  Downloading pip-22.3.1-py3-none-any.whl (2.1 MB)\n",
      "\u001b[K     |████████████████████████████████| 2.1 MB 4.6 MB/s \n",
      "\u001b[?25hInstalling collected packages: pip\n",
      "  Attempting uninstall: pip\n",
      "    Found existing installation: pip 21.1.3\n",
      "    Uninstalling pip-21.1.3:\n",
      "      Successfully uninstalled pip-21.1.3\n",
      "Successfully installed pip-22.3.1\n",
      "Looking in indexes: https://pypi.org/simple, https://us-python.pkg.dev/colab-wheels/public/simple/\n",
      "Collecting pybind11[global]\n",
      "  Downloading pybind11-2.10.1-py3-none-any.whl (216 kB)\n",
      "\u001b[2K     \u001b[90m━━━━━━━━━━━━━━━━━━━━━━━━━━━━━━━━━━━━━━━\u001b[0m \u001b[32m216.1/216.1 kB\u001b[0m \u001b[31m5.6 MB/s\u001b[0m eta \u001b[36m0:00:00\u001b[0m\n",
      "\u001b[?25hCollecting pybind11-global==2.10.1\n",
      "  Downloading pybind11_global-2.10.1-py3-none-any.whl (388 kB)\n",
      "\u001b[2K     \u001b[90m━━━━━━━━━━━━━━━━━━━━━━━━━━━━━━━━━━━━━━\u001b[0m \u001b[32m388.9/388.9 kB\u001b[0m \u001b[31m11.5 MB/s\u001b[0m eta \u001b[36m0:00:00\u001b[0m\n",
      "\u001b[?25hInstalling collected packages: pybind11-global, pybind11\n",
      "Successfully installed pybind11-2.10.1 pybind11-global-2.10.1\n",
      "\u001b[33mWARNING: Running pip as the 'root' user can result in broken permissions and conflicting behaviour with the system package manager. It is recommended to use a virtual environment instead: https://pip.pypa.io/warnings/venv\u001b[0m\u001b[33m\n",
      "\u001b[0mLooking in indexes: https://pypi.org/simple, https://us-python.pkg.dev/colab-wheels/public/simple/\n",
      "Collecting git+https://github.com/Koukyosyumei/AIJack@dba\n",
      "  Cloning https://github.com/Koukyosyumei/AIJack (to revision dba) to /tmp/pip-req-build-9uhj1q9l\n",
      "  Running command git clone --filter=blob:none --quiet https://github.com/Koukyosyumei/AIJack /tmp/pip-req-build-9uhj1q9l\n",
      "  Running command git checkout -b dba --track origin/dba\n",
      "  Switched to a new branch 'dba'\n",
      "  Branch 'dba' set up to track remote branch 'dba' from 'origin'.\n",
      "  Resolved https://github.com/Koukyosyumei/AIJack to commit 658fdc11e4ea3a90eea3b2b0413bcbbe76ccf119\n",
      "  Installing build dependencies ... \u001b[?25l\u001b[?25hdone\n",
      "  Getting requirements to build wheel ... \u001b[?25l\u001b[?25hdone\n",
      "  Preparing metadata (pyproject.toml) ... \u001b[?25l\u001b[?25hdone\n",
      "Requirement already satisfied: scikit-learn in /usr/local/lib/python3.8/dist-packages (from aijack==0.0.0) (1.0.2)\n",
      "Collecting mpi4py\n",
      "  Downloading mpi4py-3.1.4.tar.gz (2.5 MB)\n",
      "\u001b[2K     \u001b[90m━━━━━━━━━━━━━━━━━━━━━━━━━━━━━━━━━━━━━━━━\u001b[0m \u001b[32m2.5/2.5 MB\u001b[0m \u001b[31m33.3 MB/s\u001b[0m eta \u001b[36m0:00:00\u001b[0m\n",
      "\u001b[?25h  Installing build dependencies ... \u001b[?25l\u001b[?25hdone\n",
      "  Getting requirements to build wheel ... \u001b[?25l\u001b[?25hdone\n",
      "  Preparing metadata (pyproject.toml) ... \u001b[?25l\u001b[?25hdone\n",
      "Requirement already satisfied: pybind11[global] in /usr/local/lib/python3.8/dist-packages (from aijack==0.0.0) (2.10.1)\n",
      "Requirement already satisfied: matplotlib in /usr/local/lib/python3.8/dist-packages (from aijack==0.0.0) (3.2.2)\n",
      "Requirement already satisfied: torch>=1.11.0 in /usr/local/lib/python3.8/dist-packages (from aijack==0.0.0) (1.13.0+cu116)\n",
      "Requirement already satisfied: numpy in /usr/local/lib/python3.8/dist-packages (from aijack==0.0.0) (1.21.6)\n",
      "Requirement already satisfied: tqdm in /usr/local/lib/python3.8/dist-packages (from aijack==0.0.0) (4.64.1)\n",
      "Requirement already satisfied: torchvision in /usr/local/lib/python3.8/dist-packages (from aijack==0.0.0) (0.14.0+cu116)\n",
      "Requirement already satisfied: typing-extensions in /usr/local/lib/python3.8/dist-packages (from torch>=1.11.0->aijack==0.0.0) (4.4.0)\n",
      "Requirement already satisfied: python-dateutil>=2.1 in /usr/local/lib/python3.8/dist-packages (from matplotlib->aijack==0.0.0) (2.8.2)\n",
      "Requirement already satisfied: pyparsing!=2.0.4,!=2.1.2,!=2.1.6,>=2.0.1 in /usr/local/lib/python3.8/dist-packages (from matplotlib->aijack==0.0.0) (3.0.9)\n",
      "Requirement already satisfied: kiwisolver>=1.0.1 in /usr/local/lib/python3.8/dist-packages (from matplotlib->aijack==0.0.0) (1.4.4)\n",
      "Requirement already satisfied: cycler>=0.10 in /usr/local/lib/python3.8/dist-packages (from matplotlib->aijack==0.0.0) (0.11.0)\n",
      "Requirement already satisfied: pybind11-global==2.10.1 in /usr/local/lib/python3.8/dist-packages (from pybind11[global]->aijack==0.0.0) (2.10.1)\n",
      "Requirement already satisfied: joblib>=0.11 in /usr/local/lib/python3.8/dist-packages (from scikit-learn->aijack==0.0.0) (1.2.0)\n",
      "Requirement already satisfied: scipy>=1.1.0 in /usr/local/lib/python3.8/dist-packages (from scikit-learn->aijack==0.0.0) (1.7.3)\n",
      "Requirement already satisfied: threadpoolctl>=2.0.0 in /usr/local/lib/python3.8/dist-packages (from scikit-learn->aijack==0.0.0) (3.1.0)\n",
      "Requirement already satisfied: pillow!=8.3.*,>=5.3.0 in /usr/local/lib/python3.8/dist-packages (from torchvision->aijack==0.0.0) (7.1.2)\n",
      "Requirement already satisfied: requests in /usr/local/lib/python3.8/dist-packages (from torchvision->aijack==0.0.0) (2.23.0)\n",
      "Requirement already satisfied: six>=1.5 in /usr/local/lib/python3.8/dist-packages (from python-dateutil>=2.1->matplotlib->aijack==0.0.0) (1.15.0)\n",
      "Requirement already satisfied: idna<3,>=2.5 in /usr/local/lib/python3.8/dist-packages (from requests->torchvision->aijack==0.0.0) (2.10)\n",
      "Requirement already satisfied: certifi>=2017.4.17 in /usr/local/lib/python3.8/dist-packages (from requests->torchvision->aijack==0.0.0) (2022.12.7)\n",
      "Requirement already satisfied: chardet<4,>=3.0.2 in /usr/local/lib/python3.8/dist-packages (from requests->torchvision->aijack==0.0.0) (3.0.4)\n",
      "Requirement already satisfied: urllib3!=1.25.0,!=1.25.1,<1.26,>=1.21.1 in /usr/local/lib/python3.8/dist-packages (from requests->torchvision->aijack==0.0.0) (1.24.3)\n",
      "Building wheels for collected packages: aijack, mpi4py\n",
      "  Building wheel for aijack (pyproject.toml) ... \u001b[?25l\u001b[?25hdone\n",
      "  Created wheel for aijack: filename=aijack-0.0.0-cp38-cp38-linux_x86_64.whl size=392103 sha256=dbbef38aec8e8a4c10fd80a23cf86ed68a8bb7ee170e0c91071f11c88e6e56bb\n",
      "  Stored in directory: /tmp/pip-ephem-wheel-cache-ml_eumxj/wheels/a9/55/c7/fa0956e01a5778063d4fc7d121d1584221d584ed5fd2405229\n",
      "  Building wheel for mpi4py (pyproject.toml) ... \u001b[?25l\u001b[?25hdone\n",
      "  Created wheel for mpi4py: filename=mpi4py-3.1.4-cp38-cp38-linux_x86_64.whl size=4438505 sha256=d5192b0a4d535bed18986032b43541300a305f1e2863699af475324ea0b09733\n",
      "  Stored in directory: /root/.cache/pip/wheels/98/ef/6f/4096878122fa934fc7d867fed58afd62d2ef2cfff1a88bf2fa\n",
      "Successfully built aijack mpi4py\n",
      "Installing collected packages: mpi4py, aijack\n",
      "Successfully installed aijack-0.0.0 mpi4py-3.1.4\n",
      "\u001b[33mWARNING: Running pip as the 'root' user can result in broken permissions and conflicting behaviour with the system package manager. It is recommended to use a virtual environment instead: https://pip.pypa.io/warnings/venv\u001b[0m\u001b[33m\n",
      "\u001b[0m"
     ]
    },
    {
     "output_type": "execute_result",
     "data": {
      "text/plain": []
     },
     "metadata": {},
     "execution_count": 1
    }
   ]
  },
  {
   "cell_type": "code",
   "execution_count": 1,
   "metadata": {
    "id": "2b1JISUQ5MXM"
   },
   "outputs": [],
   "source": [
    "import cv2\n",
    "import copy\n",
    "import torch\n",
    "import torch.nn as nn\n",
    "import torchvision\n",
    "import torchvision.transforms as transforms\n",
    "from numpy import e\n",
    "from matplotlib import pyplot as plt\n",
    "import torch.optim as optim\n",
    "from tqdm.notebook import tqdm\n",
    "\n",
    "from aijack.collaborative.fedavg import FedAVGAPI, FedAVGClient, FedAVGServer\n",
    "from aijack.attack.inversion import GradientInversionAttackServerManager\n",
    "from torch.utils.data import DataLoader, TensorDataset\n",
    "from aijack.utils import NumpyDataset\n",
    "\n",
    "import warnings\n",
    "\n",
    "warnings.filterwarnings(\"ignore\")"
   ]
  },
  {
   "cell_type": "code",
   "execution_count": 2,
   "metadata": {
    "id": "CrFIlyBs5Se2"
   },
   "outputs": [],
   "source": [
    "class LeNet(nn.Module):\n",
    "    def __init__(self, channel=3, hideen=768, num_classes=10):\n",
    "        super(LeNet, self).__init__()\n",
    "        act = nn.Sigmoid\n",
    "        self.body = nn.Sequential(\n",
    "            nn.Conv2d(channel, 12, kernel_size=5, padding=5 // 2, stride=2),\n",
    "            nn.BatchNorm2d(12),\n",
    "            act(),\n",
    "            nn.Conv2d(12, 12, kernel_size=5, padding=5 // 2, stride=2),\n",
    "            nn.BatchNorm2d(12),\n",
    "            act(),\n",
    "            nn.Conv2d(12, 12, kernel_size=5, padding=5 // 2, stride=1),\n",
    "            nn.BatchNorm2d(12),\n",
    "            act(),\n",
    "        )\n",
    "        self.fc = nn.Sequential(nn.Linear(hideen, num_classes))\n",
    "\n",
    "    def forward(self, x):\n",
    "        out = self.body(x)\n",
    "        out = out.view(out.size(0), -1)\n",
    "        out = self.fc(out)\n",
    "        return out"
   ]
  },
  {
   "cell_type": "code",
   "execution_count": 3,
   "metadata": {
    "id": "7jfBlFUS5Uk3"
   },
   "outputs": [],
   "source": [
    "def prepare_dataloader(path=\"MNIST/.\", batch_size=64, shuffle=True):\n",
    "    at_t_dataset_train = torchvision.datasets.MNIST(\n",
    "        root=path, train=True, download=True\n",
    "    )\n",
    "\n",
    "    transform = transforms.Compose(\n",
    "        [transforms.ToTensor(), transforms.Normalize((0.5,), (0.5,))]\n",
    "    )\n",
    "\n",
    "    dataset = NumpyDataset(\n",
    "        at_t_dataset_train.train_data.numpy(),\n",
    "        at_t_dataset_train.train_labels.numpy(),\n",
    "        transform=transform,\n",
    "    )\n",
    "\n",
    "    dataloader = torch.utils.data.DataLoader(\n",
    "        dataset, batch_size=batch_size, shuffle=shuffle, num_workers=0\n",
    "    )\n",
    "    return dataloader"
   ]
  },
  {
   "cell_type": "code",
   "execution_count": 4,
   "metadata": {
    "id": "W1SuaQLL7aTg"
   },
   "outputs": [],
   "source": [
    "torch.manual_seed(7777)\n",
    "\n",
    "shape_img = (28, 28)\n",
    "num_classes = 10\n",
    "channel = 1\n",
    "hidden = 588\n",
    "\n",
    "num_seeds = 5"
   ]
  },
  {
   "cell_type": "markdown",
   "metadata": {
    "id": "Zpt1sJxU9lVi"
   },
   "source": [
    "## Reconstruct Single Data\n",
    "\n",
    "First, we try to recover the following private image from the received gradients with the batch size of 1."
   ]
  },
  {
   "cell_type": "code",
   "execution_count": 5,
   "metadata": {
    "colab": {
     "base_uri": "https://localhost:8080/",
     "height": 85
    },
    "id": "z-dkdI2E5gE_",
    "outputId": "ce242131-adb8-4e00-cd66-de817ccbf70f"
   },
   "outputs": [
    {
     "output_type": "display_data",
     "data": {
      "text/plain": [
       "<Figure size 72x72 with 1 Axes>"
      ],
      "image/png": "[encoded data removed]"
     },
     "metadata": {
      "needs_background": "light"
     }
    }
   ],
   "source": [
    "device = torch.device(\"cuda:0\") if torch.cuda.is_available() else \"cpu\"\n",
    "dataloader = prepare_dataloader()\n",
    "for data in dataloader:\n",
    "    xs, ys = data[0], data[1]\n",
    "    break\n",
    "\n",
    "x = xs[:1]\n",
    "y = ys[:1]\n",
    "\n",
    "fig = plt.figure(figsize=(1, 1))\n",
    "plt.axis(\"off\")\n",
    "plt.imshow(x.detach().numpy()[0][0], cmap=\"gray\")\n",
    "plt.show()"
   ]
  },
  {
   "cell_type": "code",
   "execution_count": 6,
   "metadata": {
    "id": "UA3YUHqi6nq2"
   },
   "outputs": [],
   "source": [
    "criterion = nn.CrossEntropyLoss()"
   ]
  },
  {
   "cell_type": "markdown",
   "metadata": {
    "id": "zsetq0Lc-NVd"
   },
   "source": [
    "### DLG\n",
    "\n",
    "https://dlg.mit.edu/assets/NeurIPS19_deep_leakage_from_gradients.pdf\n",
    "\n",
    "- distance metric = L2 norm\n",
    "- optimize labels"
   ]
  },
  {
   "cell_type": "code",
   "execution_count": 9,
   "metadata": {
    "colab": {
     "base_uri": "https://localhost:8080/",
     "height": 108
    },
    "id": "4BAe6aEu5odr",
    "outputId": "0f637df8-817d-4179-de31-0441045ddf08"
   },
   "outputs": [
    {
     "output_type": "stream",
     "name": "stdout",
     "text": [
      "communication 0, epoch 0: client-1 2.641099691390991\n"
     ]
    },
    {
     "output_type": "display_data",
     "data": {
      "text/plain": [
       "<Figure size 360x144 with 5 Axes>"
      ],
      "image/png": "[encoded data removed]"
     },
     "metadata": {
      "needs_background": "light"
     }
    }
   ],
   "source": [
    "manager = GradientInversionAttackServerManager(\n",
    "    (1, 28, 28),\n",
    "    num_trial_per_communication=5,\n",
    "    log_interval=0,\n",
    "    num_iteration=100,\n",
    "    distancename=\"l2\",\n",
    "    device=device,\n",
    "    gradinvattack_kwargs={\"lr\": 1.0},\n",
    ")\n",
    "DLGFedAVGServer = manager.attach(FedAVGServer)\n",
    "\n",
    "client = FedAVGClient(\n",
    "    LeNet(channel=channel, hideen=hidden, num_classes=num_classes).to(device),\n",
    "    lr=1.0,\n",
    "    device=device,\n",
    ")\n",
    "server = DLGFedAVGServer(\n",
    "    [client],\n",
    "    LeNet(channel=channel, hideen=hidden, num_classes=num_classes).to(device),\n",
    "    lr=1.0,\n",
    "    device=device,\n",
    ")\n",
    "\n",
    "local_dataloaders = [DataLoader(TensorDataset(x, y))]\n",
    "local_optimizers = [optim.SGD(client.parameters(), lr=1.0)]\n",
    "\n",
    "api = FedAVGAPI(\n",
    "    server,\n",
    "    [client],\n",
    "    criterion,\n",
    "    local_optimizers,\n",
    "    local_dataloaders,\n",
    "    num_communication=1,\n",
    "    local_epoch=1,\n",
    "    use_gradients=True,\n",
    "    device=device,\n",
    ")\n",
    "\n",
    "api.run()\n",
    "\n",
    "fig = plt.figure(figsize=(5, 2))\n",
    "for s, result in enumerate(server.attack_results[0]):\n",
    "    ax = fig.add_subplot(1, len(server.attack_results[0]), s + 1)\n",
    "    ax.imshow(result[0].cpu().detach().numpy()[0][0], cmap=\"gray\")\n",
    "    ax.axis(\"off\")\n",
    "plt.tight_layout()\n",
    "plt.show()"
   ]
  },
  {
   "cell_type": "markdown",
   "metadata": {
    "id": "G1U9EU7UAsju"
   },
   "source": [
    "### GS Attack\n",
    "\n",
    "https://arxiv.org/abs/2003.14053\n",
    "\n",
    "- distance metric = cosine similarity\n",
    "- optimize labels\n",
    "- regularization: total-variance"
   ]
  },
  {
   "cell_type": "code",
   "execution_count": 10,
   "metadata": {
    "colab": {
     "base_uri": "https://localhost:8080/",
     "height": 162
    },
    "id": "PJAu_poY6q7L",
    "outputId": "cc804e87-34b0-47b2-b765-ee63af5142f9"
   },
   "outputs": [
    {
     "output_type": "stream",
     "name": "stdout",
     "text": [
      "communication 0, epoch 0: client-1 2.371312141418457\n",
      "iter=72: loss did not improve in the last 50 rounds.\n",
      "iter=75: loss did not improve in the last 50 rounds.\n"
     ]
    },
    {
     "output_type": "display_data",
     "data": {
      "text/plain": [
       "<Figure size 360x144 with 4 Axes>"
      ],
      "image/png": "[encoded data removed]"
     },
     "metadata": {
      "needs_background": "light"
     }
    }
   ],
   "source": [
    "manager = GradientInversionAttackServerManager(\n",
    "    (1, 28, 28),\n",
    "    num_trial_per_communication=5,\n",
    "    log_interval=0,\n",
    "    num_iteration=100,\n",
    "    tv_reg_coef=0.01,\n",
    "    distancename=\"cossim\",\n",
    "    device=device,\n",
    "    gradinvattack_kwargs={\"lr\": 1.0},\n",
    ")\n",
    "GSFedAVGServer = manager.attach(FedAVGServer)\n",
    "\n",
    "client = FedAVGClient(\n",
    "    LeNet(channel=channel, hideen=hidden, num_classes=num_classes).to(device),\n",
    "    lr=1.0,\n",
    "    device=device,\n",
    ")\n",
    "server = GSFedAVGServer(\n",
    "    [client],\n",
    "    LeNet(channel=channel, hideen=hidden, num_classes=num_classes).to(device),\n",
    "    lr=1.0,\n",
    "    device=device,\n",
    ")\n",
    "\n",
    "local_dataloaders = [DataLoader(TensorDataset(x, y))]\n",
    "local_optimizers = [optim.SGD(client.parameters(), lr=1.0)]\n",
    "\n",
    "api = FedAVGAPI(\n",
    "    server,\n",
    "    [client],\n",
    "    criterion,\n",
    "    local_optimizers,\n",
    "    local_dataloaders,\n",
    "    num_communication=1,\n",
    "    local_epoch=1,\n",
    "    use_gradients=True,\n",
    "    device=device,\n",
    ")\n",
    "\n",
    "api.run()\n",
    "\n",
    "fig = plt.figure(figsize=(5, 2))\n",
    "for s, result in enumerate(server.attack_results[0]):\n",
    "    ax = fig.add_subplot(1, len(server.attack_results[0]), s + 1)\n",
    "    ax.imshow(result[0].cpu().detach().numpy()[0][0], cmap=\"gray\")\n",
    "    ax.axis(\"off\")\n",
    "plt.tight_layout()\n",
    "plt.show()"
   ]
  },
  {
   "cell_type": "markdown",
   "metadata": {
    "id": "dHNW787NAhFR"
   },
   "source": [
    "### iDLG Attack\n",
    "\n",
    "https://arxiv.org/abs/2001.02610\n",
    "\n",
    "- distance metric = L2 norm\n",
    "- analytically estimate a label from the gradients"
   ]
  },
  {
   "cell_type": "code",
   "execution_count": 11,
   "metadata": {
    "colab": {
     "base_uri": "https://localhost:8080/",
     "height": 108
    },
    "id": "bv0qW14888Kh",
    "outputId": "dc077c7c-847b-4826-abc6-1590c1cdc4a1"
   },
   "outputs": [
    {
     "output_type": "stream",
     "name": "stdout",
     "text": [
      "communication 0, epoch 0: client-1 2.371312141418457\n"
     ]
    },
    {
     "output_type": "display_data",
     "data": {
      "text/plain": [
       "<Figure size 360x144 with 5 Axes>"
      ],
      "image/png": "[encoded data removed]"
     },
     "metadata": {
      "needs_background": "light"
     }
    }
   ],
   "source": [
    "manager = GradientInversionAttackServerManager(\n",
    "    (1, 28, 28),\n",
    "    num_trial_per_communication=5,\n",
    "    log_interval=0,\n",
    "    num_iteration=1000,\n",
    "    optimizer_class=torch.optim.SGD,\n",
    "    distancename=\"l2\",\n",
    "    optimize_label=False,\n",
    "    device=device,\n",
    "    gradinvattack_kwargs={\"lr\": 1.0},\n",
    ")\n",
    "iDLGFedAVGServer = manager.attach(FedAVGServer)\n",
    "\n",
    "client = FedAVGClient(\n",
    "    LeNet(channel=channel, hideen=hidden, num_classes=num_classes).to(device),\n",
    "    lr=1.0,\n",
    "    device=device,\n",
    ")\n",
    "server = iDLGFedAVGServer(\n",
    "    [client],\n",
    "    LeNet(channel=channel, hideen=hidden, num_classes=num_classes).to(device),\n",
    "    lr=1.0,\n",
    "    device=device,\n",
    ")\n",
    "\n",
    "local_dataloaders = [DataLoader(TensorDataset(x, y))]\n",
    "local_optimizers = [optim.SGD(client.parameters(), lr=1.0)]\n",
    "\n",
    "api = FedAVGAPI(\n",
    "    server,\n",
    "    [client],\n",
    "    criterion,\n",
    "    local_optimizers,\n",
    "    local_dataloaders,\n",
    "    num_communication=1,\n",
    "    local_epoch=1,\n",
    "    use_gradients=True,\n",
    "    device=device,\n",
    ")\n",
    "\n",
    "api.run()\n",
    "\n",
    "fig = plt.figure(figsize=(5, 2))\n",
    "for s, result in enumerate(server.attack_results[0]):\n",
    "    ax = fig.add_subplot(1, len(server.attack_results[0]), s + 1)\n",
    "    ax.imshow(result[0].cpu().detach().numpy()[0][0], cmap=\"gray\")\n",
    "    ax.axis(\"off\")\n",
    "plt.tight_layout()\n",
    "plt.show()"
   ]
  },
  {
   "cell_type": "markdown",
   "metadata": {
    "id": "-CTIH-k_AJ3x"
   },
   "source": [
    "### CPL Attack\n",
    "\n",
    "https://arxiv.org/abs/2004.10397\n",
    "\n",
    "- distance metric = L2 norm\n",
    "- analytically estimate an label from the gradients\n",
    "- regularization: label-matching"
   ]
  },
  {
   "cell_type": "code",
   "execution_count": 36,
   "metadata": {
    "colab": {
     "base_uri": "https://localhost:8080/",
     "height": 108
    },
    "id": "Lz-UJfvR9MDZ",
    "outputId": "69b1cc96-e80f-4fac-b641-b9885fe4bd1b"
   },
   "outputs": [
    {
     "output_type": "stream",
     "name": "stdout",
     "text": [
      "communication 0, epoch 0: client-1 2.5491995811462402\n"
     ]
    },
    {
     "output_type": "display_data",
     "data": {
      "text/plain": [
       "<Figure size 360x144 with 5 Axes>"
      ],
      "image/png": "[encoded data removed]"
     },
     "metadata": {
      "needs_background": "light"
     }
    }
   ],
   "source": [
    "manager = GradientInversionAttackServerManager(\n",
    "    (1, 28, 28),\n",
    "    num_trial_per_communication=5,\n",
    "    log_interval=0,\n",
    "    num_iteration=1000,\n",
    "    optimizer_class=torch.optim.SGD,\n",
    "    distancename=\"l2\",\n",
    "    optimize_label=False,\n",
    "    lm_reg_coef=0.01,\n",
    "    gradinvattack_kwargs={\"lr\": 1.0},\n",
    ")\n",
    "CPLFedAVGServer = manager.attach(FedAVGServer)\n",
    "\n",
    "client = FedAVGClient(\n",
    "    LeNet(channel=channel, hideen=hidden, num_classes=num_classes), lr=1.0\n",
    ")\n",
    "server = CPLFedAVGServer(\n",
    "    [client], LeNet(channel=channel, hideen=hidden, num_classes=num_classes), lr=1.0\n",
    ")\n",
    "\n",
    "local_dataloaders = [DataLoader(TensorDataset(x, y))]\n",
    "local_optimizers = [optim.SGD(client.parameters(), lr=1.0)]\n",
    "\n",
    "api = FedAVGAPI(\n",
    "    server,\n",
    "    [client],\n",
    "    criterion,\n",
    "    local_optimizers,\n",
    "    local_dataloaders,\n",
    "    num_communication=1,\n",
    "    local_epoch=1,\n",
    "    use_gradients=True,\n",
    ")\n",
    "\n",
    "api.run()\n",
    "\n",
    "fig = plt.figure(figsize=(5, 2))\n",
    "for s, result in enumerate(server.attack_results[0]):\n",
    "    ax = fig.add_subplot(1, len(server.attack_results[0]), s + 1)\n",
    "    ax.imshow(result[0].cpu().detach().numpy()[0][0], cmap=\"gray\")\n",
    "    ax.axis(\"off\")\n",
    "plt.tight_layout()\n",
    "plt.show()"
   ]
  },
  {
   "cell_type": "markdown",
   "metadata": {
    "id": "e-TYM84K_9wn"
   },
   "source": [
    "## Reconstruct Batched Data\n",
    "\n",
    "Second, we simulate the situatino with larger batch size. We try to recover the bellow three images."
   ]
  },
  {
   "cell_type": "code",
   "execution_count": 23,
   "metadata": {
    "colab": {
     "base_uri": "https://localhost:8080/",
     "height": 89
    },
    "id": "CIrFdMAF-4LX",
    "outputId": "a65a3711-2f7a-4045-95e4-e8f2592d5b69"
   },
   "outputs": [
    {
     "output_type": "display_data",
     "data": {
      "text/plain": [
       "<Figure size 216x144 with 3 Axes>"
      ],
      "image/png": "[encoded data removed]"
     },
     "metadata": {
      "needs_background": "light"
     }
    }
   ],
   "source": [
    "batch_size = 3\n",
    "x_batch = xs[:batch_size]\n",
    "y_batch = ys[:batch_size]\n",
    "\n",
    "fig = plt.figure(figsize=(3, 2))\n",
    "for bi in range(batch_size):\n",
    "    ax = fig.add_subplot(1, batch_size, bi + 1)\n",
    "    ax.imshow(x_batch[bi].detach().numpy()[0], cmap=\"gray\")\n",
    "    ax.axis(\"off\")\n",
    "plt.tight_layout()\n",
    "plt.show()"
   ]
  },
  {
   "cell_type": "markdown",
   "metadata": {
    "id": "Z8Sh_1Fn_VeG"
   },
   "source": [
    "### GradInversion\n",
    "\n",
    "https://arxiv.org/abs/2104.07586\n",
    "\n",
    "- distance metric = L2 norm\n",
    "- analytically estimate labels from the gradients\n",
    "- reguralization: total-variance, l2, bn, and group-consistency"
   ]
  },
  {
   "cell_type": "code",
   "source": [
    "from aijack.attack.inversion import GradientInversion_Attack\n",
    "\n",
    "net = LeNet(channel=channel, hideen=hidden, num_classes=num_classes)\n",
    "pred = net(x_batch)\n",
    "loss = criterion(pred, y_batch)\n",
    "received_gradients = torch.autograd.grad(loss, net.parameters())\n",
    "received_gradients = [cg.detach() for cg in received_gradients]\n",
    "\n",
    "gradinversion = GradientInversion_Attack(\n",
    "    net,\n",
    "    (1, 28, 28),\n",
    "    num_iteration=1000,\n",
    "    lr=1e2,\n",
    "    log_interval=0,\n",
    "    optimizer_class=torch.optim.SGD,\n",
    "    distancename=\"l2\",\n",
    "    optimize_label=False,\n",
    "    bn_reg_layers=[net.body[1], net.body[4], net.body[7]],\n",
    "    group_num=3,\n",
    "    tv_reg_coef=0.00,\n",
    "    l2_reg_coef=0.0001,\n",
    "    bn_reg_coef=0.001,\n",
    "    gc_reg_coef=0.001,\n",
    ")\n",
    "\n",
    "result = gradinversion.group_attack(received_gradients, batch_size=batch_size)\n",
    "\n",
    "fig = plt.figure(figsize=(3, 2))\n",
    "for bid in range(batch_size):\n",
    "    ax1 = fig.add_subplot(1, batch_size, bid + 1)\n",
    "    ax1.imshow((sum(result[0]) / len(result[0])).detach().numpy()[bid][0], cmap=\"gray\")\n",
    "    ax1.axis(\"off\")\n",
    "plt.tight_layout()\n",
    "plt.show()"
   ],
   "metadata": {
    "colab": {
     "base_uri": "https://localhost:8080/",
     "height": 89
    },
    "id": "5Dnp5tQoA1qm",
    "outputId": "d538b96e-e2a6-46e0-b9b6-f36a34a07640"
   },
   "execution_count": 24,
   "outputs": [
    {
     "output_type": "display_data",
     "data": {
      "text/plain": [
       "<Figure size 216x144 with 3 Axes>"
      ],
      "image/png": "[encoded data removed]"
     },
     "metadata": {
      "needs_background": "light"
     }
    }
   ]
  },
  {
   "cell_type": "code",
   "source": [],
   "metadata": {
    "id": "cjSDtkOYC4AF"
   },
   "execution_count": null,
   "outputs": []
  }
 ],
 "metadata": {
  "colab": {
   "provenance": []
  },
  "kernelspec": {
   "display_name": "Python 3",
   "language": "python",
   "name": "python3"
  },
  "language_info": {
   "codemirror_mode": {
    "name": "ipython",
    "version": 3
   },
   "file_extension": ".py",
   "mimetype": "text/x-python",
   "name": "python",
   "nbconvert_exporter": "python",
   "pygments_lexer": "ipython3",
   "version": "3.9.1"
  },
  "accelerator": "GPU",
  "gpuClass": "standard"
 },
 "nbformat": 4,
 "nbformat_minor": 0
}