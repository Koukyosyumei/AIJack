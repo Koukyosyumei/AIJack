{
 "cells": [
  {
   "cell_type": "markdown",
   "metadata": {
    "id": "P8wROD_6LpGB"
   },
   "source": [
    "# Evasion Attack against SVM"
   ]
  },
  {
   "cell_type": "code",
   "execution_count": 1,
   "metadata": {
    "id": "95a_wOJp7-IK"
   },
   "outputs": [],
   "source": [
    "import os\n",
    "import time\n",
    "import copy\n",
    "\n",
    "import numpy as np\n",
    "import sklearn\n",
    "from sklearn import datasets\n",
    "from sklearn import metrics\n",
    "from sklearn.svm import SVC\n",
    "from sklearn.model_selection import train_test_split\n",
    "import matplotlib.pyplot as plt\n",
    "\n",
    "from aijack.attack import Evasion_attack_sklearn"
   ]
  },
  {
   "cell_type": "code",
   "execution_count": 2,
   "metadata": {
    "id": "LrZdLFAlEBu_"
   },
   "outputs": [],
   "source": [
    "mnist = datasets.fetch_openml(\"mnist_784\", version=1, data_home=\".\", return_X_y=True)\n",
    "imagedata, labeldata = mnist[0].values, mnist[1].values\n",
    "\n",
    "index_3 = [i for i, x in enumerate(labeldata) if x == \"3\"]\n",
    "index_7 = [i for i, x in enumerate(labeldata) if x == \"7\"]\n",
    "image_data_3_7 = imagedata[index_3 + index_7]\n",
    "label_data_3_7 = labeldata[index_3 + index_7]\n",
    "\n",
    "(\n",
    "    imagedata_training,\n",
    "    imagedata_validation,\n",
    "    labeldata_training,\n",
    "    labeldata_validation,\n",
    ") = train_test_split(image_data_3_7, label_data_3_7, test_size=0.2, shuffle=True)\n",
    "\n",
    "imagedata_training = imagedata_training / 255.0\n",
    "imagedata_validation = imagedata_validation / 255.0\n",
    "\n",
    "X_train = imagedata_training[:5000]\n",
    "y_train = labeldata_training[:5000]\n",
    "X_valid = imagedata_validation[:500]\n",
    "y_valid = labeldata_validation[:500]"
   ]
  },
  {
   "cell_type": "markdown",
   "metadata": {
    "id": "YMMsT2c6Kjg1"
   },
   "source": [
    "## Train the target classification model"
   ]
  },
  {
   "cell_type": "code",
   "execution_count": 3,
   "metadata": {
    "colab": {
     "base_uri": "https://localhost:8080/"
    },
    "id": "3_DYIYsZKHnk",
    "outputId": "0adf299b-6384-40f1-e1c7-ea31427a67b4"
   },
   "outputs": [
    {
     "name": "stdout",
     "output_type": "stream",
     "text": [
      "              precision    recall  f1-score   support\n",
      "\n",
      "           3       1.00      0.96      0.98       220\n",
      "           7       0.97      1.00      0.98       280\n",
      "\n",
      "    accuracy                           0.98       500\n",
      "   macro avg       0.98      0.98      0.98       500\n",
      "weighted avg       0.98      0.98      0.98       500\n",
      "\n"
     ]
    }
   ],
   "source": [
    "clf = SVC(kernel=\"linear\")\n",
    "clf.fit(X_train, y_train)\n",
    "\n",
    "predict = clf.predict(X_valid)\n",
    "\n",
    "ac_score = metrics.accuracy_score(y_valid, predict)\n",
    "cl_report = metrics.classification_report(y_valid, predict)\n",
    "print(cl_report)"
   ]
  },
  {
   "cell_type": "markdown",
   "metadata": {
    "id": "zhYhzLTqKmVH"
   },
   "source": [
    "## Evasion Attack"
   ]
  },
  {
   "cell_type": "code",
   "execution_count": 4,
   "metadata": {
    "id": "9rL-9uUiKRvt"
   },
   "outputs": [],
   "source": [
    "X_minus_1 = X_train[np.where(y_train == \"3\")]\n",
    "attacker = Evasion_attack_sklearn(\n",
    "    target_model=clf,\n",
    "    X_minus_1=X_minus_1,\n",
    "    dmax=(5000 / 255) * 2.5,\n",
    "    max_iter=300,\n",
    "    gamma=1 / (X_train.shape[1] * np.var(X_train)),\n",
    "    lam=10,\n",
    "    t=0.5,\n",
    "    h=10,\n",
    ")\n",
    "\n",
    "x0 = X_valid[np.where(y_valid == \"7\")[0][0]]\n",
    "xm, g_list = attacker.attack(copy.copy(x0))"
   ]
  },
  {
   "cell_type": "code",
   "execution_count": 5,
   "metadata": {
    "colab": {
     "base_uri": "https://localhost:8080/",
     "height": 161
    },
    "id": "ksFiF57gKnmU",
    "outputId": "07c22d5f-4425-4bcd-eb98-7a8e015053a0"
   },
   "outputs": [
    {
     "data": {
      "image/png": "[encoded data removed]",
      "text/plain": [
       "<Figure size 288x144 with 2 Axes>"
      ]
     },
     "metadata": {
      "needs_background": "light"
     },
     "output_type": "display_data"
    }
   ],
   "source": [
    "fig, axes = plt.subplots(1, 2, figsize=(4, 2))\n",
    "\n",
    "\n",
    "axes[0].imshow(x0.reshape(28, 28), cmap=\"gray\")\n",
    "axes[0].set_title(f\"original example \\n prediction: {clf.predict(x0.reshape(1, -1))}\")\n",
    "\n",
    "axes[1].imshow(xm.reshape(28, 28), cmap=\"gray\")\n",
    "axes[1].set_title(\n",
    "    f\"adversarial example \\n prediction: {clf.predict(xm.reshape(1, -1))}\"\n",
    ")\n",
    "\n",
    "fig.tight_layout()\n",
    "# fig.savefig(\"output_10.png\")\n",
    "fig.show()"
   ]
  }
 ],
 "metadata": {
  "colab": {
   "collapsed_sections": [],
   "provenance": []
  },
  "kernelspec": {
   "display_name": "Python 3",
   "name": "python3"
  },
  "language_info": {
   "name": "python"
  }
 },
 "nbformat": 4,
 "nbformat_minor": 0
}
