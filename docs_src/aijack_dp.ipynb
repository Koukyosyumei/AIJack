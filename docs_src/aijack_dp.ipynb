{
  "cells": [
    {
      "cell_type": "markdown",
      "metadata": {
        "id": "0dXrMoeQjW9k"
      },
      "source": [
        "# Differential Privacy and Moment Accountant"
      ]
    },
    {
      "cell_type": "markdown",
      "metadata": {
        "id": "i7XDhuFWj-4-"
      },
      "source": [
        "AIJack supports Moment Accountant for Differential Privacy with python or c++ backend. C++ backend is much faster but numerically unstable. We will improve these imeplementations as soon as possible."
      ]
    },
    {
      "cell_type": "code",
      "execution_count": 1,
      "metadata": {
        "id": "boLebEnKj8na"
      },
      "outputs": [],
      "source": [
        "import numpy as np\n",
        "import torch\n",
        "import torch.nn as nn\n",
        "import torch.nn.functional as F\n",
        "import torch.optim as optim\n",
        "\n",
        "from tqdm.notebook import tqdm\n",
        "\n",
        "from matplotlib import pyplot as plt\n",
        "\n",
        "from aijack.defense import GeneralMomentAccountant"
      ]
    },
    {
      "cell_type": "markdown",
      "metadata": {
        "id": "de4LaYb6jdvJ"
      },
      "source": [
        "## Get $ϵ$"
      ]
    },
    {
      "cell_type": "code",
      "execution_count": 2,
      "metadata": {
        "colab": {
          "base_uri": "https://localhost:8080/"
        },
        "id": "AiOERonSj3-2",
        "outputId": "5658af7d-cc93-4dcc-9428-b40234713c3d"
      },
      "outputs": [
        {
          "name": "stderr",
          "output_type": "stream",
          "text": [
            "/usr/local/lib/python3.7/dist-packages/aijack/defense/dp/manager/accountant.py:160: RuntimeWarning: invalid value encountered in log\n",
            "  + np.log((order - 1) / order)\n"
          ]
        }
      ],
      "source": [
        "# get epsilon\n",
        "\n",
        "result_a = []\n",
        "result_b = []\n",
        "result_c = []\n",
        "\n",
        "iterations = 100\n",
        "noise_multiplier = 5.0\n",
        "delta = 1e-5\n",
        "\n",
        "for i in range(1, 101):\n",
        "    sampling_rate = i / 100\n",
        "\n",
        "    ga = GeneralMomentAccountant(\n",
        "        noise_type=\"Gaussian\",\n",
        "        search=\"ternary\",\n",
        "        precision=0.01,\n",
        "        order_max=0,\n",
        "        order_min=72,\n",
        "        bound_type=\"rdp_upperbound_closedformula\",\n",
        "        backend=\"python\",\n",
        "    )\n",
        "\n",
        "    ga.reset_step_info()\n",
        "    ga.add_step_info({\"sigma\": noise_multiplier}, sampling_rate, iterations)\n",
        "    temp = ga.get_epsilon(delta)\n",
        "    result_a.append(temp)\n",
        "\n",
        "    ga = GeneralMomentAccountant(\n",
        "        noise_type=\"Gaussian\",\n",
        "        search=\"greedy\",\n",
        "        precision=0.001,\n",
        "        orders=list(range(2, 64)),\n",
        "        bound_type=\"rdp_tight_upperbound\",\n",
        "    )\n",
        "\n",
        "    ga.reset_step_info()\n",
        "    ga.add_step_info({\"sigma\": noise_multiplier}, sampling_rate, iterations)\n",
        "    temp = ga.get_epsilon(delta)\n",
        "    result_b.append(temp)\n",
        "\n",
        "    ga = GeneralMomentAccountant(\n",
        "        noise_type=\"Gaussian\",\n",
        "        search=\"ternary\",\n",
        "        precision=0.01,\n",
        "        order_max=0,\n",
        "        order_min=72,\n",
        "        bound_type=\"rdp_upperbound_closedformula\",\n",
        "        backend=\"cpp\",\n",
        "    )\n",
        "\n",
        "    ga.reset_step_info()\n",
        "    ga.add_step_info({\"sigma\": noise_multiplier}, sampling_rate, iterations)\n",
        "    temp = ga.get_epsilon(delta)\n",
        "    result_c.append(temp)"
      ]
    },
    {
      "cell_type": "code",
      "execution_count": 3,
      "metadata": {
        "colab": {
          "base_uri": "https://localhost:8080/",
          "height": 315
        },
        "id": "zvufy1y6kkR4",
        "outputId": "e4791aa4-0b56-487c-cdd8-989c812401ce"
      },
      "outputs": [
        {
          "data": {
            "text/plain": [
              "<matplotlib.legend.Legend at 0x7fbe4cf71dd0>"
            ]
          },
          "execution_count": 3,
          "metadata": {},
          "output_type": "execute_result"
        },
        {
          "data": {
            "image/png": "[encoded data removed]",
            "text/plain": [
              "<Figure size 432x288 with 1 Axes>"
            ]
          },
          "metadata": {
            "needs_background": "light"
          },
          "output_type": "display_data"
        }
      ],
      "source": [
        "plt.plot([i / 100 for i in range(1, 101)], result_a, label=\"AiJack SGM (python)\")\n",
        "plt.plot([i / 100 for i in range(1, 101)], result_b, label=\"AiJack tight_upperbound\")\n",
        "plt.plot([i / 100 for i in range(1, 101)], result_c, label=\"AiJack SGM (cpp)\")\n",
        "plt.title(\"result of `get_epsilon`\")\n",
        "plt.xlabel(\"sampling_rate\")\n",
        "plt.ylabel(\"epsilon\")\n",
        "plt.legend()"
      ]
    },
    {
      "cell_type": "markdown",
      "metadata": {
        "id": "LhlillRRjkCO"
      },
      "source": [
        "## Get $σ$"
      ]
    },
    {
      "cell_type": "code",
      "execution_count": 4,
      "metadata": {
        "colab": {
          "base_uri": "https://localhost:8080/"
        },
        "id": "3UEbZsUjkyg1",
        "outputId": "af0fcea4-4319-4acd-b7f4-c10857ec147d"
      },
      "outputs": [
        {
          "name": "stdout",
          "output_type": "stream",
          "text": [
            "4.130859375\n",
            "4.130859375\n"
          ]
        }
      ],
      "source": [
        "ga = GeneralMomentAccountant(\n",
        "    noise_type=\"Gaussian\",\n",
        "    search=\"greedy\",\n",
        "    precision=0.001,\n",
        "    orders=list(range(2, 64)),\n",
        "    bound_type=\"rdp_tight_upperbound\",\n",
        ")\n",
        "\n",
        "ga_1 = GeneralMomentAccountant(\n",
        "    noise_type=\"Gaussian\",\n",
        "    search=\"ternary\",\n",
        "    precision=0.001,\n",
        "    order_max=0,\n",
        "    order_min=72,\n",
        "    bound_type=\"rdp_upperbound_closedformula\",\n",
        ")\n",
        "\n",
        "print(ga.get_noise_multiplier(\"sigma\", 1, 1e-5, 0.01, 100))\n",
        "print(ga_1.get_noise_multiplier(\"sigma\", 1, 1e-5, 0.01, 100))"
      ]
    }
  ],
  "metadata": {
    "colab": {
      "collapsed_sections": [],
      "provenance": []
    },
    "kernelspec": {
      "display_name": "Python 3",
      "name": "python3"
    },
    "language_info": {
      "name": "python"
    }
  },
  "nbformat": 4,
  "nbformat_minor": 0
}
